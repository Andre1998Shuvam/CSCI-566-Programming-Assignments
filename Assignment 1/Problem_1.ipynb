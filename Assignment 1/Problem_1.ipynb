{
 "cells": [
  {
   "cell_type": "markdown",
   "metadata": {
    "id": "huyV5qn3RTfv"
   },
   "source": [
    "# Problem 1: Basics of Neural Networks\n",
    "* <b>Learning Objective:</b> In this problem, you are asked to implement a basic multi-layer fully connected neural network from scratch, including forward and backward passes of certain essential layers, to perform an image classification task on the SVHN dataset. You need to implement essential functions in different indicated python files under directory `lib`.\n",
    "* <b>Provided Code:</b> We provide the skeletons of classes you need to complete. Forward checking and gradient checkings are provided for verifying your implementation as well.\n",
    "* <b>TODOs:</b> You are asked to implement the forward passes and backward passes for standard layers and loss functions, various widely-used optimizers, and part of the training procedure. And finally we want you to train a network from scratch on your own. Also, there are inline questions you need to answer. See `README.md` to set up your environment."
   ]
  },
  {
   "cell_type": "code",
   "execution_count": 3,
   "metadata": {
    "colab": {
     "base_uri": "https://localhost:8080/"
    },
    "executionInfo": {
     "elapsed": 3826,
     "status": "ok",
     "timestamp": 1645151576542,
     "user": {
      "displayName": "Shuvam Ghosal",
      "photoUrl": "https://lh3.googleusercontent.com/a-/AOh14Ggl_opQYXICfek7WwYGFNVZfIEdc8mxLeqoxEZn=s64",
      "userId": "08961952555119329655"
     },
     "user_tz": 480
    },
    "id": "I9dtFHEoRTf3",
    "outputId": "65632dbe-dc83-4a31-b8fd-1370c261f2df"
   },
   "outputs": [
    {
     "name": "stdout",
     "output_type": "stream",
     "text": [
      "The Zen of Python, by Tim Peters\n",
      "\n",
      "Beautiful is better than ugly.\n",
      "Explicit is better than implicit.\n",
      "Simple is better than complex.\n",
      "Complex is better than complicated.\n",
      "Flat is better than nested.\n",
      "Sparse is better than dense.\n",
      "Readability counts.\n",
      "Special cases aren't special enough to break the rules.\n",
      "Although practicality beats purity.\n",
      "Errors should never pass silently.\n",
      "Unless explicitly silenced.\n",
      "In the face of ambiguity, refuse the temptation to guess.\n",
      "There should be one-- and preferably only one --obvious way to do it.\n",
      "Although that way may not be obvious at first unless you're Dutch.\n",
      "Now is better than never.\n",
      "Although never is often better than *right* now.\n",
      "If the implementation is hard to explain, it's a bad idea.\n",
      "If the implementation is easy to explain, it may be a good idea.\n",
      "Namespaces are one honking great idea -- let's do more of those!\n"
     ]
    }
   ],
   "source": [
    "from lib.mlp.fully_conn import *\n",
    "from lib.mlp.layer_utils import *\n",
    "from lib.mlp.datasets import *\n",
    "from lib.mlp.train import *\n",
    "from lib.grad_check import *\n",
    "from lib.optim import *\n",
    "import numpy as np\n",
    "import matplotlib.pyplot as plt\n",
    "\n",
    "%matplotlib inline\n",
    "plt.rcParams['figure.figsize'] = (10.0, 8.0) # set default size of plots\n",
    "plt.rcParams['image.interpolation'] = 'nearest'\n",
    "plt.rcParams['image.cmap'] = 'gray'\n",
    "\n",
    "# for auto-reloading external modules\n",
    "# see http://stackoverflow.com/questions/1907993/autoreload-of-modules-in-ipython\n",
    "%load_ext autoreload\n",
    "%autoreload 2"
   ]
  },
  {
   "cell_type": "markdown",
   "metadata": {
    "id": "hUlHkgSQRTf9"
   },
   "source": [
    "## Loading the data (SVHN)\n",
    "Run the following code block to download SVHN dataset and load in the properly splitted SVHN data. The script `get_datasets.sh` use `wget` to download the SVHN dataset. If you have a trouble with executing `get_datasets.sh`, you can manually download the dataset and extract files."
   ]
  },
  {
   "cell_type": "code",
   "execution_count": 4,
   "metadata": {
    "colab": {
     "base_uri": "https://localhost:8080/"
    },
    "executionInfo": {
     "elapsed": 195,
     "status": "ok",
     "timestamp": 1644457869642,
     "user": {
      "displayName": "Shuvam Ghosal",
      "photoUrl": "https://lh3.googleusercontent.com/a-/AOh14Ggl_opQYXICfek7WwYGFNVZfIEdc8mxLeqoxEZn=s64",
      "userId": "08961952555119329655"
     },
     "user_tz": 480
    },
    "id": "mFbAGqdtRTgA",
    "outputId": "ed9e7d4a-77b9-4efc-f37e-8227bcb1c6da"
   },
   "outputs": [
    {
     "name": "stdout",
     "output_type": "stream",
     "text": [
      "/bin/bash: ./get_datasets.sh: Permission denied\r\n"
     ]
    }
   ],
   "source": [
    "!./get_datasets.sh\n",
    "# !get_datasets.sh for windows users"
   ]
  },
  {
   "cell_type": "markdown",
   "metadata": {
    "id": "3cazLailRTgE"
   },
   "source": [
    "Load the dataset."
   ]
  },
  {
   "cell_type": "code",
   "execution_count": 4,
   "metadata": {
    "colab": {
     "base_uri": "https://localhost:8080/"
    },
    "executionInfo": {
     "elapsed": 7274,
     "status": "ok",
     "timestamp": 1645151587514,
     "user": {
      "displayName": "Shuvam Ghosal",
      "photoUrl": "https://lh3.googleusercontent.com/a-/AOh14Ggl_opQYXICfek7WwYGFNVZfIEdc8mxLeqoxEZn=s64",
      "userId": "08961952555119329655"
     },
     "user_tz": 480
    },
    "id": "6RClqlhJRTgH",
    "outputId": "482b37ab-8d07-456b-927c-fd92137dcb27"
   },
   "outputs": [
    {
     "name": "stdout",
     "output_type": "stream",
     "text": [
      "Name: data_train Shape: (70000, 32, 32, 3)\n",
      "Name: labels_train Shape: (70000,)\n",
      "Name: data_val Shape: (3257, 32, 32, 3)\n",
      "Name: labels_val Shape: (3257,)\n",
      "Name: data_test Shape: (26032, 32, 32, 3)\n",
      "Name: labels_test Shape: (26032,)\n"
     ]
    }
   ],
   "source": [
    "data = SVHN_data()\n",
    "for k, v in data.items():\n",
    "    print (\"Name: {} Shape: {}\".format(k, v.shape))"
   ]
  },
  {
   "cell_type": "markdown",
   "metadata": {
    "id": "yGZY6tdGRTgJ"
   },
   "source": [
    "## Implement Standard Layers\n",
    "You will now implement all the following standard layers commonly seen in a fully connected neural network (aka multi-layer perceptron, MLP). Please refer to the file `lib/mlp/layer_utils.py`. Take a look at each class skeleton, and we will walk you through the network layer by layer. We provide results of some examples we pre-computed for you for checking the forward pass, and also the gradient checking for the backward pass."
   ]
  },
  {
   "cell_type": "markdown",
   "metadata": {
    "id": "6-uKKOJdRTgL"
   },
   "source": [
    "## FC Forward [2pt]\n",
    "In the class skeleton `flatten` and `fc` in `lib/mlp/layer_utils.py`, please complete the forward pass in function `forward`. The input to the `fc` layer may not be of dimension (batch size, features size), it could be an image or any higher dimensional data. We want to convert the input to have a shape of (batch size, features size). Make sure that you handle this dimensionality issue. "
   ]
  },
  {
   "cell_type": "code",
   "execution_count": null,
   "metadata": {
    "colab": {
     "base_uri": "https://localhost:8080/"
    },
    "executionInfo": {
     "elapsed": 211,
     "status": "ok",
     "timestamp": 1644457904623,
     "user": {
      "displayName": "Shuvam Ghosal",
      "photoUrl": "https://lh3.googleusercontent.com/a-/AOh14Ggl_opQYXICfek7WwYGFNVZfIEdc8mxLeqoxEZn=s64",
      "userId": "08961952555119329655"
     },
     "user_tz": 480
    },
    "id": "8_kS4EzXRTgO",
    "outputId": "d4680cf1-ee20-4f6c-ecb9-dca7869c8696"
   },
   "outputs": [
    {
     "name": "stdout",
     "output_type": "stream",
     "text": [
      "Difference:  4.02601593296122e-09\n"
     ]
    }
   ],
   "source": [
    "%reload_ext autoreload\n",
    "\n",
    "# Test the fc forward function\n",
    "input_bz = 3 # batch size\n",
    "input_dim = (7, 6, 4)\n",
    "output_dim = 4\n",
    "\n",
    "input_size = input_bz * np.prod(input_dim)\n",
    "weight_size = output_dim * np.prod(input_dim)\n",
    "\n",
    "flatten_layer = flatten(name=\"flatten_test\")\n",
    "single_fc = fc(np.prod(input_dim), output_dim, init_scale=0.02, name=\"fc_test\")\n",
    "\n",
    "x = np.linspace(-0.1, 0.4, num=input_size).reshape(input_bz, *input_dim)\n",
    "w = np.linspace(-0.2, 0.2, num=weight_size).reshape(np.prod(input_dim), output_dim)\n",
    "b = np.linspace(-0.3, 0.3, num=output_dim)\n",
    "\n",
    "single_fc.params[single_fc.w_name] = w\n",
    "single_fc.params[single_fc.b_name] = b\n",
    "\n",
    "out = single_fc.forward(flatten_layer.forward(x))\n",
    "\n",
    "correct_out = np.array([[0.63910291, 0.83740057, 1.03569824, 1.23399591],\n",
    "                        [0.61401587, 0.82903823, 1.04406058, 1.25908294],\n",
    "                        [0.58892884, 0.82067589, 1.05242293, 1.28416997]])\n",
    "\n",
    "# Compare your output with the above pre-computed ones. \n",
    "# The difference should not be larger than 1e-8\n",
    "print (\"Difference: \", rel_error(out, correct_out))"
   ]
  },
  {
   "cell_type": "markdown",
   "metadata": {
    "id": "ukNWwlFaRTgV"
   },
   "source": [
    "## FC Backward [2pt]\n",
    "Please complete the function `backward` as the backward pass of the `flatten` and `fc` layers. Follow the instructions in the comments to store gradients into the predefined dictionaries in the attributes of the class. Parameters of the layer are also stored in the predefined dictionary."
   ]
  },
  {
   "cell_type": "code",
   "execution_count": 12,
   "metadata": {
    "colab": {
     "base_uri": "https://localhost:8080/"
    },
    "executionInfo": {
     "elapsed": 725,
     "status": "ok",
     "timestamp": 1645151687509,
     "user": {
      "displayName": "Shuvam Ghosal",
      "photoUrl": "https://lh3.googleusercontent.com/a-/AOh14Ggl_opQYXICfek7WwYGFNVZfIEdc8mxLeqoxEZn=s64",
      "userId": "08961952555119329655"
     },
     "user_tz": 480
    },
    "id": "yj_FlFaHrTZA",
    "outputId": "07ce71bc-ff32-4c18-c1f8-265bf553322c"
   },
   "outputs": [
    {
     "name": "stdout",
     "output_type": "stream",
     "text": [
      "dx Error:  2.5302444188748507e-10\n",
      "dw Error:  3.815991468640179e-10\n",
      "db Error:  2.931021911401633e-11\n",
      "dinp Shape:  (15, 2, 2, 3) (15, 2, 2, 3)\n"
     ]
    }
   ],
   "source": [
    "%reload_ext autoreload\n",
    "\n",
    "# Test the fc backward function\n",
    "inp = np.random.randn(15, 2, 2, 3)\n",
    "w = np.random.randn(12, 15)\n",
    "b = np.random.randn(15)\n",
    "dout = np.random.randn(15, 15)\n",
    "\n",
    "flatten_layer = flatten(name=\"flatten_test\")\n",
    "x = flatten_layer.forward(inp)\n",
    "single_fc = fc(np.prod(x.shape[1:]), 15, init_scale=5e-2, name=\"fc_test\")\n",
    "single_fc.params[single_fc.w_name] = w\n",
    "single_fc.params[single_fc.b_name] = b\n",
    "\n",
    "dx_num = eval_numerical_gradient_array(lambda x: single_fc.forward(x), x, dout)\n",
    "dw_num = eval_numerical_gradient_array(lambda w: single_fc.forward(x), w, dout)\n",
    "db_num = eval_numerical_gradient_array(lambda b: single_fc.forward(x), b, dout)\n",
    "\n",
    "out = single_fc.forward(x)\n",
    "dx = single_fc.backward(dout)\n",
    "dw = single_fc.grads[single_fc.w_name]\n",
    "db = single_fc.grads[single_fc.b_name]\n",
    "dinp = flatten_layer.backward(dx)\n",
    "\n",
    "# The error should be around 1e-9\n",
    "print(\"dx Error: \", rel_error(dx_num, dx))\n",
    "# The errors should be around 1e-10\n",
    "print(\"dw Error: \", rel_error(dw_num, dw))\n",
    "print(\"db Error: \", rel_error(db_num, db))\n",
    "# The shapes should be same\n",
    "print(\"dinp Shape: \", dinp.shape, inp.shape)"
   ]
  },
  {
   "cell_type": "markdown",
   "metadata": {
    "id": "UY05Obq8RTgi"
   },
   "source": [
    "## Leaky ReLU Forward [2pt]\n",
    "In the class skeleton `leaky_relu` in `lib/mlp/layer_utils.py`, please complete the `forward` pass.\n",
    "\n",
    "A \"leaky\" ReLU is similar to a ReLU, but rather than zero-ing out features valued less than 0, they are multiplied by a constant value less than 1.\n",
    "\n",
    "$$\n",
    "LeakyReLU(x) = \\begin{cases} x & x \\geq 0 \\\\ c * x & x \\lt 0 \\\\ \\end{cases}\\text{, where } 0 \\leq c \\lt 1\n",
    "$$\n",
    "\n",
    "When $c = 0$, a Leaky ReLU is equivalent to a standard ReLU."
   ]
  },
  {
   "cell_type": "code",
   "execution_count": null,
   "metadata": {
    "colab": {
     "base_uri": "https://localhost:8080/"
    },
    "executionInfo": {
     "elapsed": 170,
     "status": "ok",
     "timestamp": 1644457912248,
     "user": {
      "displayName": "Shuvam Ghosal",
      "photoUrl": "https://lh3.googleusercontent.com/a-/AOh14Ggl_opQYXICfek7WwYGFNVZfIEdc8mxLeqoxEZn=s64",
      "userId": "08961952555119329655"
     },
     "user_tz": 480
    },
    "id": "vHlly5KqRTgk",
    "outputId": "5c484505-0b0b-48a1-cde8-a94695156cc6"
   },
   "outputs": [
    {
     "name": "stdout",
     "output_type": "stream",
     "text": [
      "Difference:  1.3333332805929594e-08\n"
     ]
    }
   ],
   "source": [
    "%reload_ext autoreload\n",
    "\n",
    "# Test the leaky_relu forward function\n",
    "x = np.linspace(-1.5, 1.5, num=12).reshape(3, 4)\n",
    "lrelu_f = leaky_relu(negative_slope=0.01, name=\"leaky_relu_f\")\n",
    "\n",
    "out = lrelu_f.forward(x)\n",
    "\n",
    "correct_out = np.array([[-0.015,        -0.0122727273, -0.0095454545, -0.0068181818],\n",
    "                        [-0.0040909091, -0.0013636364,  0.1363636364,  0.4090909091],\n",
    "                        [ 0.6818181818,  0.9545454545,  1.2272727273,  1.5         ]])\n",
    "\n",
    "# Compare your output with the above pre-computed ones. \n",
    "# The difference should not be larger than 1e-7\n",
    "print (\"Difference: \", rel_error(out, correct_out))"
   ]
  },
  {
   "cell_type": "markdown",
   "metadata": {
    "id": "8KB0ugw2RTgn"
   },
   "source": [
    "## Leaky ReLU Backward [2pt]\n",
    "Please complete the `backward` pass of the class `leaky_relu`."
   ]
  },
  {
   "cell_type": "code",
   "execution_count": null,
   "metadata": {
    "colab": {
     "base_uri": "https://localhost:8080/"
    },
    "executionInfo": {
     "elapsed": 191,
     "status": "ok",
     "timestamp": 1644457916353,
     "user": {
      "displayName": "Shuvam Ghosal",
      "photoUrl": "https://lh3.googleusercontent.com/a-/AOh14Ggl_opQYXICfek7WwYGFNVZfIEdc8mxLeqoxEZn=s64",
      "userId": "08961952555119329655"
     },
     "user_tz": 480
    },
    "id": "MiPZho58RTg1",
    "outputId": "dd080525-7de8-49a4-eb9d-2936e09ebcc3"
   },
   "outputs": [
    {
     "name": "stdout",
     "output_type": "stream",
     "text": [
      "dx Error:  5.704230471002436e-12\n"
     ]
    }
   ],
   "source": [
    "%reload_ext autoreload\n",
    "\n",
    "# Test the relu backward function\n",
    "x = np.random.randn(15, 15)\n",
    "dout = np.random.randn(*x.shape)\n",
    "lrelu_b = leaky_relu(negative_slope=0.01, name=\"leaky_relu_b\")\n",
    "\n",
    "dx_num = eval_numerical_gradient_array(lambda x: lrelu_b.forward(x), x, dout)\n",
    "\n",
    "out = lrelu_b.forward(x)\n",
    "dx = lrelu_b.backward(dout)\n",
    "\n",
    "# The error should not be larger than 1e-10\n",
    "print (\"dx Error: \", rel_error(dx_num, dx))"
   ]
  },
  {
   "cell_type": "markdown",
   "metadata": {
    "id": "2fHGUCbyRTg7"
   },
   "source": [
    "## Dropout Forward [2pt]\n",
    "In the class `dropout` in `lib/mlp/layer_utils.py`, please complete the `forward` pass.  \n",
    "Remember that the dropout is **only applied during training phase**, you should pay attention to this while implementing the function.\n",
    "##### Important Note1: The probability argument input to the function is the \"keep probability\": probability that each activation is kept.\n",
    "##### Important Note2: If the keep_prob is set to 0, make it as no dropout."
   ]
  },
  {
   "cell_type": "code",
   "execution_count": null,
   "metadata": {
    "colab": {
     "base_uri": "https://localhost:8080/"
    },
    "executionInfo": {
     "elapsed": 183,
     "status": "ok",
     "timestamp": 1644457924575,
     "user": {
      "displayName": "Shuvam Ghosal",
      "photoUrl": "https://lh3.googleusercontent.com/a-/AOh14Ggl_opQYXICfek7WwYGFNVZfIEdc8mxLeqoxEZn=s64",
      "userId": "08961952555119329655"
     },
     "user_tz": 480
    },
    "id": "7BzY2iVJRTg9",
    "outputId": "dadfdfdc-7e72-4ce7-fbae-7b367c6244cd"
   },
   "outputs": [
    {
     "name": "stdout",
     "output_type": "stream",
     "text": [
      "----------------------------------------------------------------\n",
      "Dropout Keep Prob =  0\n",
      "Mean of input:  5.009380685738692\n",
      "Mean of output during training time:  5.009380685738692\n",
      "Mean of output during testing time:  5.009380685738692\n",
      "Fraction of output set to zero during training time:  0.0\n",
      "Fraction of output set to zero during testing time:  0.0\n",
      "----------------------------------------------------------------\n",
      "Dropout Keep Prob =  0.25\n",
      "Mean of input:  5.009380685738692\n",
      "Mean of output during training time:  5.039166402303678\n",
      "Mean of output during testing time:  5.009380685738692\n",
      "Fraction of output set to zero during training time:  0.7488\n",
      "Fraction of output set to zero during testing time:  0.0\n",
      "----------------------------------------------------------------\n",
      "Dropout Keep Prob =  0.5\n",
      "Mean of input:  5.009380685738692\n",
      "Mean of output during training time:  4.988234953616904\n",
      "Mean of output during testing time:  5.009380685738692\n",
      "Fraction of output set to zero during training time:  0.5024\n",
      "Fraction of output set to zero during testing time:  0.0\n",
      "----------------------------------------------------------------\n",
      "Dropout Keep Prob =  0.75\n",
      "Mean of input:  5.009380685738692\n",
      "Mean of output during training time:  5.02541846825427\n",
      "Mean of output during testing time:  5.009380685738692\n",
      "Fraction of output set to zero during training time:  0.2489\n",
      "Fraction of output set to zero during testing time:  0.0\n",
      "----------------------------------------------------------------\n",
      "Dropout Keep Prob =  1\n",
      "Mean of input:  5.009380685738692\n",
      "Mean of output during training time:  5.009380685738692\n",
      "Mean of output during testing time:  5.009380685738692\n",
      "Fraction of output set to zero during training time:  0.0\n",
      "Fraction of output set to zero during testing time:  0.0\n",
      "----------------------------------------------------------------\n"
     ]
    }
   ],
   "source": [
    "%reload_ext autoreload\n",
    "\n",
    "x = np.random.randn(100, 100) + 5.0\n",
    "\n",
    "print (\"----------------------------------------------------------------\")\n",
    "for p in [0, 0.25, 0.50, 0.75, 1]:\n",
    "    dropout_f = dropout(keep_prob=p)\n",
    "    out = dropout_f.forward(x, True)\n",
    "    out_test = dropout_f.forward(x, False)\n",
    "\n",
    "    # Mean of output should be similar to mean of input\n",
    "    # Means of output during training time and testing time should be similar\n",
    "    print (\"Dropout Keep Prob = \", p)\n",
    "    print (\"Mean of input: \", x.mean())\n",
    "    print (\"Mean of output during training time: \", out.mean())\n",
    "    print (\"Mean of output during testing time: \", out_test.mean())\n",
    "    print (\"Fraction of output set to zero during training time: \", (out == 0).mean())\n",
    "    print (\"Fraction of output set to zero during testing time: \", (out_test == 0).mean())\n",
    "    print (\"----------------------------------------------------------------\")"
   ]
  },
  {
   "cell_type": "markdown",
   "metadata": {
    "id": "6AT8VR32RThF"
   },
   "source": [
    "## Dropout Backward [2pt]\n",
    "Please complete the `backward` pass. Again remember that the dropout is only applied during training phase, handle this in the backward pass as well."
   ]
  },
  {
   "cell_type": "code",
   "execution_count": null,
   "metadata": {
    "colab": {
     "base_uri": "https://localhost:8080/"
    },
    "executionInfo": {
     "elapsed": 247,
     "status": "ok",
     "timestamp": 1644457933621,
     "user": {
      "displayName": "Shuvam Ghosal",
      "photoUrl": "https://lh3.googleusercontent.com/a-/AOh14Ggl_opQYXICfek7WwYGFNVZfIEdc8mxLeqoxEZn=s64",
      "userId": "08961952555119329655"
     },
     "user_tz": 480
    },
    "id": "-OoBiTCcRThG",
    "outputId": "f9a380a4-016b-4600-c602-6c707d9b19c5"
   },
   "outputs": [
    {
     "name": "stdout",
     "output_type": "stream",
     "text": [
      "dx relative error:  3.003116820582261e-11\n"
     ]
    }
   ],
   "source": [
    "%reload_ext autoreload\n",
    "\n",
    "x = np.random.randn(5, 5) + 5\n",
    "dout = np.random.randn(*x.shape)\n",
    "\n",
    "keep_prob = 0.75\n",
    "dropout_b = dropout(keep_prob, seed=100)\n",
    "out = dropout_b.forward(x, True, seed=1)\n",
    "dx = dropout_b.backward(dout)\n",
    "dx_num = eval_numerical_gradient_array(lambda xx: dropout_b.forward(xx, True, seed=1), x, dout)\n",
    "\n",
    "# The error should not be larger than 1e-10\n",
    "print ('dx relative error: ', rel_error(dx, dx_num))"
   ]
  },
  {
   "cell_type": "markdown",
   "metadata": {
    "id": "aO8e6MdBRThI"
   },
   "source": [
    "## Testing cascaded layers: FC + Leaky ReLU [2pt]\n",
    "Please find the `TestFCReLU` function in `lib/mlp/fully_conn.py`. <br />\n",
    "You only need to complete a few lines of code in the TODO block. <br />\n",
    "Please design an `Flatten -> FC -> Leaky ReLU` network where the parameters of them match the given x, w, and b. <br />\n",
    "Please insert the corresponding names you defined for each layer to param_name_w, and param_name_b respectively. Here you only modify the param_name part, the `_w`, and `_b` are automatically assigned during network setup "
   ]
  },
  {
   "cell_type": "code",
   "execution_count": null,
   "metadata": {
    "colab": {
     "base_uri": "https://localhost:8080/"
    },
    "executionInfo": {
     "elapsed": 192,
     "status": "ok",
     "timestamp": 1644457945055,
     "user": {
      "displayName": "Shuvam Ghosal",
      "photoUrl": "https://lh3.googleusercontent.com/a-/AOh14Ggl_opQYXICfek7WwYGFNVZfIEdc8mxLeqoxEZn=s64",
      "userId": "08961952555119329655"
     },
     "user_tz": 480
    },
    "id": "MKQV-E77RThJ",
    "outputId": "282231ec-8546-4cfd-e13c-810b2e884451"
   },
   "outputs": [
    {
     "name": "stdout",
     "output_type": "stream",
     "text": [
      "dx error:  1.5207983015209058e-09\n",
      "dw error:  1.1097920573250084e-09\n",
      "db error:  3.484777113214564e-12\n"
     ]
    }
   ],
   "source": [
    "%reload_ext autoreload\n",
    "\n",
    "x = np.random.randn(3, 5, 3)  # the input features\n",
    "w = np.random.randn(15, 5)   # the weight of fc layer\n",
    "b = np.random.randn(5)       # the bias of fc layer\n",
    "dout = np.random.randn(3, 5) # the gradients to the output, notice the shape\n",
    "\n",
    "tiny_net = TestFCReLU()\n",
    "\n",
    "###################################################\n",
    "# TODO: param_name should be replaced accordingly #\n",
    "###################################################\n",
    "tiny_net.net.assign(\"fc1_w\", w)\n",
    "tiny_net.net.assign(\"fc1_b\", b)\n",
    "###################################################\n",
    "#                END OF YOUR CODE                 #\n",
    "###################################################\n",
    "\n",
    "out = tiny_net.forward(x)\n",
    "dx = tiny_net.backward(dout)\n",
    "\n",
    "###################################################\n",
    "# TODO: param_name should be replaced accordingly #\n",
    "###################################################\n",
    "dw = tiny_net.net.get_grads(\"fc1_w\")\n",
    "db = tiny_net.net.get_grads(\"fc1_b\")\n",
    "###################################################\n",
    "#                END OF YOUR CODE                 #\n",
    "###################################################\n",
    "\n",
    "dx_num = eval_numerical_gradient_array(lambda x: tiny_net.forward(x), x, dout)\n",
    "dw_num = eval_numerical_gradient_array(lambda w: tiny_net.forward(x), w, dout)\n",
    "db_num = eval_numerical_gradient_array(lambda b: tiny_net.forward(x), b, dout)\n",
    "\n",
    "# The errors should not be larger than 1e-7\n",
    "print (\"dx error: \", rel_error(dx_num, dx))\n",
    "print (\"dw error: \", rel_error(dw_num, dw))\n",
    "print (\"db error: \", rel_error(db_num, db))"
   ]
  },
  {
   "cell_type": "markdown",
   "metadata": {
    "id": "vXnL2myERThL"
   },
   "source": [
    "## SoftMax Function and Loss Layer [2pt]\n",
    "In the `lib/mlp/layer_utils.py`, please first complete the function `softmax`, which will be used in the function `cross_entropy`. Then, implement `corss_entropy` using `softmax`.\n",
    "Please refer to the lecture slides of the mathematical expressions of the cross entropy loss function, and complete its forward pass and backward pass."
   ]
  },
  {
   "cell_type": "code",
   "execution_count": null,
   "metadata": {
    "colab": {
     "base_uri": "https://localhost:8080/"
    },
    "executionInfo": {
     "elapsed": 286,
     "status": "ok",
     "timestamp": 1644580485505,
     "user": {
      "displayName": "Shuvam Ghosal",
      "photoUrl": "https://lh3.googleusercontent.com/a-/AOh14Ggl_opQYXICfek7WwYGFNVZfIEdc8mxLeqoxEZn=s64",
      "userId": "08961952555119329655"
     },
     "user_tz": 480
    },
    "id": "ixlc_WzMRThT",
    "outputId": "3680e074-9af0-4556-9909-2cf78e266e00"
   },
   "outputs": [
    {
     "name": "stdout",
     "output_type": "stream",
     "text": [
      "Cross Entropy Loss:  1.7918098418513777\n",
      "dx error:  7.071911972248392e-09\n"
     ]
    }
   ],
   "source": [
    "%reload_ext autoreload\n",
    "\n",
    "num_classes, num_inputs = 6, 100\n",
    "x = 0.001 * np.random.randn(num_inputs, num_classes)\n",
    "y = np.random.randint(num_classes, size=num_inputs)\n",
    "\n",
    "test_loss = cross_entropy()\n",
    "\n",
    "dx_num = eval_numerical_gradient(lambda x: test_loss.forward(x, y), x, verbose=False)\n",
    "\n",
    "loss = test_loss.forward(x, y)\n",
    "dx = test_loss.backward()\n",
    "\n",
    "# Test softmax_loss function. Loss should be around 1.792\n",
    "# and dx error should be at the scale of 1e-8 (or smaller)\n",
    "print (\"Cross Entropy Loss: \", loss)\n",
    "print (\"dx error: \", rel_error(dx_num, dx))"
   ]
  },
  {
   "cell_type": "markdown",
   "metadata": {
    "id": "WTbXjF5kRThW"
   },
   "source": [
    "## Test a Small Fully Connected Network [2pt]\n",
    "Please find the `SmallFullyConnectedNetwork` function in `lib/mlp/fully_conn.py`. <br />\n",
    "Again you only need to complete few lines of code in the TODO block. <br />\n",
    "Please design an `FC --> Leaky ReLU --> FC` network where the shapes of parameters match the given shapes. <br />\n",
    "Please insert the corresponding names you defined for each layer to param_name_w, and param_name_b respectively. <br />\n",
    "Here you only modify the param_name part, the `_w`, and `_b` are automatically assigned during network setup. "
   ]
  },
  {
   "cell_type": "code",
   "execution_count": null,
   "metadata": {
    "colab": {
     "base_uri": "https://localhost:8080/"
    },
    "executionInfo": {
     "elapsed": 347,
     "status": "ok",
     "timestamp": 1644579567316,
     "user": {
      "displayName": "Shuvam Ghosal",
      "photoUrl": "https://lh3.googleusercontent.com/a-/AOh14Ggl_opQYXICfek7WwYGFNVZfIEdc8mxLeqoxEZn=s64",
      "userId": "08961952555119329655"
     },
     "user_tz": 480
    },
    "id": "I7Znqj0aRThY",
    "outputId": "4db41175-e6b6-493d-f4dc-ef3511476e5f"
   },
   "outputs": [
    {
     "name": "stdout",
     "output_type": "stream",
     "text": [
      "Testing initialization ... \n",
      "Passed!\n",
      "Testing test-time forward pass ... \n",
      "Passed!\n",
      "Testing the loss ...\n",
      "Passed!\n",
      "Testing the gradients (error should be no larger than 1e-6) ...\n",
      "fc1_b relative error: 4.94e-09\n",
      "fc1_w relative error: 7.91e-09\n",
      "fc2_b relative error: 1.29e-10\n",
      "fc2_w relative error: 3.06e-08\n"
     ]
    }
   ],
   "source": [
    "%reload_ext autoreload\n",
    "\n",
    "seed = 1234\n",
    "np.random.seed(seed=seed)\n",
    "\n",
    "model = SmallFullyConnectedNetwork()\n",
    "loss_func = cross_entropy()\n",
    "\n",
    "N, D, = 4, 4  # N: batch size, D: input dimension\n",
    "H, C  = 30, 7 # H: hidden dimension, C: output dimension\n",
    "std = 0.02\n",
    "x = np.random.randn(N, D)\n",
    "y = np.random.randint(C, size=N)\n",
    "\n",
    "print (\"Testing initialization ... \")\n",
    "\n",
    "###################################################\n",
    "# TODO: param_name should be replaced accordingly  #\n",
    "###################################################\n",
    "w1_std = abs(model.net.get_params(\"fc1_w\").std() - std)\n",
    "b1 = model.net.get_params(\"fc1_b\").std()\n",
    "w2_std = abs(model.net.get_params(\"fc2_w\").std() - std)\n",
    "b2 = model.net.get_params(\"fc2_b\").std()\n",
    "###################################################\n",
    "#                END OF YOUR CODE                 #\n",
    "###################################################\n",
    "\n",
    "assert w1_std < std / 10, \"First layer weights do not seem right\"\n",
    "assert np.all(b1 == 0), \"First layer biases do not seem right\"\n",
    "assert w2_std < std / 10, \"Second layer weights do not seem right\"\n",
    "assert np.all(b2 == 0), \"Second layer biases do not seem right\"\n",
    "print (\"Passed!\")\n",
    "\n",
    "print (\"Testing test-time forward pass ... \")\n",
    "w1 = np.linspace(-0.7, 0.3, num=D*H).reshape(D, H)\n",
    "w2 = np.linspace(-0.2, 0.2, num=H*C).reshape(H, C)\n",
    "b1 = np.linspace(-0.6, 0.2, num=H)\n",
    "b2 = np.linspace(-0.9, 0.1, num=C)\n",
    "\n",
    "###################################################\n",
    "# TODO: param_name should be replaced accordingly  #\n",
    "###################################################\n",
    "model.net.assign(\"fc1_w\", w1)\n",
    "model.net.assign(\"fc1_b\", b1)\n",
    "model.net.assign(\"fc2_w\", w2)\n",
    "model.net.assign(\"fc2_b\", b2)\n",
    "###################################################\n",
    "#                END OF YOUR CODE                 #\n",
    "###################################################\n",
    "\n",
    "feats = np.linspace(-5.5, 4.5, num=N*D).reshape(D, N).T\n",
    "scores = model.forward(feats)\n",
    "correct_scores = np.asarray([[-2.33876804, -1.92168925, -1.50461046, -1.08753166, -0.67045287, -0.25337408,  0.16370472],\n",
    "                             [-1.57216705, -1.18571026, -0.79925348, -0.4127967 , -0.02633991, 0.36011687,  0.74657365],\n",
    "                             [-0.80556605, -0.44973128, -0.09389651,  0.26193827,  0.61777304, 0.97360782,  1.32944259],\n",
    "                             [-0.03896506,  0.2862477 ,  0.61146047,  0.93667323,  1.261886  , 1.58709876,  1.91231153]])\n",
    "scores_diff = np.sum(np.abs(scores - correct_scores))\n",
    "assert scores_diff < 1e-6, \"Your implementation might be wrong!\"\n",
    "print (\"Passed!\")\n",
    "\n",
    "print (\"Testing the loss ...\",)\n",
    "y = np.asarray([0, 5, 1, 4])\n",
    "loss = loss_func.forward(scores, y)\n",
    "dLoss = loss_func.backward()\n",
    "correct_loss = 2.4250083210516835\n",
    "assert abs(loss - correct_loss) < 1e-10, \"Your implementation might be wrong!\"\n",
    "print (\"Passed!\")\n",
    "\n",
    "print (\"Testing the gradients (error should be no larger than 1e-6) ...\")\n",
    "din = model.backward(dLoss)\n",
    "for layer in model.net.layers:\n",
    "    if not layer.params:\n",
    "        continue\n",
    "    for name in sorted(layer.grads):\n",
    "        f = lambda _: loss_func.forward(model.forward(feats), y)\n",
    "        grad_num = eval_numerical_gradient(f, layer.params[name], verbose=False)\n",
    "        print ('%s relative error: %.2e' % (name, rel_error(grad_num, layer.grads[name])))"
   ]
  },
  {
   "cell_type": "markdown",
   "metadata": {
    "id": "hpK3yQwBRTha"
   },
   "source": [
    "## Test a Fully Connected Network regularized with Dropout [2pt]\n",
    "Please find the `DropoutNet` function in `fully_conn.py` under `lib/mlp` directory. <br />\n",
    "For this part you don't need to design a new network, just simply run the following test code. <br />\n",
    "If something goes wrong, you might want to double check your dropout implementation."
   ]
  },
  {
   "cell_type": "code",
   "execution_count": null,
   "metadata": {
    "colab": {
     "base_uri": "https://localhost:8080/"
    },
    "executionInfo": {
     "elapsed": 3734,
     "status": "ok",
     "timestamp": 1644579634784,
     "user": {
      "displayName": "Shuvam Ghosal",
      "photoUrl": "https://lh3.googleusercontent.com/a-/AOh14Ggl_opQYXICfek7WwYGFNVZfIEdc8mxLeqoxEZn=s64",
      "userId": "08961952555119329655"
     },
     "user_tz": 480
    },
    "id": "1GGbTqmuRThe",
    "outputId": "b1fe3cb3-37e4-4057-ef44-5b482bc88015"
   },
   "outputs": [
    {
     "name": "stdout",
     "output_type": "stream",
     "text": [
      "Dropout p = 0\n",
      "Error of gradients should be around or less than 1e-3\n",
      "fc1_b relative error: 1.7273340411321912e-06\n",
      "fc1_w relative error: 9.723764019252046e-05\n",
      "fc2_b relative error: 2.784189527833565e-06\n",
      "fc2_w relative error: 0.0039222297841512\n",
      "fc3_b relative error: 6.9596628378975445e-09\n",
      "fc3_w relative error: 0.00022432901232236055\n",
      "\n",
      "Dropout p = 0.25\n",
      "Error of gradients should be around or less than 1e-3\n",
      "fc1_b relative error: 2.1950150912577644e-06\n",
      "fc1_w relative error: 2.5552274040519906e-05\n",
      "fc2_b relative error: 1.87808453437951e-06\n",
      "fc2_w relative error: 0.0011535205631301487\n",
      "fc3_b relative error: 6.521995746108614e-10\n",
      "fc3_w relative error: 0.00031318161857379944\n",
      "\n",
      "Dropout p = 0.5\n",
      "Error of gradients should be around or less than 1e-3\n",
      "fc1_b relative error: 1.0575473870203767e-06\n",
      "fc1_w relative error: 7.381101514786544e-05\n",
      "fc2_b relative error: 1.743844392822826e-07\n",
      "fc2_w relative error: 0.0017570024681553666\n",
      "fc3_b relative error: 6.447435147462481e-10\n",
      "fc3_w relative error: 3.584680630720856e-05\n",
      "\n"
     ]
    }
   ],
   "source": [
    "%reload_ext autoreload\n",
    "\n",
    "seed = 1234\n",
    "np.random.seed(seed=seed)\n",
    "\n",
    "N, D, C = 3, 15, 10\n",
    "X = np.random.randn(N, D)\n",
    "y = np.random.randint(C, size=(N,))\n",
    "\n",
    "for keep_prob in [0, 0.25, 0.5]:\n",
    "    np.random.seed(seed=seed)\n",
    "    print (\"Dropout p =\", keep_prob)\n",
    "    model = DropoutNet(keep_prob=keep_prob, seed=seed)\n",
    "    loss_func = cross_entropy()\n",
    "    output = model.forward(X, True, seed=seed)\n",
    "    loss = loss_func.forward(output, y)\n",
    "    dLoss = loss_func.backward()\n",
    "    dX = model.backward(dLoss)\n",
    "    grads = model.net.grads\n",
    "\n",
    "    print (\"Error of gradients should be around or less than 1e-3\")\n",
    "    for name in sorted(grads):\n",
    "        if name not in model.net.params.keys():\n",
    "            continue\n",
    "        f = lambda _: loss_func.forward(model.forward(X, True, seed=seed), y)\n",
    "        grad_num = eval_numerical_gradient(f, model.net.params[name], verbose=False, h=1e-5)\n",
    "        print (\"{} relative error: {}\".format(name, rel_error(grad_num, grads[name])))\n",
    "    print ()"
   ]
  },
  {
   "cell_type": "markdown",
   "metadata": {
    "id": "AegPCA4ZRThr"
   },
   "source": [
    "## Training a Network\n",
    "In this section, we defined a `TinyNet` class for you to fill in the TODO block in `lib/mlp/fully_conn.py`.\n",
    "* Here please design a two layer fully connected network with Leaky ReLU activation (`Flatten --> FC --> Leaky ReLU --> FC`).\n",
    "* You can adjust the number of hidden neurons, batch_size, epochs, and learning rate decay parameters.\n",
    "* Please read the `lib/train.py` carefully and complete the TODO blocks in the `train_net` function first. Codes in \"Test a Small Fully Connected Network\" can be helpful.\n",
    "* In addition, read how the SGD function is implemented in `lib/optim.py`, you will be asked to complete three other optimization methods in the later sections."
   ]
  },
  {
   "cell_type": "code",
   "execution_count": null,
   "metadata": {
    "id": "GxroeNLSRThy"
   },
   "outputs": [],
   "source": [
    "# Arrange the data\n",
    "data_dict = {\n",
    "    \"data_train\": (data[\"data_train\"], data[\"labels_train\"]),\n",
    "    \"data_val\": (data[\"data_val\"], data[\"labels_val\"]),\n",
    "    \"data_test\": (data[\"data_test\"], data[\"labels_test\"])\n",
    "}"
   ]
  },
  {
   "cell_type": "code",
   "execution_count": null,
   "metadata": {
    "colab": {
     "base_uri": "https://localhost:8080/"
    },
    "executionInfo": {
     "elapsed": 2,
     "status": "ok",
     "timestamp": 1644870828382,
     "user": {
      "displayName": "Shuvam Ghosal",
      "photoUrl": "https://lh3.googleusercontent.com/a-/AOh14Ggl_opQYXICfek7WwYGFNVZfIEdc8mxLeqoxEZn=s64",
      "userId": "08961952555119329655"
     },
     "user_tz": 480
    },
    "id": "UCwfnR5QRTh0",
    "outputId": "8ae60af0-8c55-4bc7-dc42-121060848bf6"
   },
   "outputs": [
    {
     "name": "stdout",
     "output_type": "stream",
     "text": [
      "Data shape: (70000, 32, 32, 3)\n",
      "Flattened data input size: 3072\n",
      "Number of data classes: 10\n"
     ]
    }
   ],
   "source": [
    "print(\"Data shape:\", data[\"data_train\"].shape)\n",
    "print(\"Flattened data input size:\", np.prod(data[\"data_train\"].shape[1:]))\n",
    "print(\"Number of data classes:\", max(data['labels_train']) + 1)"
   ]
  },
  {
   "cell_type": "markdown",
   "metadata": {
    "id": "TnHF916oRTh2"
   },
   "source": [
    "### Now train the network to achieve at least 75% validation accuracy [5pt]\n",
    "You may only adjust the hyperparameters inside the TODO block"
   ]
  },
  {
   "cell_type": "code",
   "execution_count": null,
   "metadata": {
    "colab": {
     "base_uri": "https://localhost:8080/"
    },
    "executionInfo": {
     "elapsed": 472311,
     "status": "ok",
     "timestamp": 1644656440340,
     "user": {
      "displayName": "Shuvam Ghosal",
      "photoUrl": "https://lh3.googleusercontent.com/a-/AOh14Ggl_opQYXICfek7WwYGFNVZfIEdc8mxLeqoxEZn=s64",
      "userId": "08961952555119329655"
     },
     "user_tz": 480
    },
    "id": "IbQWWj06IJyl",
    "outputId": "5b634f8d-0bcc-43e5-c65a-4c20d1b791d3"
   },
   "outputs": [
    {
     "name": "stdout",
     "output_type": "stream",
     "text": [
      "(Iteration 1 / 17500) loss: 2.461585184413072\n",
      "(Epoch 1 / 4) Training Accuracy: 0.6272857142857143, Validation Accuracy: 0.6226588885477433\n",
      "(Epoch 2 / 4) Training Accuracy: 0.7184428571428572, Validation Accuracy: 0.7101627264353699\n",
      "(Iteration 10001 / 17500) loss: 1.1671243863658423\n",
      "(Epoch 3 / 4) Training Accuracy: 0.7528857142857143, Validation Accuracy: 0.7433220755296285\n",
      "(Epoch 4 / 4) Training Accuracy: 0.7778571428571428, Validation Accuracy: 0.7608228431071539\n"
     ]
    }
   ],
   "source": [
    "%reload_ext autoreload\n",
    "\n",
    "seed = 123\n",
    "np.random.seed(seed=seed)\n",
    "\n",
    "model = TinyNet()\n",
    "loss_f = cross_entropy()\n",
    "optimizer = SGD(model.net, 1e-2)\n",
    "\n",
    "results = None\n",
    "#############################################################################\n",
    "# TODO: Use the train_net function you completed to train a network         #\n",
    "#############################################################################\n",
    "\n",
    "batch_size = 16\n",
    "epochs = 4\n",
    "lr_decay = .5\n",
    "lr_decay_every = 50\n",
    "\n",
    "#############################################################################\n",
    "#                             END OF YOUR CODE                              #\n",
    "#############################################################################\n",
    "results = train_net(data_dict, model, loss_f, optimizer, batch_size, epochs, \n",
    "                    lr_decay, lr_decay_every, show_every=10000, verbose=True)\n",
    "opt_params, loss_hist, train_acc_hist, val_acc_hist = results"
   ]
  },
  {
   "cell_type": "code",
   "execution_count": null,
   "metadata": {
    "colab": {
     "base_uri": "https://localhost:8080/"
    },
    "executionInfo": {
     "elapsed": 505,
     "status": "ok",
     "timestamp": 1644656519457,
     "user": {
      "displayName": "Shuvam Ghosal",
      "photoUrl": "https://lh3.googleusercontent.com/a-/AOh14Ggl_opQYXICfek7WwYGFNVZfIEdc8mxLeqoxEZn=s64",
      "userId": "08961952555119329655"
     },
     "user_tz": 480
    },
    "id": "qvptMGkmRTh7",
    "outputId": "97d929e2-8f17-45b7-9132-db111b5e3659"
   },
   "outputs": [
    {
     "name": "stdout",
     "output_type": "stream",
     "text": [
      "dict_keys(['fc1_w', 'fc1_b', 'fc2_w', 'fc2_b'])\n"
     ]
    }
   ],
   "source": [
    "# Take a look at what names of params were stored\n",
    "print (opt_params.keys())"
   ]
  },
  {
   "cell_type": "code",
   "execution_count": null,
   "metadata": {
    "colab": {
     "base_uri": "https://localhost:8080/"
    },
    "executionInfo": {
     "elapsed": 4723,
     "status": "ok",
     "timestamp": 1644656528222,
     "user": {
      "displayName": "Shuvam Ghosal",
      "photoUrl": "https://lh3.googleusercontent.com/a-/AOh14Ggl_opQYXICfek7WwYGFNVZfIEdc8mxLeqoxEZn=s64",
      "userId": "08961952555119329655"
     },
     "user_tz": 480
    },
    "id": "_wj8HIBMRTiA",
    "outputId": "e1593fe8-7f9e-4866-bf36-ca631a9c3d5c"
   },
   "outputs": [
    {
     "name": "stdout",
     "output_type": "stream",
     "text": [
      "Loading Params: fc1_w Shape: (3072, 500)\n",
      "Loading Params: fc1_b Shape: (500,)\n",
      "Loading Params: fc2_w Shape: (500, 10)\n",
      "Loading Params: fc2_b Shape: (10,)\n",
      "Validation Accuracy: 76.08228431071538%\n",
      "Testing Accuracy: 73.87830362630609%\n"
     ]
    }
   ],
   "source": [
    "# Demo: How to load the parameters to a newly defined network\n",
    "model = TinyNet()\n",
    "model.net.load(opt_params)\n",
    "val_acc = compute_acc(model, data[\"data_val\"], data[\"labels_val\"])\n",
    "print (\"Validation Accuracy: {}%\".format(val_acc*100))\n",
    "test_acc = compute_acc(model, data[\"data_test\"], data[\"labels_test\"])\n",
    "print (\"Testing Accuracy: {}%\".format(test_acc*100))"
   ]
  },
  {
   "cell_type": "code",
   "execution_count": null,
   "metadata": {
    "colab": {
     "base_uri": "https://localhost:8080/",
     "height": 730
    },
    "executionInfo": {
     "elapsed": 823,
     "status": "ok",
     "timestamp": 1644656591500,
     "user": {
      "displayName": "Shuvam Ghosal",
      "photoUrl": "https://lh3.googleusercontent.com/a-/AOh14Ggl_opQYXICfek7WwYGFNVZfIEdc8mxLeqoxEZn=s64",
      "userId": "08961952555119329655"
     },
     "user_tz": 480
    },
    "id": "ejq-dEEhK91b",
    "outputId": "a21994e3-4569-4077-a083-9117c5b38317"
   },
   "outputs": [
    {
     "data": {
      "image/png": "[encoded data removed]",
      "text/plain": [
       "<Figure size 1080x864 with 2 Axes>"
      ]
     },
     "metadata": {
      "needs_background": "light"
     },
     "output_type": "display_data"
    }
   ],
   "source": [
    "# Plot the learning curves\n",
    "plt.subplot(2, 1, 1)\n",
    "plt.title('Training loss')\n",
    "loss_hist_ = loss_hist[1::100] # sparse the curve a bit\n",
    "plt.plot(loss_hist_, '-o')\n",
    "plt.xlabel('Iteration')\n",
    "\n",
    "plt.subplot(2, 1, 2)\n",
    "plt.title('Accuracy')\n",
    "plt.plot(train_acc_hist, '-o', label='Training')\n",
    "plt.plot(val_acc_hist, '-o', label='Validation')\n",
    "plt.xlabel('Epoch')\n",
    "plt.legend(loc='lower right')\n",
    "plt.gcf().set_size_inches(15, 12)\n",
    "plt.show()"
   ]
  },
  {
   "cell_type": "markdown",
   "metadata": {
    "id": "04kvkwIkRTiE"
   },
   "source": [
    "## Different Optimizers\n",
    "There are several more advanced optimizers than vanilla SGD, you will implement three more sophisticated and widely-used methods in this section.  \n",
    "Please complete the TODOs in the `lib/optim.py`."
   ]
  },
  {
   "cell_type": "markdown",
   "metadata": {
    "id": "4-wVOKSIRTiG"
   },
   "source": [
    "## SGD + Momentum [2pt]\n",
    "The update rule of SGD plus momentum is as shown below:  \n",
    "\\begin{align*}\n",
    "v_t&: \\text{last update of the velocity} \\\\\n",
    "\\gamma&: \\text{momentum} \\\\\n",
    "\\eta&: \\text{learning rate} \\\\\n",
    "v_t &= \\gamma v_{t-1} - \\eta \\nabla_{\\theta}J(\\theta) \\\\\n",
    "\\theta &= \\theta + v_t\n",
    "\\end{align*}\n",
    "The initial value of $v_t$ is $0$.\n",
    "Complete the `SGDM()` function in `lib/optim.py`."
   ]
  },
  {
   "cell_type": "code",
   "execution_count": null,
   "metadata": {
    "colab": {
     "base_uri": "https://localhost:8080/"
    },
    "executionInfo": {
     "elapsed": 157,
     "status": "ok",
     "timestamp": 1644463440594,
     "user": {
      "displayName": "Shuvam Ghosal",
      "photoUrl": "https://lh3.googleusercontent.com/a-/AOh14Ggl_opQYXICfek7WwYGFNVZfIEdc8mxLeqoxEZn=s64",
      "userId": "08961952555119329655"
     },
     "user_tz": 480
    },
    "id": "vGeTZqTBRTiI",
    "outputId": "42ecb93e-1f59-4e24-fb85-d01ed59c4609"
   },
   "outputs": [
    {
     "name": "stdout",
     "output_type": "stream",
     "text": [
      "The following errors should be around or less than 1e-8\n",
      "updated_w error:  8.882347033505819e-09\n",
      "velocity error:  4.269287743278663e-09\n"
     ]
    }
   ],
   "source": [
    "%reload_ext autoreload\n",
    "\n",
    "# Test the implementation of SGD with Momentum\n",
    "seed = 123\n",
    "np.random.seed(seed=seed)\n",
    "\n",
    "N, D = 4, 5\n",
    "test_sgd = sequential(fc(N, D, name=\"sgd_fc\"))\n",
    "\n",
    "w = np.linspace(-0.4, 0.6, num=N*D).reshape(N, D)\n",
    "dw = np.linspace(-0.6, 0.4, num=N*D).reshape(N, D)\n",
    "v = np.linspace(0.6, 0.9, num=N*D).reshape(N, D)\n",
    "\n",
    "test_sgd.layers[0].params = {\"sgd_fc_w\": w}\n",
    "test_sgd.layers[0].grads = {\"sgd_fc_w\": dw}\n",
    "\n",
    "test_sgd_momentum = SGDM(test_sgd, 1e-3, 0.9)\n",
    "test_sgd_momentum.velocity = {\"sgd_fc_w\": v}\n",
    "test_sgd_momentum.step()\n",
    "\n",
    "updated_w = test_sgd.layers[0].params[\"sgd_fc_w\"]\n",
    "velocity = test_sgd_momentum.velocity[\"sgd_fc_w\"]\n",
    "\n",
    "expected_updated_w = np.asarray([\n",
    "  [ 0.1406,      0.20738947,  0.27417895,  0.34096842,  0.40775789],\n",
    "  [ 0.47454737,  0.54133684,  0.60812632,  0.67491579,  0.74170526],\n",
    "  [ 0.80849474,  0.87528421,  0.94207368,  1.00886316,  1.07565263],\n",
    "  [ 1.14244211,  1.20923158,  1.27602105,  1.34281053,  1.4096    ]])\n",
    "expected_velocity = np.asarray([\n",
    "  [ 0.5406,      0.55475789,  0.56891579, 0.58307368,  0.59723158],\n",
    "  [ 0.61138947,  0.62554737,  0.63970526,  0.65386316,  0.66802105],\n",
    "  [ 0.68217895,  0.69633684,  0.71049474,  0.72465263,  0.73881053],\n",
    "  [ 0.75296842,  0.76712632,  0.78128421,  0.79544211,  0.8096    ]])\n",
    "\n",
    "print ('The following errors should be around or less than 1e-8')\n",
    "print ('updated_w error: ', rel_error(updated_w, expected_updated_w))\n",
    "print ('velocity error: ', rel_error(expected_velocity, velocity))"
   ]
  },
  {
   "cell_type": "markdown",
   "metadata": {
    "id": "szPHqO0URTiK"
   },
   "source": [
    "## Comparing SGD and SGD with Momentum [2pt]\n",
    "Run the following code block to train a multi-layer fully connected network with both SGD and SGD plus Momentum. The network trained with SGDM optimizer should converge faster."
   ]
  },
  {
   "cell_type": "code",
   "execution_count": null,
   "metadata": {
    "colab": {
     "base_uri": "https://localhost:8080/",
     "height": 1000
    },
    "executionInfo": {
     "elapsed": 691265,
     "status": "ok",
     "timestamp": 1644465902416,
     "user": {
      "displayName": "Shuvam Ghosal",
      "photoUrl": "https://lh3.googleusercontent.com/a-/AOh14Ggl_opQYXICfek7WwYGFNVZfIEdc8mxLeqoxEZn=s64",
      "userId": "08961952555119329655"
     },
     "user_tz": 480
    },
    "id": "D-q3MFeBRTiS",
    "outputId": "828e174f-c0e6-4351-87af-f174bc36cc6f",
    "scrolled": false
   },
   "outputs": [
    {
     "name": "stdout",
     "output_type": "stream",
     "text": [
      "Training with Vanilla SGD...\n",
      "(Iteration 1 / 23430) loss: 2.302024602405127\n",
      "(Iteration 101 / 23430) loss: 2.303460123828989\n",
      "(Iteration 201 / 23430) loss: 2.268727870891892\n",
      "(Iteration 301 / 23430) loss: 2.243775120272611\n",
      "(Iteration 401 / 23430) loss: 2.238319010526329\n",
      "(Iteration 501 / 23430) loss: 2.272874253381526\n",
      "(Iteration 601 / 23430) loss: 2.2451687770884394\n",
      "(Iteration 701 / 23430) loss: 2.2622141329338215\n",
      "(Iteration 801 / 23430) loss: 2.2573692693348817\n",
      "(Iteration 901 / 23430) loss: 2.3380941805908977\n",
      "(Iteration 1001 / 23430) loss: 2.20257836640194\n",
      "(Iteration 1101 / 23430) loss: 2.1939285735429026\n",
      "(Iteration 1201 / 23430) loss: 2.142988679764224\n",
      "(Iteration 1301 / 23430) loss: 2.2688718233746474\n",
      "(Iteration 1401 / 23430) loss: 2.1504753777293333\n",
      "(Iteration 1501 / 23430) loss: 2.273522970056841\n",
      "(Epoch 1 / 15) Training Accuracy: 0.1888, Validation Accuracy: 0.18206938900828984\n",
      "(Iteration 1601 / 23430) loss: 2.2460415185131373\n",
      "(Iteration 1701 / 23430) loss: 2.3338753090342754\n",
      "(Iteration 1801 / 23430) loss: 2.117519352081804\n",
      "(Iteration 1901 / 23430) loss: 2.2055354583182076\n",
      "(Iteration 2001 / 23430) loss: 2.1437318018984315\n",
      "(Iteration 2101 / 23430) loss: 2.2396229891697548\n",
      "(Iteration 2201 / 23430) loss: 2.15097839809764\n",
      "(Iteration 2301 / 23430) loss: 2.1239988360035853\n",
      "(Iteration 2401 / 23430) loss: 2.2576888344005743\n",
      "(Iteration 2501 / 23430) loss: 2.29772304584748\n",
      "(Iteration 2601 / 23430) loss: 2.216278969862204\n",
      "(Iteration 2701 / 23430) loss: 2.1420435054696814\n",
      "(Iteration 2801 / 23430) loss: 2.2409122687683816\n",
      "(Iteration 2901 / 23430) loss: 2.267620327979775\n",
      "(Iteration 3001 / 23430) loss: 2.3097516637777322\n",
      "(Iteration 3101 / 23430) loss: 2.217516944871923\n",
      "(Epoch 2 / 15) Training Accuracy: 0.1888, Validation Accuracy: 0.18206938900828984\n",
      "(Iteration 3201 / 23430) loss: 2.194154112103643\n",
      "(Iteration 3301 / 23430) loss: 2.3395208325098995\n",
      "(Iteration 3401 / 23430) loss: 2.2132838015857446\n",
      "(Iteration 3501 / 23430) loss: 2.2152499932798637\n",
      "(Iteration 3601 / 23430) loss: 2.167542970843872\n",
      "(Iteration 3701 / 23430) loss: 2.1897861389815265\n",
      "(Iteration 3801 / 23430) loss: 2.131262375298502\n",
      "(Iteration 3901 / 23430) loss: 2.147113779687797\n",
      "(Iteration 4001 / 23430) loss: 2.285455946890294\n",
      "(Iteration 4101 / 23430) loss: 2.1982515121053874\n",
      "(Iteration 4201 / 23430) loss: 2.2074600074836823\n",
      "(Iteration 4301 / 23430) loss: 2.22467412692337\n",
      "(Iteration 4401 / 23430) loss: 2.0530393960994147\n",
      "(Iteration 4501 / 23430) loss: 2.3524286994091046\n",
      "(Iteration 4601 / 23430) loss: 2.229357460968944\n",
      "(Epoch 3 / 15) Training Accuracy: 0.1888, Validation Accuracy: 0.18206938900828984\n",
      "(Iteration 4701 / 23430) loss: 2.39724854712492\n",
      "(Iteration 4801 / 23430) loss: 2.2141731688845034\n",
      "(Iteration 4901 / 23430) loss: 2.2671531047030515\n",
      "(Iteration 5001 / 23430) loss: 2.085668245526734\n",
      "(Iteration 5101 / 23430) loss: 2.181381060555612\n",
      "(Iteration 5201 / 23430) loss: 2.147264874797247\n",
      "(Iteration 5301 / 23430) loss: 2.1776339065381904\n",
      "(Iteration 5401 / 23430) loss: 2.19372998103671\n",
      "(Iteration 5501 / 23430) loss: 2.1394524956297456\n",
      "(Iteration 5601 / 23430) loss: 2.2202616566499858\n",
      "(Iteration 5701 / 23430) loss: 2.2622337468631857\n",
      "(Iteration 5801 / 23430) loss: 2.227685577402541\n",
      "(Iteration 5901 / 23430) loss: 2.0882780628572717\n",
      "(Iteration 6001 / 23430) loss: 2.1850199494228804\n",
      "(Iteration 6101 / 23430) loss: 2.1931225857353622\n",
      "(Iteration 6201 / 23430) loss: 2.273465372822981\n",
      "(Epoch 4 / 15) Training Accuracy: 0.1888, Validation Accuracy: 0.18206938900828984\n",
      "(Iteration 6301 / 23430) loss: 2.2331918410123763\n",
      "(Iteration 6401 / 23430) loss: 2.1700783825659116\n",
      "(Iteration 6501 / 23430) loss: 2.263550255866303\n",
      "(Iteration 6601 / 23430) loss: 2.2692601821721983\n",
      "(Iteration 6701 / 23430) loss: 2.1198609657360263\n",
      "(Iteration 6801 / 23430) loss: 2.207306343380298\n",
      "(Iteration 6901 / 23430) loss: 2.3338415868150264\n",
      "(Iteration 7001 / 23430) loss: 2.2428941144295695\n",
      "(Iteration 7101 / 23430) loss: 2.19181403337204\n",
      "(Iteration 7201 / 23430) loss: 2.2615798504724722\n",
      "(Iteration 7301 / 23430) loss: 2.396177740667492\n",
      "(Iteration 7401 / 23430) loss: 2.263987570803724\n",
      "(Iteration 7501 / 23430) loss: 2.2073632923493647\n",
      "(Iteration 7601 / 23430) loss: 2.1637290936173517\n",
      "(Iteration 7701 / 23430) loss: 2.273839708919157\n",
      "(Iteration 7801 / 23430) loss: 2.1826534818643277\n",
      "(Epoch 5 / 15) Training Accuracy: 0.1888, Validation Accuracy: 0.18206938900828984\n",
      "(Iteration 7901 / 23430) loss: 2.279702444848493\n",
      "(Iteration 8001 / 23430) loss: 2.361265166117029\n",
      "(Iteration 8101 / 23430) loss: 2.1805389463231672\n",
      "(Iteration 8201 / 23430) loss: 2.2969331498596612\n",
      "(Iteration 8301 / 23430) loss: 2.236107901919663\n",
      "(Iteration 8401 / 23430) loss: 2.25849198286873\n",
      "(Iteration 8501 / 23430) loss: 2.2413859227701627\n",
      "(Iteration 8601 / 23430) loss: 2.2115104713312093\n",
      "(Iteration 8701 / 23430) loss: 2.3336874163253554\n",
      "(Iteration 8801 / 23430) loss: 2.146004979869291\n",
      "(Iteration 8901 / 23430) loss: 2.2739742890572265\n",
      "(Iteration 9001 / 23430) loss: 2.2788831350920074\n",
      "(Iteration 9101 / 23430) loss: 2.1011709775162757\n",
      "(Iteration 9201 / 23430) loss: 2.2175363456825545\n",
      "(Iteration 9301 / 23430) loss: 2.276154867535076\n",
      "(Epoch 6 / 15) Training Accuracy: 0.1888, Validation Accuracy: 0.18206938900828984\n",
      "(Iteration 9401 / 23430) loss: 2.064269178833502\n",
      "(Iteration 9501 / 23430) loss: 2.2745090868034987\n",
      "(Iteration 9601 / 23430) loss: 2.1333546288924934\n",
      "(Iteration 9701 / 23430) loss: 2.1175980107656276\n",
      "(Iteration 9801 / 23430) loss: 2.154674459751231\n",
      "(Iteration 9901 / 23430) loss: 2.2688888649793952\n",
      "(Iteration 10001 / 23430) loss: 2.1830584012101015\n",
      "(Iteration 10101 / 23430) loss: 2.251299393685507\n",
      "(Iteration 10201 / 23430) loss: 2.2631166633317994\n",
      "(Iteration 10301 / 23430) loss: 2.167193612321145\n",
      "(Iteration 10401 / 23430) loss: 2.2763755254682536\n",
      "(Iteration 10501 / 23430) loss: 2.16603649640145\n",
      "(Iteration 10601 / 23430) loss: 2.1639501612675778\n",
      "(Iteration 10701 / 23430) loss: 2.258452053146943\n",
      "(Iteration 10801 / 23430) loss: 2.2152285044154416\n",
      "(Iteration 10901 / 23430) loss: 2.1293325177604157\n",
      "(Epoch 7 / 15) Training Accuracy: 0.1888, Validation Accuracy: 0.18206938900828984\n",
      "(Iteration 11001 / 23430) loss: 2.1812958200919343\n",
      "(Iteration 11101 / 23430) loss: 2.2145639536648787\n",
      "(Iteration 11201 / 23430) loss: 2.1397542330464443\n",
      "(Iteration 11301 / 23430) loss: 2.192299993923399\n",
      "(Iteration 11401 / 23430) loss: 2.0841916419611755\n",
      "(Iteration 11501 / 23430) loss: 2.03916618861707\n",
      "(Iteration 11601 / 23430) loss: 2.1643675050227866\n",
      "(Iteration 11701 / 23430) loss: 1.998129043286843\n",
      "(Iteration 11801 / 23430) loss: 1.9940505225502374\n",
      "(Iteration 11901 / 23430) loss: 2.200745623648538\n",
      "(Iteration 12001 / 23430) loss: 1.9773411373340384\n",
      "(Iteration 12101 / 23430) loss: 1.967977380561737\n",
      "(Iteration 12201 / 23430) loss: 2.207848277127094\n",
      "(Iteration 12301 / 23430) loss: 2.1919810048360073\n",
      "(Iteration 12401 / 23430) loss: 2.1265331788901074\n",
      "(Epoch 8 / 15) Training Accuracy: 0.26554, Validation Accuracy: 0.2566779244703715\n",
      "(Iteration 12501 / 23430) loss: 1.9860167396774675\n",
      "(Iteration 12601 / 23430) loss: 2.033430994285775\n",
      "(Iteration 12701 / 23430) loss: 1.8119360013391257\n",
      "(Iteration 12801 / 23430) loss: 1.9390599645946673\n",
      "(Iteration 12901 / 23430) loss: 2.238156040377473\n",
      "(Iteration 13001 / 23430) loss: 2.0414202115931106\n",
      "(Iteration 13101 / 23430) loss: 2.079549079065782\n",
      "(Iteration 13201 / 23430) loss: 2.042282473390002\n",
      "(Iteration 13301 / 23430) loss: 1.811861953700057\n",
      "(Iteration 13401 / 23430) loss: 1.9351495765265259\n",
      "(Iteration 13501 / 23430) loss: 1.9841672699785424\n",
      "(Iteration 13601 / 23430) loss: 1.9181778266096534\n",
      "(Iteration 13701 / 23430) loss: 1.984624609647197\n",
      "(Iteration 13801 / 23430) loss: 2.206450737473464\n",
      "(Iteration 13901 / 23430) loss: 1.9779072647971963\n",
      "(Iteration 14001 / 23430) loss: 1.8408176865541896\n",
      "(Epoch 9 / 15) Training Accuracy: 0.2768, Validation Accuracy: 0.2600552655818238\n",
      "(Iteration 14101 / 23430) loss: 1.7569095207460457\n",
      "(Iteration 14201 / 23430) loss: 1.906534173528911\n",
      "(Iteration 14301 / 23430) loss: 1.8405852112038734\n",
      "(Iteration 14401 / 23430) loss: 1.9077880267025014\n",
      "(Iteration 14501 / 23430) loss: 1.8556381527055885\n",
      "(Iteration 14601 / 23430) loss: 1.9433920970151333\n",
      "(Iteration 14701 / 23430) loss: 1.9673150281977418\n",
      "(Iteration 14801 / 23430) loss: 1.9219862051431762\n",
      "(Iteration 14901 / 23430) loss: 1.683846822287161\n",
      "(Iteration 15001 / 23430) loss: 1.890539211603925\n",
      "(Iteration 15101 / 23430) loss: 1.8586364701283031\n",
      "(Iteration 15201 / 23430) loss: 1.812555356572226\n",
      "(Iteration 15301 / 23430) loss: 1.7567598757902665\n",
      "(Iteration 15401 / 23430) loss: 2.167239201771908\n",
      "(Iteration 15501 / 23430) loss: 1.8741552478505759\n",
      "(Iteration 15601 / 23430) loss: 1.8212786941394372\n",
      "(Epoch 10 / 15) Training Accuracy: 0.33108, Validation Accuracy: 0.32299662265888857\n",
      "(Iteration 15701 / 23430) loss: 1.7537026231221775\n",
      "(Iteration 15801 / 23430) loss: 1.9728123854944188\n",
      "(Iteration 15901 / 23430) loss: 1.9557297603941104\n",
      "(Iteration 16001 / 23430) loss: 1.6281151564229646\n",
      "(Iteration 16101 / 23430) loss: 1.6006599826254277\n",
      "(Iteration 16201 / 23430) loss: 1.8956634528890361\n",
      "(Iteration 16301 / 23430) loss: 1.9344399880350913\n",
      "(Iteration 16401 / 23430) loss: 1.7226065581114631\n",
      "(Iteration 16501 / 23430) loss: 1.6073387536486234\n",
      "(Iteration 16601 / 23430) loss: 1.6019310832310993\n",
      "(Iteration 16701 / 23430) loss: 1.7315967814801785\n",
      "(Iteration 16801 / 23430) loss: 1.520444147669462\n",
      "(Iteration 16901 / 23430) loss: 1.5464829112340348\n",
      "(Iteration 17001 / 23430) loss: 1.6082016849590794\n",
      "(Iteration 17101 / 23430) loss: 1.8403858445214447\n",
      "(Epoch 11 / 15) Training Accuracy: 0.36932, Validation Accuracy: 0.34264660730733804\n",
      "(Iteration 17201 / 23430) loss: 1.7732237918799956\n",
      "(Iteration 17301 / 23430) loss: 1.517043044302929\n",
      "(Iteration 17401 / 23430) loss: 1.5159477890988482\n",
      "(Iteration 17501 / 23430) loss: 1.7578906791866769\n",
      "(Iteration 17601 / 23430) loss: 1.5339618433488766\n",
      "(Iteration 17701 / 23430) loss: 1.8577912815964441\n",
      "(Iteration 17801 / 23430) loss: 1.891318596934983\n",
      "(Iteration 17901 / 23430) loss: 1.9127473116810219\n",
      "(Iteration 18001 / 23430) loss: 1.5610399005381488\n",
      "(Iteration 18101 / 23430) loss: 1.7728833646451572\n",
      "(Iteration 18201 / 23430) loss: 1.8224428314394978\n",
      "(Iteration 18301 / 23430) loss: 1.6567309881707013\n",
      "(Iteration 18401 / 23430) loss: 1.7875138890261733\n",
      "(Iteration 18501 / 23430) loss: 1.4083515989259767\n",
      "(Iteration 18601 / 23430) loss: 1.4333798509491087\n",
      "(Iteration 18701 / 23430) loss: 1.3818909214593607\n",
      "(Epoch 12 / 15) Training Accuracy: 0.39642, Validation Accuracy: 0.37427080135093643\n",
      "(Iteration 18801 / 23430) loss: 1.7807727538317255\n",
      "(Iteration 18901 / 23430) loss: 1.6812143585637256\n",
      "(Iteration 19001 / 23430) loss: 1.537610470634506\n",
      "(Iteration 19101 / 23430) loss: 1.3895878769254564\n",
      "(Iteration 19201 / 23430) loss: 1.3947151970430234\n",
      "(Iteration 19301 / 23430) loss: 1.5575912996786552\n",
      "(Iteration 19401 / 23430) loss: 1.4167487841129391\n",
      "(Iteration 19501 / 23430) loss: 1.5042106988888135\n",
      "(Iteration 19601 / 23430) loss: 1.467989631252438\n",
      "(Iteration 19701 / 23430) loss: 1.5636968793689232\n",
      "(Iteration 19801 / 23430) loss: 1.8028723857690996\n",
      "(Iteration 19901 / 23430) loss: 1.7070041588825466\n",
      "(Iteration 20001 / 23430) loss: 1.2881934116726912\n",
      "(Iteration 20101 / 23430) loss: 1.1504785301809508\n",
      "(Iteration 20201 / 23430) loss: 1.0296477227183742\n",
      "(Iteration 20301 / 23430) loss: 1.7572835061743657\n",
      "(Epoch 13 / 15) Training Accuracy: 0.51806, Validation Accuracy: 0.500460546515198\n",
      "(Iteration 20401 / 23430) loss: 1.4946293171987708\n",
      "(Iteration 20501 / 23430) loss: 0.9703649069519362\n",
      "(Iteration 20601 / 23430) loss: 1.2601450201804545\n",
      "(Iteration 20701 / 23430) loss: 1.3951201635990431\n",
      "(Iteration 20801 / 23430) loss: 1.4451787190042538\n",
      "(Iteration 20901 / 23430) loss: 1.246518301115798\n",
      "(Iteration 21001 / 23430) loss: 1.4093181209027486\n",
      "(Iteration 21101 / 23430) loss: 1.7298088899811959\n",
      "(Iteration 21201 / 23430) loss: 1.1993450554261451\n",
      "(Iteration 21301 / 23430) loss: 1.1573744131325385\n",
      "(Iteration 21401 / 23430) loss: 1.0719985720710201\n",
      "(Iteration 21501 / 23430) loss: 1.3662126574410616\n",
      "(Iteration 21601 / 23430) loss: 1.349222384683386\n",
      "(Iteration 21701 / 23430) loss: 1.311656496054531\n",
      "(Iteration 21801 / 23430) loss: 1.545093020019404\n",
      "(Epoch 14 / 15) Training Accuracy: 0.57572, Validation Accuracy: 0.553269880257906\n",
      "(Iteration 21901 / 23430) loss: 1.1635558037949751\n",
      "(Iteration 22001 / 23430) loss: 1.3971617976313158\n",
      "(Iteration 22101 / 23430) loss: 1.2411298887757138\n",
      "(Iteration 22201 / 23430) loss: 1.4263755289507412\n",
      "(Iteration 22301 / 23430) loss: 1.088345804051114\n",
      "(Iteration 22401 / 23430) loss: 1.1865591664654047\n",
      "(Iteration 22501 / 23430) loss: 1.2482097753740016\n",
      "(Iteration 22601 / 23430) loss: 0.9736811717017182\n",
      "(Iteration 22701 / 23430) loss: 1.1026065545747206\n",
      "(Iteration 22801 / 23430) loss: 0.9579572882967305\n",
      "(Iteration 22901 / 23430) loss: 1.1339795484058754\n",
      "(Iteration 23001 / 23430) loss: 1.0678596442400279\n",
      "(Iteration 23101 / 23430) loss: 1.263799550220879\n",
      "(Iteration 23201 / 23430) loss: 1.4644910954727393\n",
      "(Iteration 23301 / 23430) loss: 1.4613114716053488\n",
      "(Iteration 23401 / 23430) loss: 0.8772471470512319\n",
      "(Epoch 15 / 15) Training Accuracy: 0.62214, Validation Accuracy: 0.6027018728891618\n",
      "\n",
      "Training with SGD plus Momentum...\n",
      "(Iteration 1 / 23430) loss: 2.302135570793081\n",
      "(Iteration 101 / 23430) loss: 2.3337282204550402\n",
      "(Iteration 201 / 23430) loss: 2.207808147308482\n",
      "(Iteration 301 / 23430) loss: 2.1644564839379767\n",
      "(Iteration 401 / 23430) loss: 2.18949320359867\n",
      "(Iteration 501 / 23430) loss: 2.2570555159616275\n",
      "(Iteration 601 / 23430) loss: 2.223516855180442\n",
      "(Iteration 701 / 23430) loss: 2.262123604182423\n",
      "(Iteration 801 / 23430) loss: 2.2527563528556134\n",
      "(Iteration 901 / 23430) loss: 2.3605674494477036\n",
      "(Iteration 1001 / 23430) loss: 2.201613955822357\n",
      "(Iteration 1101 / 23430) loss: 2.176806406888798\n",
      "(Iteration 1201 / 23430) loss: 2.112439510141613\n",
      "(Iteration 1301 / 23430) loss: 2.274109779523543\n",
      "(Iteration 1401 / 23430) loss: 2.133580653190603\n",
      "(Iteration 1501 / 23430) loss: 2.2789630060127353\n",
      "(Epoch 1 / 15) Training Accuracy: 0.1888, Validation Accuracy: 0.18206938900828984\n",
      "(Iteration 1601 / 23430) loss: 2.3352652809262704\n",
      "(Iteration 1701 / 23430) loss: 2.0142041314240426\n",
      "(Iteration 1801 / 23430) loss: 1.8718770885703666\n",
      "(Iteration 1901 / 23430) loss: 2.0937186907549434\n",
      "(Iteration 2001 / 23430) loss: 1.948033200588638\n",
      "(Iteration 2101 / 23430) loss: 2.067131914962899\n",
      "(Iteration 2201 / 23430) loss: 1.8730728006241146\n",
      "(Iteration 2301 / 23430) loss: 1.9891641056727587\n",
      "(Iteration 2401 / 23430) loss: 2.232772659517021\n",
      "(Iteration 2501 / 23430) loss: 1.7626232099934294\n",
      "(Iteration 2601 / 23430) loss: 1.6134806921716391\n",
      "(Iteration 2701 / 23430) loss: 1.6943781325198208\n",
      "(Iteration 2801 / 23430) loss: 1.6101117033238763\n",
      "(Iteration 2901 / 23430) loss: 1.937761763212965\n",
      "(Iteration 3001 / 23430) loss: 1.2946256848097841\n",
      "(Iteration 3101 / 23430) loss: 1.321596456232315\n",
      "(Epoch 2 / 15) Training Accuracy: 0.47904, Validation Accuracy: 0.4826527479275407\n",
      "(Iteration 3201 / 23430) loss: 1.3755849366824517\n",
      "(Iteration 3301 / 23430) loss: 1.237004950675046\n",
      "(Iteration 3401 / 23430) loss: 1.5381463351333706\n",
      "(Iteration 3501 / 23430) loss: 1.2181693207556001\n",
      "(Iteration 3601 / 23430) loss: 1.8044944573152937\n",
      "(Iteration 3701 / 23430) loss: 1.4213849440837156\n",
      "(Iteration 3801 / 23430) loss: 1.3122977593006295\n",
      "(Iteration 3901 / 23430) loss: 1.0621525915128887\n",
      "(Iteration 4001 / 23430) loss: 1.037030073370089\n",
      "(Iteration 4101 / 23430) loss: 1.0297647116229376\n",
      "(Iteration 4201 / 23430) loss: 1.243748195542319\n",
      "(Iteration 4301 / 23430) loss: 1.2777836734045986\n",
      "(Iteration 4401 / 23430) loss: 1.0608317974712889\n",
      "(Iteration 4501 / 23430) loss: 1.690590850003147\n",
      "(Iteration 4601 / 23430) loss: 1.0076725460135443\n",
      "(Epoch 3 / 15) Training Accuracy: 0.6523, Validation Accuracy: 0.6266502916794596\n",
      "(Iteration 4701 / 23430) loss: 0.9984468168718544\n",
      "(Iteration 4801 / 23430) loss: 1.5006052981411646\n",
      "(Iteration 4901 / 23430) loss: 0.8821859788711197\n",
      "(Iteration 5001 / 23430) loss: 1.0332848896787932\n",
      "(Iteration 5101 / 23430) loss: 0.6525768378986387\n",
      "(Iteration 5201 / 23430) loss: 1.3171847072664478\n",
      "(Iteration 5301 / 23430) loss: 1.026576443138\n",
      "(Iteration 5401 / 23430) loss: 1.212413213340296\n",
      "(Iteration 5501 / 23430) loss: 0.8097190594205835\n",
      "(Iteration 5601 / 23430) loss: 1.2869893575462295\n",
      "(Iteration 5701 / 23430) loss: 1.3597573478183724\n",
      "(Iteration 5801 / 23430) loss: 0.8283671258790961\n",
      "(Iteration 5901 / 23430) loss: 0.9328137130238388\n",
      "(Iteration 6001 / 23430) loss: 0.9989597130603811\n",
      "(Iteration 6101 / 23430) loss: 1.0604263668571337\n",
      "(Iteration 6201 / 23430) loss: 1.0485770341632774\n",
      "(Epoch 4 / 15) Training Accuracy: 0.74052, Validation Accuracy: 0.7172244396684065\n",
      "(Iteration 6301 / 23430) loss: 0.7962859010097214\n",
      "(Iteration 6401 / 23430) loss: 1.0136840272988095\n",
      "(Iteration 6501 / 23430) loss: 0.7745610388315688\n",
      "(Iteration 6601 / 23430) loss: 1.0796702008293364\n",
      "(Iteration 6701 / 23430) loss: 1.2959365119084494\n",
      "(Iteration 6801 / 23430) loss: 0.5457065128384504\n",
      "(Iteration 6901 / 23430) loss: 0.5387511619912689\n",
      "(Iteration 7001 / 23430) loss: 0.4597487592773121\n",
      "(Iteration 7101 / 23430) loss: 1.0456880218588893\n",
      "(Iteration 7201 / 23430) loss: 0.5052441601252374\n",
      "(Iteration 7301 / 23430) loss: 0.9370747159927759\n",
      "(Iteration 7401 / 23430) loss: 0.5937097910579889\n",
      "(Iteration 7501 / 23430) loss: 0.5346519619360119\n",
      "(Iteration 7601 / 23430) loss: 0.5872200211511376\n",
      "(Iteration 7701 / 23430) loss: 0.5629030652928919\n",
      "(Iteration 7801 / 23430) loss: 0.6794905762521655\n",
      "(Epoch 5 / 15) Training Accuracy: 0.78008, Validation Accuracy: 0.7617439361375499\n",
      "(Iteration 7901 / 23430) loss: 0.9541257481322448\n",
      "(Iteration 8001 / 23430) loss: 0.33001013882661634\n",
      "(Iteration 8101 / 23430) loss: 0.9980790171649649\n",
      "(Iteration 8201 / 23430) loss: 0.4777520777936339\n",
      "(Iteration 8301 / 23430) loss: 0.7514339379530546\n",
      "(Iteration 8401 / 23430) loss: 0.6761006986562158\n",
      "(Iteration 8501 / 23430) loss: 1.016916933406411\n",
      "(Iteration 8601 / 23430) loss: 0.8778509616387873\n",
      "(Iteration 8701 / 23430) loss: 0.43809370431424693\n",
      "(Iteration 8801 / 23430) loss: 0.6216897970476347\n",
      "(Iteration 8901 / 23430) loss: 0.496045683378956\n",
      "(Iteration 9001 / 23430) loss: 0.3558455320500533\n",
      "(Iteration 9101 / 23430) loss: 0.5656195476840474\n",
      "(Iteration 9201 / 23430) loss: 0.5882940267845288\n",
      "(Iteration 9301 / 23430) loss: 0.8274494451526626\n",
      "(Epoch 6 / 15) Training Accuracy: 0.80648, Validation Accuracy: 0.7743322075529628\n",
      "(Iteration 9401 / 23430) loss: 1.0575332876911945\n",
      "(Iteration 9501 / 23430) loss: 0.5068612520382825\n",
      "(Iteration 9601 / 23430) loss: 0.43892342775380644\n",
      "(Iteration 9701 / 23430) loss: 0.7685455413550075\n",
      "(Iteration 9801 / 23430) loss: 0.8365666300808638\n",
      "(Iteration 9901 / 23430) loss: 0.5472937444319794\n",
      "(Iteration 10001 / 23430) loss: 0.3928139783564561\n",
      "(Iteration 10101 / 23430) loss: 0.9042858055728239\n",
      "(Iteration 10201 / 23430) loss: 0.5215174219146063\n",
      "(Iteration 10301 / 23430) loss: 0.8036634105817266\n",
      "(Iteration 10401 / 23430) loss: 0.44717250621290117\n",
      "(Iteration 10501 / 23430) loss: 0.7963347583774955\n",
      "(Iteration 10601 / 23430) loss: 0.6222351716339138\n",
      "(Iteration 10701 / 23430) loss: 0.6603621062173948\n",
      "(Iteration 10801 / 23430) loss: 0.8267808007969493\n",
      "(Iteration 10901 / 23430) loss: 0.5894045054711876\n",
      "(Epoch 7 / 15) Training Accuracy: 0.78824, Validation Accuracy: 0.7528400368437212\n",
      "(Iteration 11001 / 23430) loss: 0.6436157211391493\n",
      "(Iteration 11101 / 23430) loss: 0.7499122253764203\n",
      "(Iteration 11201 / 23430) loss: 1.2470031042928293\n",
      "(Iteration 11301 / 23430) loss: 0.5381293207782006\n",
      "(Iteration 11401 / 23430) loss: 0.845084416888676\n",
      "(Iteration 11501 / 23430) loss: 0.8255687885107701\n",
      "(Iteration 11601 / 23430) loss: 0.34179862168002983\n",
      "(Iteration 11701 / 23430) loss: 0.7493698619911437\n",
      "(Iteration 11801 / 23430) loss: 1.0197973236236866\n",
      "(Iteration 11901 / 23430) loss: 0.721967797724602\n",
      "(Iteration 12001 / 23430) loss: 0.2454419273353004\n",
      "(Iteration 12101 / 23430) loss: 0.7476266146188119\n",
      "(Iteration 12201 / 23430) loss: 0.37851579706327443\n",
      "(Iteration 12301 / 23430) loss: 0.712816889179339\n",
      "(Iteration 12401 / 23430) loss: 0.799086682061379\n",
      "(Epoch 8 / 15) Training Accuracy: 0.8148, Validation Accuracy: 0.7817009517961314\n",
      "(Iteration 12501 / 23430) loss: 0.20540615730166673\n",
      "(Iteration 12601 / 23430) loss: 0.48082546420781214\n",
      "(Iteration 12701 / 23430) loss: 0.6669327256071254\n",
      "(Iteration 12801 / 23430) loss: 0.30407973057831894\n",
      "(Iteration 12901 / 23430) loss: 0.8086116343619296\n",
      "(Iteration 13001 / 23430) loss: 0.8821354434851045\n",
      "(Iteration 13101 / 23430) loss: 0.9365006166756618\n",
      "(Iteration 13201 / 23430) loss: 0.5436601379211066\n",
      "(Iteration 13301 / 23430) loss: 0.5551506253173757\n",
      "(Iteration 13401 / 23430) loss: 0.28235594296232636\n",
      "(Iteration 13501 / 23430) loss: 0.7477539818439073\n",
      "(Iteration 13601 / 23430) loss: 0.5249325797510462\n",
      "(Iteration 13701 / 23430) loss: 0.34978573521207257\n",
      "(Iteration 13801 / 23430) loss: 0.5154058152247705\n",
      "(Iteration 13901 / 23430) loss: 0.6473355580212925\n",
      "(Iteration 14001 / 23430) loss: 0.5440957306279651\n",
      "(Epoch 9 / 15) Training Accuracy: 0.81674, Validation Accuracy: 0.7869204789683758\n",
      "(Iteration 14101 / 23430) loss: 0.6535034703834404\n",
      "(Iteration 14201 / 23430) loss: 0.4920917241370795\n",
      "(Iteration 14301 / 23430) loss: 0.49212951710808744\n",
      "(Iteration 14401 / 23430) loss: 0.585493678252939\n",
      "(Iteration 14501 / 23430) loss: 0.6101868071637255\n",
      "(Iteration 14601 / 23430) loss: 0.6495729299228297\n",
      "(Iteration 14701 / 23430) loss: 0.34326361828068\n",
      "(Iteration 14801 / 23430) loss: 0.25936697810849724\n",
      "(Iteration 14901 / 23430) loss: 0.2927932510049943\n",
      "(Iteration 15001 / 23430) loss: 0.5403665851507669\n",
      "(Iteration 15101 / 23430) loss: 0.3035447984626034\n",
      "(Iteration 15201 / 23430) loss: 0.7277879694434782\n",
      "(Iteration 15301 / 23430) loss: 0.5065740510664292\n",
      "(Iteration 15401 / 23430) loss: 0.8656117204332896\n",
      "(Iteration 15501 / 23430) loss: 0.1356101160409696\n",
      "(Iteration 15601 / 23430) loss: 0.3705930660247002\n",
      "(Epoch 10 / 15) Training Accuracy: 0.8526, Validation Accuracy: 0.8124040528093337\n",
      "(Iteration 15701 / 23430) loss: 0.45623304266972997\n",
      "(Iteration 15801 / 23430) loss: 0.5919982510442244\n",
      "(Iteration 15901 / 23430) loss: 0.31861822371262893\n",
      "(Iteration 16001 / 23430) loss: 0.42599371608911263\n",
      "(Iteration 16101 / 23430) loss: 0.303268733812726\n",
      "(Iteration 16201 / 23430) loss: 0.567933402579796\n",
      "(Iteration 16301 / 23430) loss: 0.38838995132951504\n",
      "(Iteration 16401 / 23430) loss: 0.40665568908192307\n",
      "(Iteration 16501 / 23430) loss: 0.32140313262639375\n",
      "(Iteration 16601 / 23430) loss: 0.3971367651632585\n",
      "(Iteration 16701 / 23430) loss: 0.3618118868506765\n",
      "(Iteration 16801 / 23430) loss: 0.3962947680310136\n",
      "(Iteration 16901 / 23430) loss: 0.5544105935994114\n",
      "(Iteration 17001 / 23430) loss: 0.7597416041772689\n",
      "(Iteration 17101 / 23430) loss: 0.5671881606764635\n",
      "(Epoch 11 / 15) Training Accuracy: 0.8437, Validation Accuracy: 0.7961314092723365\n",
      "(Iteration 17201 / 23430) loss: 0.43850995197445947\n",
      "(Iteration 17301 / 23430) loss: 0.5768617412109383\n",
      "(Iteration 17401 / 23430) loss: 0.3531308648927849\n",
      "(Iteration 17501 / 23430) loss: 0.28181474199535494\n",
      "(Iteration 17601 / 23430) loss: 0.4889051756242865\n",
      "(Iteration 17701 / 23430) loss: 0.34571393676722145\n",
      "(Iteration 17801 / 23430) loss: 0.35854516652180723\n",
      "(Iteration 17901 / 23430) loss: 0.199257501618044\n",
      "(Iteration 18001 / 23430) loss: 0.7145500094024223\n",
      "(Iteration 18101 / 23430) loss: 0.47040064292019157\n",
      "(Iteration 18201 / 23430) loss: 0.3723212326039289\n",
      "(Iteration 18301 / 23430) loss: 0.4568311289760688\n",
      "(Iteration 18401 / 23430) loss: 0.1726273891785762\n",
      "(Iteration 18501 / 23430) loss: 0.4144940311832279\n",
      "(Iteration 18601 / 23430) loss: 0.7647075170597633\n",
      "(Iteration 18701 / 23430) loss: 0.26871275686148544\n",
      "(Epoch 12 / 15) Training Accuracy: 0.86584, Validation Accuracy: 0.8167024869511821\n",
      "(Iteration 18801 / 23430) loss: 0.6268167664094795\n",
      "(Iteration 18901 / 23430) loss: 0.319209230634092\n",
      "(Iteration 19001 / 23430) loss: 0.23233062117761114\n",
      "(Iteration 19101 / 23430) loss: 0.5027727672378282\n",
      "(Iteration 19201 / 23430) loss: 0.5612191449009472\n",
      "(Iteration 19301 / 23430) loss: 0.4061725130938244\n",
      "(Iteration 19401 / 23430) loss: 0.605781592249724\n",
      "(Iteration 19501 / 23430) loss: 0.6273311916956291\n",
      "(Iteration 19601 / 23430) loss: 0.32240777742795407\n",
      "(Iteration 19701 / 23430) loss: 0.74089899581046\n",
      "(Iteration 19801 / 23430) loss: 0.5517457024052368\n",
      "(Iteration 19901 / 23430) loss: 0.20523465761870963\n",
      "(Iteration 20001 / 23430) loss: 0.6143609374508565\n",
      "(Iteration 20101 / 23430) loss: 0.7554016201803657\n",
      "(Iteration 20201 / 23430) loss: 0.567307494943692\n",
      "(Iteration 20301 / 23430) loss: 0.6729989128827661\n",
      "(Epoch 13 / 15) Training Accuracy: 0.86484, Validation Accuracy: 0.815781393920786\n",
      "(Iteration 20401 / 23430) loss: 0.45979521679525104\n",
      "(Iteration 20501 / 23430) loss: 0.3807507870573973\n",
      "(Iteration 20601 / 23430) loss: 0.2711743049715418\n",
      "(Iteration 20701 / 23430) loss: 1.1214333450612965\n",
      "(Iteration 20801 / 23430) loss: 0.3416361088519869\n",
      "(Iteration 20901 / 23430) loss: 0.4416225224820528\n",
      "(Iteration 21001 / 23430) loss: 0.3975164980170475\n",
      "(Iteration 21101 / 23430) loss: 0.5747294079104148\n",
      "(Iteration 21201 / 23430) loss: 0.48907005584114205\n",
      "(Iteration 21301 / 23430) loss: 0.3172825903919229\n",
      "(Iteration 21401 / 23430) loss: 0.24858691187866705\n",
      "(Iteration 21501 / 23430) loss: 0.6365046413400223\n",
      "(Iteration 21601 / 23430) loss: 0.4424719569098388\n",
      "(Iteration 21701 / 23430) loss: 0.8771648699270447\n",
      "(Iteration 21801 / 23430) loss: 0.42864707242566624\n",
      "(Epoch 14 / 15) Training Accuracy: 0.87568, Validation Accuracy: 0.8213079521031624\n",
      "(Iteration 21901 / 23430) loss: 0.9321696010107776\n",
      "(Iteration 22001 / 23430) loss: 0.5230719821191988\n",
      "(Iteration 22101 / 23430) loss: 0.4254435899728545\n",
      "(Iteration 22201 / 23430) loss: 0.3947410925355565\n",
      "(Iteration 22301 / 23430) loss: 0.30907583749507017\n",
      "(Iteration 22401 / 23430) loss: 0.23693415779386184\n",
      "(Iteration 22501 / 23430) loss: 0.3385342304187201\n",
      "(Iteration 22601 / 23430) loss: 0.3917520488308203\n",
      "(Iteration 22701 / 23430) loss: 0.6145245315032344\n",
      "(Iteration 22801 / 23430) loss: 0.5523313566310573\n",
      "(Iteration 22901 / 23430) loss: 0.5126280822331317\n",
      "(Iteration 23001 / 23430) loss: 0.48765506831545846\n",
      "(Iteration 23101 / 23430) loss: 0.7970001243249502\n",
      "(Iteration 23201 / 23430) loss: 0.5664391307643565\n",
      "(Iteration 23301 / 23430) loss: 0.3431443372876738\n",
      "(Iteration 23401 / 23430) loss: 0.3654319864853903\n",
      "(Epoch 15 / 15) Training Accuracy: 0.87008, Validation Accuracy: 0.815781393920786\n"
     ]
    },
    {
     "name": "stderr",
     "output_type": "stream",
     "text": [
      "/usr/local/lib/python3.7/dist-packages/ipykernel_launcher.py:42: MatplotlibDeprecationWarning: Adding an axes using the same arguments as a previous axes currently reuses the earlier instance.  In a future version, a new instance will always be created and returned.  Meanwhile, this warning can be suppressed, and the future behavior ensured, by passing a unique label to each axes instance.\n",
      "/usr/local/lib/python3.7/dist-packages/ipykernel_launcher.py:44: MatplotlibDeprecationWarning: Adding an axes using the same arguments as a previous axes currently reuses the earlier instance.  In a future version, a new instance will always be created and returned.  Meanwhile, this warning can be suppressed, and the future behavior ensured, by passing a unique label to each axes instance.\n",
      "/usr/local/lib/python3.7/dist-packages/ipykernel_launcher.py:46: MatplotlibDeprecationWarning: Adding an axes using the same arguments as a previous axes currently reuses the earlier instance.  In a future version, a new instance will always be created and returned.  Meanwhile, this warning can be suppressed, and the future behavior ensured, by passing a unique label to each axes instance.\n",
      "/usr/local/lib/python3.7/dist-packages/ipykernel_launcher.py:49: MatplotlibDeprecationWarning: Adding an axes using the same arguments as a previous axes currently reuses the earlier instance.  In a future version, a new instance will always be created and returned.  Meanwhile, this warning can be suppressed, and the future behavior ensured, by passing a unique label to each axes instance.\n",
      "/usr/local/lib/python3.7/dist-packages/ipykernel_launcher.py:51: MatplotlibDeprecationWarning: Adding an axes using the same arguments as a previous axes currently reuses the earlier instance.  In a future version, a new instance will always be created and returned.  Meanwhile, this warning can be suppressed, and the future behavior ensured, by passing a unique label to each axes instance.\n",
      "/usr/local/lib/python3.7/dist-packages/ipykernel_launcher.py:53: MatplotlibDeprecationWarning: Adding an axes using the same arguments as a previous axes currently reuses the earlier instance.  In a future version, a new instance will always be created and returned.  Meanwhile, this warning can be suppressed, and the future behavior ensured, by passing a unique label to each axes instance.\n",
      "/usr/local/lib/python3.7/dist-packages/ipykernel_launcher.py:57: MatplotlibDeprecationWarning: Adding an axes using the same arguments as a previous axes currently reuses the earlier instance.  In a future version, a new instance will always be created and returned.  Meanwhile, this warning can be suppressed, and the future behavior ensured, by passing a unique label to each axes instance.\n"
     ]
    },
    {
     "data": {
      "image/png": "[encoded data removed]",
      "text/plain": [
       "<Figure size 1080x1080 with 3 Axes>"
      ]
     },
     "metadata": {
      "needs_background": "light"
     },
     "output_type": "display_data"
    }
   ],
   "source": [
    "seed = 123\n",
    "np.random.seed(seed=seed)\n",
    "\n",
    "# Arrange a small data\n",
    "num_train = 50000\n",
    "small_data_dict = {\n",
    "    \"data_train\": (data[\"data_train\"][:num_train], data[\"labels_train\"][:num_train]),\n",
    "    \"data_val\": (data[\"data_val\"], data[\"labels_val\"]),\n",
    "    \"data_test\": (data[\"data_test\"], data[\"labels_test\"])\n",
    "}\n",
    "\n",
    "model_sgd      = FullyConnectedNetwork()\n",
    "model_sgdm     = FullyConnectedNetwork()\n",
    "loss_f_sgd     = cross_entropy()\n",
    "loss_f_sgdm    = cross_entropy()\n",
    "optimizer_sgd  = SGD(model_sgd.net, 1e-2)\n",
    "optimizer_sgdm = SGDM(model_sgdm.net, 1e-2, 0.9)\n",
    "\n",
    "print (\"Training with Vanilla SGD...\")\n",
    "results_sgd = train_net(small_data_dict, model_sgd, loss_f_sgd, optimizer_sgd, batch_size=32, \n",
    "                        max_epochs=15, show_every=100, verbose=True)\n",
    "\n",
    "print (\"\\nTraining with SGD plus Momentum...\")\n",
    "results_sgdm = train_net(small_data_dict, model_sgdm, loss_f_sgdm, optimizer_sgdm, batch_size=32, \n",
    "                         max_epochs=15, show_every=100, verbose=True)\n",
    "\n",
    "opt_params_sgd,  loss_hist_sgd,  train_acc_hist_sgd,  val_acc_hist_sgd  = results_sgd\n",
    "opt_params_sgdm, loss_hist_sgdm, train_acc_hist_sgdm, val_acc_hist_sgdm = results_sgdm\n",
    "\n",
    "plt.subplot(3, 1, 1)\n",
    "plt.title('Training loss')\n",
    "plt.xlabel('Iteration')\n",
    "\n",
    "plt.subplot(3, 1, 2)\n",
    "plt.title('Training accuracy')\n",
    "plt.xlabel('Epoch')\n",
    "\n",
    "plt.subplot(3, 1, 3)\n",
    "plt.title('Validation accuracy')\n",
    "plt.xlabel('Epoch')\n",
    "\n",
    "plt.subplot(3, 1, 1)\n",
    "plt.plot(loss_hist_sgd, 'o', label=\"Vanilla SGD\")\n",
    "plt.subplot(3, 1, 2)\n",
    "plt.plot(train_acc_hist_sgd, '-o', label=\"Vanilla SGD\")\n",
    "plt.subplot(3, 1, 3)\n",
    "plt.plot(val_acc_hist_sgd, '-o', label=\"Vanilla SGD\")\n",
    "         \n",
    "plt.subplot(3, 1, 1)\n",
    "plt.plot(loss_hist_sgdm, 'o', label=\"SGD with Momentum\")\n",
    "plt.subplot(3, 1, 2)\n",
    "plt.plot(train_acc_hist_sgdm, '-o', label=\"SGD with Momentum\")\n",
    "plt.subplot(3, 1, 3)\n",
    "plt.plot(val_acc_hist_sgdm, '-o', label=\"SGD with Momentum\")\n",
    "  \n",
    "for i in [1, 2, 3]:\n",
    "  plt.subplot(3, 1, i)\n",
    "  plt.legend(loc='upper center', ncol=4)\n",
    "plt.gcf().set_size_inches(15, 15)\n",
    "plt.show()"
   ]
  },
  {
   "cell_type": "markdown",
   "metadata": {
    "id": "SjA2nxuARTiW"
   },
   "source": [
    "## RMSProp [2pt]\n",
    "The update rule of RMSProp is as shown below:  \n",
    "\\begin{align*}\n",
    "\\gamma &: \\text{decay rate} \\\\\n",
    "\\epsilon &: \\text{small number} \\\\\n",
    "g_t^2 &: \\text{squared gradients} \\\\\n",
    "\\eta &: \\text{learning rate} \\\\\n",
    "E[g^2]_t &: \\text{decaying average of past squared gradients at update step } t \\\\\n",
    "E[g^2]_t &= \\gamma E[g^2]_{t-1} + (1-\\gamma)g_t^2 \\\\\n",
    "\\theta_{t+1} &= \\theta_t - \\frac{\\eta \\nabla_{\\theta}J(\\theta)}{\\sqrt{E[g^2]_t+\\epsilon}}\n",
    "\\end{align*}\n",
    "Complete the `RMSProp()` function in `lib/optim.py`"
   ]
  },
  {
   "cell_type": "code",
   "execution_count": null,
   "metadata": {
    "colab": {
     "base_uri": "https://localhost:8080/"
    },
    "executionInfo": {
     "elapsed": 203,
     "status": "ok",
     "timestamp": 1644467727205,
     "user": {
      "displayName": "Shuvam Ghosal",
      "photoUrl": "https://lh3.googleusercontent.com/a-/AOh14Ggl_opQYXICfek7WwYGFNVZfIEdc8mxLeqoxEZn=s64",
      "userId": "08961952555119329655"
     },
     "user_tz": 480
    },
    "id": "rI3r-Er_RTiY",
    "outputId": "66b50d8e-9478-4505-c544-1d5889ea173a"
   },
   "outputs": [
    {
     "name": "stdout",
     "output_type": "stream",
     "text": [
      "The following errors should be around or less than 1e-7\n",
      "updated_w error:  9.502645229894295e-08\n",
      "cache error:  2.6477955807156126e-09\n"
     ]
    }
   ],
   "source": [
    "%reload_ext autoreload\n",
    "\n",
    "seed = 123\n",
    "np.random.seed(seed=seed)\n",
    "\n",
    "# Test RMSProp implementation; you should see errors less than 1e-7\n",
    "N, D = 4, 5\n",
    "test_rms = sequential(fc(N, D, name=\"rms_fc\"))\n",
    "\n",
    "w = np.linspace(-0.4, 0.6, num=N*D).reshape(N, D)\n",
    "dw = np.linspace(-0.6, 0.4, num=N*D).reshape(N, D)\n",
    "cache = np.linspace(0.6, 0.9, num=N*D).reshape(N, D)\n",
    "\n",
    "test_rms.layers[0].params = {\"rms_fc_w\": w}\n",
    "test_rms.layers[0].grads = {\"rms_fc_w\": dw}\n",
    "\n",
    "opt_rms = RMSProp(test_rms, 1e-2, 0.99)\n",
    "opt_rms.cache = {\"rms_fc_w\": cache}\n",
    "opt_rms.step()\n",
    "\n",
    "updated_w = test_rms.layers[0].params[\"rms_fc_w\"]\n",
    "cache = opt_rms.cache[\"rms_fc_w\"]\n",
    "\n",
    "expected_updated_w = np.asarray([\n",
    "  [-0.39223849, -0.34037513, -0.28849239, -0.23659121, -0.18467247],\n",
    "  [-0.132737,   -0.08078555, -0.02881884,  0.02316247,  0.07515774],\n",
    "  [ 0.12716641,  0.17918792,  0.23122175,  0.28326742,  0.33532447],\n",
    "  [ 0.38739248,  0.43947102,  0.49155973,  0.54365823,  0.59576619]])\n",
    "expected_cache = np.asarray([\n",
    "  [ 0.5976,      0.6126277,   0.6277108,   0.64284931,  0.65804321],\n",
    "  [ 0.67329252,  0.68859723,  0.70395734,  0.71937285,  0.73484377],\n",
    "  [ 0.75037008,  0.7659518,   0.78158892,  0.79728144,  0.81302936],\n",
    "  [ 0.82883269,  0.84469141,  0.86060554,  0.87657507,  0.8926    ]])\n",
    "\n",
    "print ('The following errors should be around or less than 1e-7')\n",
    "print ('updated_w error: ', rel_error(expected_updated_w, updated_w))\n",
    "print ('cache error: ', rel_error(expected_cache, opt_rms.cache[\"rms_fc_w\"]))"
   ]
  },
  {
   "cell_type": "markdown",
   "metadata": {
    "id": "Bgy1qIFpRTia"
   },
   "source": [
    "## Adam [2pt]\n",
    "The update rule of Adam is as shown below:  \n",
    "\\begin{align*}\n",
    "t &= t + 1 \\\\\n",
    "g_t &: \\text{gradients at update step } t \\\\\n",
    "m_t &= \\beta_1m_{t-1} + (1-\\beta_1)g_t \\\\\n",
    "v_t &= \\beta_2v_{t-1} + (1-\\beta_2)g_t^2 \\\\\n",
    "\\hat{m_t} &= m_t / (1 - \\beta_1^t) \\\\\n",
    "\\hat{v_t} &= v_t / (1 - \\beta_2^t) \\\\\n",
    "\\theta_{t+1} &= \\theta_t - \\frac{\\eta\\ \\hat{m_t}}{\\sqrt{\\hat{v_t}}+\\epsilon} \\\\\n",
    "\\end{align*}\n",
    "Complete the `Adam()` function in `lib/optim.py`\n",
    "Important Notes:\n",
    "1) $t$ must be updated before everything else\n",
    "2) $\\beta_1^t$ is $\\beta_1$ exponentiated to the $t$'th power"
   ]
  },
  {
   "cell_type": "code",
   "execution_count": null,
   "metadata": {
    "colab": {
     "base_uri": "https://localhost:8080/"
    },
    "executionInfo": {
     "elapsed": 209,
     "status": "ok",
     "timestamp": 1644466451879,
     "user": {
      "displayName": "Shuvam Ghosal",
      "photoUrl": "https://lh3.googleusercontent.com/a-/AOh14Ggl_opQYXICfek7WwYGFNVZfIEdc8mxLeqoxEZn=s64",
      "userId": "08961952555119329655"
     },
     "user_tz": 480
    },
    "id": "N2WHX7G8RTib",
    "outputId": "7876d591-6ae0-4cd2-feb3-aa4f9a2cd63a"
   },
   "outputs": [
    {
     "name": "stdout",
     "output_type": "stream",
     "text": [
      "The following errors should be around or less than 1e-7\n",
      "updated_w error:  1.1395691798535431e-07\n",
      "mt error:  4.214963193114416e-09\n",
      "vt error:  4.208314038113071e-09\n"
     ]
    }
   ],
   "source": [
    "%reload_ext autoreload\n",
    "\n",
    "seed = 123\n",
    "np.random.seed(seed=seed)\n",
    "\n",
    "# Test Adam implementation; you should see errors around 1e-7 or less\n",
    "N, D = 4, 5\n",
    "test_adam = sequential(fc(N, D, name=\"adam_fc\"))\n",
    "\n",
    "w = np.linspace(-0.4, 0.6, num=N*D).reshape(N, D)\n",
    "dw = np.linspace(-0.6, 0.4, num=N*D).reshape(N, D)\n",
    "m = np.linspace(0.6, 0.9, num=N*D).reshape(N, D)\n",
    "v = np.linspace(0.7, 0.5, num=N*D).reshape(N, D)\n",
    "\n",
    "test_adam.layers[0].params = {\"adam_fc_w\": w}\n",
    "test_adam.layers[0].grads = {\"adam_fc_w\": dw}\n",
    "\n",
    "opt_adam = Adam(test_adam, 1e-2, 0.9, 0.999, t=5)\n",
    "opt_adam.mt = {\"adam_fc_w\": m}\n",
    "opt_adam.vt = {\"adam_fc_w\": v}\n",
    "opt_adam.step()\n",
    "\n",
    "updated_w = test_adam.layers[0].params[\"adam_fc_w\"]\n",
    "mt = opt_adam.mt[\"adam_fc_w\"]\n",
    "vt = opt_adam.vt[\"adam_fc_w\"]\n",
    "\n",
    "expected_updated_w = np.asarray([\n",
    "  [-0.40094747, -0.34836187, -0.29577703, -0.24319299, -0.19060977],\n",
    "  [-0.1380274,  -0.08544591, -0.03286534,  0.01971428,  0.0722929],\n",
    "  [ 0.1248705,   0.17744702,  0.23002243,  0.28259667,  0.33516969],\n",
    "  [ 0.38774145,  0.44031188,  0.49288093,  0.54544852,  0.59801459]])\n",
    "expected_v = np.asarray([\n",
    "  [ 0.69966,     0.68908382,  0.67851319,  0.66794809,  0.65738853,],\n",
    "  [ 0.64683452,  0.63628604,  0.6257431,   0.61520571,  0.60467385,],\n",
    "  [ 0.59414753,  0.58362676,  0.57311152,  0.56260183,  0.55209767,],\n",
    "  [ 0.54159906,  0.53110598,  0.52061845,  0.51013645,  0.49966,   ]])\n",
    "expected_m = np.asarray([\n",
    "  [ 0.48,        0.49947368,  0.51894737,  0.53842105,  0.55789474],\n",
    "  [ 0.57736842,  0.59684211,  0.61631579,  0.63578947,  0.65526316],\n",
    "  [ 0.67473684,  0.69421053,  0.71368421,  0.73315789,  0.75263158],\n",
    "  [ 0.77210526,  0.79157895,  0.81105263,  0.83052632,  0.85      ]])\n",
    "\n",
    "print ('The following errors should be around or less than 1e-7')\n",
    "print ('updated_w error: ', rel_error(expected_updated_w, updated_w))\n",
    "print ('mt error: ', rel_error(expected_m, mt))\n",
    "print ('vt error: ', rel_error(expected_v, vt))"
   ]
  },
  {
   "cell_type": "markdown",
   "metadata": {
    "id": "J8wWnXdKRTid"
   },
   "source": [
    "## Comparing the optimizers [4pt]\n",
    "Run the following code block to compare the plotted results among all the above optimizers. You should see SGD with Momentum, RMSProp, and Adam optimizers work better than Vanilla SGD optimizer."
   ]
  },
  {
   "cell_type": "code",
   "execution_count": null,
   "metadata": {
    "colab": {
     "base_uri": "https://localhost:8080/",
     "height": 1000
    },
    "executionInfo": {
     "elapsed": 646947,
     "status": "ok",
     "timestamp": 1644468449141,
     "user": {
      "displayName": "Shuvam Ghosal",
      "photoUrl": "https://lh3.googleusercontent.com/a-/AOh14Ggl_opQYXICfek7WwYGFNVZfIEdc8mxLeqoxEZn=s64",
      "userId": "08961952555119329655"
     },
     "user_tz": 480
    },
    "id": "ANirQrIaRTie",
    "outputId": "0b712255-7cd4-4e11-a9a5-c2d256d9de1a"
   },
   "outputs": [
    {
     "name": "stdout",
     "output_type": "stream",
     "text": [
      "Training with RMSProp...\n",
      "(Iteration 1 / 23430) loss: 2.302024602405127\n",
      "(Iteration 101 / 23430) loss: 2.294067022297631\n",
      "(Iteration 201 / 23430) loss: 1.893342872503586\n",
      "(Iteration 301 / 23430) loss: 1.759470224381714\n",
      "(Iteration 401 / 23430) loss: 1.9503735310840349\n",
      "(Iteration 501 / 23430) loss: 2.273858354003455\n",
      "(Iteration 601 / 23430) loss: 1.7274812520456966\n",
      "(Iteration 701 / 23430) loss: 1.6806808255188608\n",
      "(Iteration 801 / 23430) loss: 1.6672283455389894\n",
      "(Iteration 901 / 23430) loss: 1.7881124837389346\n",
      "(Iteration 1001 / 23430) loss: 1.3646501000786175\n",
      "(Iteration 1101 / 23430) loss: 1.4273528384828262\n",
      "(Iteration 1201 / 23430) loss: 1.6809708883056258\n",
      "(Iteration 1301 / 23430) loss: 1.199111477115942\n",
      "(Iteration 1401 / 23430) loss: 1.1832867582205853\n",
      "(Iteration 1501 / 23430) loss: 1.3808528439838619\n",
      "(Epoch 1 / 15) Training Accuracy: 0.59628, Validation Accuracy: 0.578753454098864\n",
      "(Iteration 1601 / 23430) loss: 1.0052556697343502\n",
      "(Iteration 1701 / 23430) loss: 1.2379333923390314\n",
      "(Iteration 1801 / 23430) loss: 0.8143512049584077\n",
      "(Iteration 1901 / 23430) loss: 0.9190943445876717\n",
      "(Iteration 2001 / 23430) loss: 1.0630680460369186\n",
      "(Iteration 2101 / 23430) loss: 1.097770452042898\n",
      "(Iteration 2201 / 23430) loss: 1.0259748091119234\n",
      "(Iteration 2301 / 23430) loss: 1.1277537029882505\n",
      "(Iteration 2401 / 23430) loss: 1.0516233791546061\n",
      "(Iteration 2501 / 23430) loss: 1.0517859732243549\n",
      "(Iteration 2601 / 23430) loss: 1.1145073918731963\n",
      "(Iteration 2701 / 23430) loss: 1.1267738548271675\n",
      "(Iteration 2801 / 23430) loss: 0.8018503116461637\n",
      "(Iteration 2901 / 23430) loss: 0.646209523223667\n",
      "(Iteration 3001 / 23430) loss: 1.2576112977471643\n",
      "(Iteration 3101 / 23430) loss: 1.1083835909544064\n",
      "(Epoch 2 / 15) Training Accuracy: 0.7151, Validation Accuracy: 0.6908197727970525\n",
      "(Iteration 3201 / 23430) loss: 0.663591221467219\n",
      "(Iteration 3301 / 23430) loss: 0.5854400561402131\n",
      "(Iteration 3401 / 23430) loss: 1.0393512912436031\n",
      "(Iteration 3501 / 23430) loss: 0.7022455027088496\n",
      "(Iteration 3601 / 23430) loss: 0.5603737795427048\n",
      "(Iteration 3701 / 23430) loss: 0.6897449090796524\n",
      "(Iteration 3801 / 23430) loss: 0.7940649847342378\n",
      "(Iteration 3901 / 23430) loss: 1.0799326405267826\n",
      "(Iteration 4001 / 23430) loss: 1.2948232702413254\n",
      "(Iteration 4101 / 23430) loss: 0.6973035692705551\n",
      "(Iteration 4201 / 23430) loss: 0.843021092349709\n",
      "(Iteration 4301 / 23430) loss: 0.8869295503461855\n",
      "(Iteration 4401 / 23430) loss: 0.8813039863106478\n",
      "(Iteration 4501 / 23430) loss: 1.063567866958718\n",
      "(Iteration 4601 / 23430) loss: 0.9770414898258766\n",
      "(Epoch 3 / 15) Training Accuracy: 0.75066, Validation Accuracy: 0.7279705250230273\n",
      "(Iteration 4701 / 23430) loss: 0.4926941797288628\n",
      "(Iteration 4801 / 23430) loss: 0.899703945366261\n",
      "(Iteration 4901 / 23430) loss: 0.9474659732301254\n",
      "(Iteration 5001 / 23430) loss: 0.4428209301166274\n",
      "(Iteration 5101 / 23430) loss: 0.7804558159717143\n",
      "(Iteration 5201 / 23430) loss: 0.8860585365584711\n",
      "(Iteration 5301 / 23430) loss: 0.887627922514262\n",
      "(Iteration 5401 / 23430) loss: 0.746187492687642\n",
      "(Iteration 5501 / 23430) loss: 0.4719420590181168\n",
      "(Iteration 5601 / 23430) loss: 0.38684006402505133\n",
      "(Iteration 5701 / 23430) loss: 0.6995661107878031\n",
      "(Iteration 5801 / 23430) loss: 1.015655424461972\n",
      "(Iteration 5901 / 23430) loss: 0.5346241260481345\n",
      "(Iteration 6001 / 23430) loss: 0.7327152732077717\n",
      "(Iteration 6101 / 23430) loss: 0.43488599164847125\n",
      "(Iteration 6201 / 23430) loss: 0.7715814260578384\n",
      "(Epoch 4 / 15) Training Accuracy: 0.76888, Validation Accuracy: 0.7442431685600246\n",
      "(Iteration 6301 / 23430) loss: 0.941846799036741\n",
      "(Iteration 6401 / 23430) loss: 0.5388115494330443\n",
      "(Iteration 6501 / 23430) loss: 0.5918788604263552\n",
      "(Iteration 6601 / 23430) loss: 0.7036796453477503\n",
      "(Iteration 6701 / 23430) loss: 0.6290645215406738\n",
      "(Iteration 6801 / 23430) loss: 0.5395836922625339\n",
      "(Iteration 6901 / 23430) loss: 0.666022741315908\n",
      "(Iteration 7001 / 23430) loss: 0.9170356814312053\n",
      "(Iteration 7101 / 23430) loss: 0.6353602314787101\n",
      "(Iteration 7201 / 23430) loss: 0.731204505915793\n",
      "(Iteration 7301 / 23430) loss: 0.7547274440641609\n",
      "(Iteration 7401 / 23430) loss: 0.8848942669369884\n",
      "(Iteration 7501 / 23430) loss: 0.7746887819006337\n",
      "(Iteration 7601 / 23430) loss: 0.6169953440095262\n",
      "(Iteration 7701 / 23430) loss: 0.3647921237904312\n",
      "(Iteration 7801 / 23430) loss: 0.45049585339107323\n",
      "(Epoch 5 / 15) Training Accuracy: 0.79668, Validation Accuracy: 0.7657353392692662\n",
      "(Iteration 7901 / 23430) loss: 0.5690834777826248\n",
      "(Iteration 8001 / 23430) loss: 0.4510437967655647\n",
      "(Iteration 8101 / 23430) loss: 0.5274783840844527\n",
      "(Iteration 8201 / 23430) loss: 0.4521490758893345\n",
      "(Iteration 8301 / 23430) loss: 0.7060777210733371\n",
      "(Iteration 8401 / 23430) loss: 0.5875982555920498\n",
      "(Iteration 8501 / 23430) loss: 0.7274344938715318\n",
      "(Iteration 8601 / 23430) loss: 0.8212427423035684\n",
      "(Iteration 8701 / 23430) loss: 0.8889450275473432\n",
      "(Iteration 8801 / 23430) loss: 0.39643407751127313\n",
      "(Iteration 8901 / 23430) loss: 0.6038593503619789\n",
      "(Iteration 9001 / 23430) loss: 0.7633686176636673\n",
      "(Iteration 9101 / 23430) loss: 0.45320810250254623\n",
      "(Iteration 9201 / 23430) loss: 0.4167013318645003\n",
      "(Iteration 9301 / 23430) loss: 0.79528316089778\n",
      "(Epoch 6 / 15) Training Accuracy: 0.80864, Validation Accuracy: 0.7688056493705864\n",
      "(Iteration 9401 / 23430) loss: 0.43341856427813263\n",
      "(Iteration 9501 / 23430) loss: 0.622011743341583\n",
      "(Iteration 9601 / 23430) loss: 0.6329021171593971\n",
      "(Iteration 9701 / 23430) loss: 0.3978822046923501\n",
      "(Iteration 9801 / 23430) loss: 0.36616554118138966\n",
      "(Iteration 9901 / 23430) loss: 0.8116032355584081\n",
      "(Iteration 10001 / 23430) loss: 0.8675740429289965\n",
      "(Iteration 10101 / 23430) loss: 0.49064929804617463\n",
      "(Iteration 10201 / 23430) loss: 0.4033115046159261\n",
      "(Iteration 10301 / 23430) loss: 0.6631065952481914\n",
      "(Iteration 10401 / 23430) loss: 0.471722730759271\n",
      "(Iteration 10501 / 23430) loss: 0.8295400486928852\n",
      "(Iteration 10601 / 23430) loss: 0.696098458936687\n",
      "(Iteration 10701 / 23430) loss: 0.4495212762672426\n",
      "(Iteration 10801 / 23430) loss: 0.47915302137671334\n",
      "(Iteration 10901 / 23430) loss: 0.8639922977200148\n",
      "(Epoch 7 / 15) Training Accuracy: 0.8259, Validation Accuracy: 0.7924470371507523\n",
      "(Iteration 11001 / 23430) loss: 0.3972655678416332\n",
      "(Iteration 11101 / 23430) loss: 0.4958313802605562\n",
      "(Iteration 11201 / 23430) loss: 0.9896846500236979\n",
      "(Iteration 11301 / 23430) loss: 0.4249939268612686\n",
      "(Iteration 11401 / 23430) loss: 0.611164027269643\n",
      "(Iteration 11501 / 23430) loss: 1.0438387928728485\n",
      "(Iteration 11601 / 23430) loss: 0.9453959778126504\n",
      "(Iteration 11701 / 23430) loss: 0.36313040065218294\n",
      "(Iteration 11801 / 23430) loss: 0.2712158206695521\n",
      "(Iteration 11901 / 23430) loss: 0.6572288353709463\n",
      "(Iteration 12001 / 23430) loss: 0.42647521672105354\n",
      "(Iteration 12101 / 23430) loss: 0.3839201997443027\n",
      "(Iteration 12201 / 23430) loss: 0.4774727032150208\n",
      "(Iteration 12301 / 23430) loss: 0.37619369973910244\n",
      "(Iteration 12401 / 23430) loss: 0.8582029441391876\n",
      "(Epoch 8 / 15) Training Accuracy: 0.8373, Validation Accuracy: 0.79060485108996\n",
      "(Iteration 12501 / 23430) loss: 0.47601550324818287\n",
      "(Iteration 12601 / 23430) loss: 0.3322648376775252\n",
      "(Iteration 12701 / 23430) loss: 0.48114188932072954\n",
      "(Iteration 12801 / 23430) loss: 0.6584945806393823\n",
      "(Iteration 12901 / 23430) loss: 0.5997117763889501\n",
      "(Iteration 13001 / 23430) loss: 0.45552416417167685\n",
      "(Iteration 13101 / 23430) loss: 0.4736791097391058\n",
      "(Iteration 13201 / 23430) loss: 0.38113043140618497\n",
      "(Iteration 13301 / 23430) loss: 0.6454803175878441\n",
      "(Iteration 13401 / 23430) loss: 0.2572016095043689\n",
      "(Iteration 13501 / 23430) loss: 0.6383205149478892\n",
      "(Iteration 13601 / 23430) loss: 0.453912181202391\n",
      "(Iteration 13701 / 23430) loss: 0.499988669884485\n",
      "(Iteration 13801 / 23430) loss: 0.6531505230332232\n",
      "(Iteration 13901 / 23430) loss: 0.8398567273619241\n",
      "(Iteration 14001 / 23430) loss: 0.6328387896531309\n",
      "(Epoch 9 / 15) Training Accuracy: 0.85176, Validation Accuracy: 0.7982806263432607\n",
      "(Iteration 14101 / 23430) loss: 0.41491358314381355\n",
      "(Iteration 14201 / 23430) loss: 0.7708854861712661\n",
      "(Iteration 14301 / 23430) loss: 0.40024148127941767\n",
      "(Iteration 14401 / 23430) loss: 0.39882686695552566\n",
      "(Iteration 14501 / 23430) loss: 0.683676235298768\n",
      "(Iteration 14601 / 23430) loss: 0.41880648146493404\n",
      "(Iteration 14701 / 23430) loss: 0.2914205962357872\n",
      "(Iteration 14801 / 23430) loss: 0.3980272728802614\n",
      "(Iteration 14901 / 23430) loss: 0.2398404831396635\n",
      "(Iteration 15001 / 23430) loss: 0.36113495288147557\n",
      "(Iteration 15101 / 23430) loss: 0.3389692110631416\n",
      "(Iteration 15201 / 23430) loss: 0.5195864694898653\n",
      "(Iteration 15301 / 23430) loss: 0.5854906223570147\n",
      "(Iteration 15401 / 23430) loss: 0.4427026158415714\n",
      "(Iteration 15501 / 23430) loss: 0.5008039078062614\n",
      "(Iteration 15601 / 23430) loss: 0.2938406043254264\n",
      "(Epoch 10 / 15) Training Accuracy: 0.85476, Validation Accuracy: 0.8096407737181456\n",
      "(Iteration 15701 / 23430) loss: 0.3752749503572198\n",
      "(Iteration 15801 / 23430) loss: 0.7116441542544978\n",
      "(Iteration 15901 / 23430) loss: 0.4559657325057763\n",
      "(Iteration 16001 / 23430) loss: 0.4806658364017985\n",
      "(Iteration 16101 / 23430) loss: 0.4006977501914059\n",
      "(Iteration 16201 / 23430) loss: 0.6396420282123814\n",
      "(Iteration 16301 / 23430) loss: 0.5501850864282214\n",
      "(Iteration 16401 / 23430) loss: 0.2939958114003798\n",
      "(Iteration 16501 / 23430) loss: 0.15653694403346452\n",
      "(Iteration 16601 / 23430) loss: 0.28447889819893246\n",
      "(Iteration 16701 / 23430) loss: 0.8178016522440918\n",
      "(Iteration 16801 / 23430) loss: 0.11640961348013323\n",
      "(Iteration 16901 / 23430) loss: 0.2615797020891657\n",
      "(Iteration 17001 / 23430) loss: 0.38116622447370346\n",
      "(Iteration 17101 / 23430) loss: 0.5164441621543103\n",
      "(Epoch 11 / 15) Training Accuracy: 0.83722, Validation Accuracy: 0.7875345409886398\n",
      "(Iteration 17201 / 23430) loss: 0.4352891627423391\n",
      "(Iteration 17301 / 23430) loss: 0.5932155689287012\n",
      "(Iteration 17401 / 23430) loss: 0.28383361138834157\n",
      "(Iteration 17501 / 23430) loss: 0.5388864090608485\n",
      "(Iteration 17601 / 23430) loss: 0.5409336370329973\n",
      "(Iteration 17701 / 23430) loss: 0.5303415152740898\n",
      "(Iteration 17801 / 23430) loss: 0.511629848967999\n",
      "(Iteration 17901 / 23430) loss: 0.6660777165084646\n",
      "(Iteration 18001 / 23430) loss: 0.38938966826921007\n",
      "(Iteration 18101 / 23430) loss: 0.8347372077646662\n",
      "(Iteration 18201 / 23430) loss: 0.9279596652331217\n",
      "(Iteration 18301 / 23430) loss: 0.46445520585834005\n",
      "(Iteration 18401 / 23430) loss: 0.5547346566518117\n",
      "(Iteration 18501 / 23430) loss: 0.18441430557629884\n",
      "(Iteration 18601 / 23430) loss: 0.831674463044413\n",
      "(Iteration 18701 / 23430) loss: 0.42441817843088386\n",
      "(Epoch 12 / 15) Training Accuracy: 0.86158, Validation Accuracy: 0.8087196806877495\n",
      "(Iteration 18801 / 23430) loss: 0.6190343523765928\n",
      "(Iteration 18901 / 23430) loss: 0.5669590870958671\n",
      "(Iteration 19001 / 23430) loss: 0.36578550322845005\n",
      "(Iteration 19101 / 23430) loss: 0.7798310635078262\n",
      "(Iteration 19201 / 23430) loss: 0.4405451482943182\n",
      "(Iteration 19301 / 23430) loss: 0.5022564013344617\n",
      "(Iteration 19401 / 23430) loss: 0.29065977096022627\n",
      "(Iteration 19501 / 23430) loss: 0.3465054584023672\n",
      "(Iteration 19601 / 23430) loss: 0.3832692978125063\n",
      "(Iteration 19701 / 23430) loss: 0.566502193556093\n",
      "(Iteration 19801 / 23430) loss: 0.745097959930783\n",
      "(Iteration 19901 / 23430) loss: 0.6298222206980113\n",
      "(Iteration 20001 / 23430) loss: 0.3920288525382655\n",
      "(Iteration 20101 / 23430) loss: 0.2471469693108118\n",
      "(Iteration 20201 / 23430) loss: 0.2567487781675972\n",
      "(Iteration 20301 / 23430) loss: 0.6088983191808051\n",
      "(Epoch 13 / 15) Training Accuracy: 0.86182, Validation Accuracy: 0.803807184525637\n",
      "(Iteration 20401 / 23430) loss: 0.4666124962638957\n",
      "(Iteration 20501 / 23430) loss: 0.23286782789767832\n",
      "(Iteration 20601 / 23430) loss: 0.2477967191050112\n",
      "(Iteration 20701 / 23430) loss: 0.6689142061139705\n",
      "(Iteration 20801 / 23430) loss: 0.3034728685475939\n",
      "(Iteration 20901 / 23430) loss: 0.2653129190801481\n",
      "(Iteration 21001 / 23430) loss: 0.5516206610757997\n",
      "(Iteration 21101 / 23430) loss: 0.6291386490318306\n",
      "(Iteration 21201 / 23430) loss: 0.2711199542430031\n",
      "(Iteration 21301 / 23430) loss: 0.2484651098021931\n",
      "(Iteration 21401 / 23430) loss: 0.16967456736236092\n",
      "(Iteration 21501 / 23430) loss: 0.5054520031077783\n",
      "(Iteration 21601 / 23430) loss: 0.454185630006011\n",
      "(Iteration 21701 / 23430) loss: 0.3574442110739111\n",
      "(Iteration 21801 / 23430) loss: 0.31182034977671486\n",
      "(Epoch 14 / 15) Training Accuracy: 0.87314, Validation Accuracy: 0.8139392078599939\n",
      "(Iteration 21901 / 23430) loss: 0.2610465622296607\n",
      "(Iteration 22001 / 23430) loss: 0.4744361570494431\n",
      "(Iteration 22101 / 23430) loss: 0.3200181803049899\n",
      "(Iteration 22201 / 23430) loss: 0.4090921954939072\n",
      "(Iteration 22301 / 23430) loss: 0.5343878394140946\n",
      "(Iteration 22401 / 23430) loss: 0.3774615697314726\n",
      "(Iteration 22501 / 23430) loss: 0.46761182431607073\n",
      "(Iteration 22601 / 23430) loss: 0.1101425946535258\n",
      "(Iteration 22701 / 23430) loss: 0.2646969559966891\n",
      "(Iteration 22801 / 23430) loss: 0.08558495450130231\n",
      "(Iteration 22901 / 23430) loss: 0.4201695896557802\n",
      "(Iteration 23001 / 23430) loss: 0.41472363527284495\n",
      "(Iteration 23101 / 23430) loss: 0.433189336805879\n",
      "(Iteration 23201 / 23430) loss: 0.5098049986527469\n",
      "(Iteration 23301 / 23430) loss: 0.6836915984166858\n",
      "(Iteration 23401 / 23430) loss: 0.5480710253458085\n",
      "(Epoch 15 / 15) Training Accuracy: 0.87596, Validation Accuracy: 0.802886091495241\n",
      "\n",
      "Training with Adam...\n",
      "(Iteration 1 / 23430) loss: 2.302135570793081\n",
      "(Iteration 101 / 23430) loss: 2.3198634724140073\n",
      "(Iteration 201 / 23430) loss: 1.9618958880522457\n",
      "(Iteration 301 / 23430) loss: 1.585606631301271\n",
      "(Iteration 401 / 23430) loss: 1.7896660759748688\n",
      "(Iteration 501 / 23430) loss: 1.612909801966469\n",
      "(Iteration 601 / 23430) loss: 1.7067611315203317\n",
      "(Iteration 701 / 23430) loss: 1.3276912296797114\n",
      "(Iteration 801 / 23430) loss: 1.61780100185252\n",
      "(Iteration 901 / 23430) loss: 1.586637885524276\n",
      "(Iteration 1001 / 23430) loss: 1.448359424010306\n",
      "(Iteration 1101 / 23430) loss: 1.2621550801462897\n",
      "(Iteration 1201 / 23430) loss: 1.39442232877252\n",
      "(Iteration 1301 / 23430) loss: 0.9467047331863584\n",
      "(Iteration 1401 / 23430) loss: 1.1631727078326264\n",
      "(Iteration 1501 / 23430) loss: 1.200721186199817\n",
      "(Epoch 1 / 15) Training Accuracy: 0.6424, Validation Accuracy: 0.6198956094565551\n",
      "(Iteration 1601 / 23430) loss: 1.1695989450999653\n",
      "(Iteration 1701 / 23430) loss: 0.6217648972274612\n",
      "(Iteration 1801 / 23430) loss: 0.7650561017588395\n",
      "(Iteration 1901 / 23430) loss: 1.0957411862311002\n",
      "(Iteration 2001 / 23430) loss: 0.7782596242547477\n",
      "(Iteration 2101 / 23430) loss: 0.7657574413169372\n",
      "(Iteration 2201 / 23430) loss: 1.0061451360195492\n",
      "(Iteration 2301 / 23430) loss: 1.1562414001217145\n",
      "(Iteration 2401 / 23430) loss: 1.1999495511878138\n",
      "(Iteration 2501 / 23430) loss: 0.942647499895306\n",
      "(Iteration 2601 / 23430) loss: 0.9122671664616515\n",
      "(Iteration 2701 / 23430) loss: 1.135344907606744\n",
      "(Iteration 2801 / 23430) loss: 0.898289315110953\n",
      "(Iteration 2901 / 23430) loss: 1.2066398187067229\n",
      "(Iteration 3001 / 23430) loss: 0.8229912031919362\n",
      "(Iteration 3101 / 23430) loss: 1.0419885558822395\n",
      "(Epoch 2 / 15) Training Accuracy: 0.71848, Validation Accuracy: 0.7000307031010132\n",
      "(Iteration 3201 / 23430) loss: 0.8805702818524583\n",
      "(Iteration 3301 / 23430) loss: 0.8074649208647983\n",
      "(Iteration 3401 / 23430) loss: 1.1711857861033748\n",
      "(Iteration 3501 / 23430) loss: 0.7893376121819\n",
      "(Iteration 3601 / 23430) loss: 0.8596689189524409\n",
      "(Iteration 3701 / 23430) loss: 1.0532783579073701\n",
      "(Iteration 3801 / 23430) loss: 0.6482366271000959\n",
      "(Iteration 3901 / 23430) loss: 0.9135016691563981\n",
      "(Iteration 4001 / 23430) loss: 0.581283287243616\n",
      "(Iteration 4101 / 23430) loss: 0.6424033272987697\n",
      "(Iteration 4201 / 23430) loss: 0.739161586614623\n",
      "(Iteration 4301 / 23430) loss: 0.9441097017271312\n",
      "(Iteration 4401 / 23430) loss: 0.8356494442696796\n",
      "(Iteration 4501 / 23430) loss: 0.9972575000311477\n",
      "(Iteration 4601 / 23430) loss: 0.45354633652851817\n",
      "(Epoch 3 / 15) Training Accuracy: 0.76518, Validation Accuracy: 0.7356463002763279\n",
      "(Iteration 4701 / 23430) loss: 0.6888480103687884\n",
      "(Iteration 4801 / 23430) loss: 0.7770372204869719\n",
      "(Iteration 4901 / 23430) loss: 0.7793976568647571\n",
      "(Iteration 5001 / 23430) loss: 0.9469707496626116\n",
      "(Iteration 5101 / 23430) loss: 0.3502627725730637\n",
      "(Iteration 5201 / 23430) loss: 0.9534633648798094\n",
      "(Iteration 5301 / 23430) loss: 0.7762922653675421\n",
      "(Iteration 5401 / 23430) loss: 1.4573794417091435\n",
      "(Iteration 5501 / 23430) loss: 0.6059126193358348\n",
      "(Iteration 5601 / 23430) loss: 0.8445126523168452\n",
      "(Iteration 5701 / 23430) loss: 1.0497079551377781\n",
      "(Iteration 5801 / 23430) loss: 0.6078570243273116\n",
      "(Iteration 5901 / 23430) loss: 1.0837828467287198\n",
      "(Iteration 6001 / 23430) loss: 0.8135112664553361\n",
      "(Iteration 6101 / 23430) loss: 0.8962421558148674\n",
      "(Iteration 6201 / 23430) loss: 0.9774523259866608\n",
      "(Epoch 4 / 15) Training Accuracy: 0.78358, Validation Accuracy: 0.7580595640159656\n",
      "(Iteration 6301 / 23430) loss: 0.4289437256704267\n",
      "(Iteration 6401 / 23430) loss: 0.7757521255610168\n",
      "(Iteration 6501 / 23430) loss: 0.48491150629752544\n",
      "(Iteration 6601 / 23430) loss: 0.6062919733817302\n",
      "(Iteration 6701 / 23430) loss: 1.3224832294546731\n",
      "(Iteration 6801 / 23430) loss: 0.45395810621748195\n",
      "(Iteration 6901 / 23430) loss: 0.6418998513744606\n",
      "(Iteration 7001 / 23430) loss: 0.4503093649728705\n",
      "(Iteration 7101 / 23430) loss: 1.02605799289281\n",
      "(Iteration 7201 / 23430) loss: 0.44260943122481805\n",
      "(Iteration 7301 / 23430) loss: 0.9010646614206339\n",
      "(Iteration 7401 / 23430) loss: 0.4555500109511508\n",
      "(Iteration 7501 / 23430) loss: 0.6683508012939741\n",
      "(Iteration 7601 / 23430) loss: 0.4956375967229011\n",
      "(Iteration 7701 / 23430) loss: 0.6099702344737281\n",
      "(Iteration 7801 / 23430) loss: 0.6090571206374897\n",
      "(Epoch 5 / 15) Training Accuracy: 0.80616, Validation Accuracy: 0.7718759594719067\n",
      "(Iteration 7901 / 23430) loss: 0.704073546690681\n",
      "(Iteration 8001 / 23430) loss: 0.5076956545341267\n",
      "(Iteration 8101 / 23430) loss: 0.8977962456630298\n",
      "(Iteration 8201 / 23430) loss: 0.41572391672018666\n",
      "(Iteration 8301 / 23430) loss: 0.5494966232440024\n",
      "(Iteration 8401 / 23430) loss: 0.5696264243688733\n",
      "(Iteration 8501 / 23430) loss: 0.8731235023320006\n",
      "(Iteration 8601 / 23430) loss: 0.7048078934095727\n",
      "(Iteration 8701 / 23430) loss: 0.286309711903603\n",
      "(Iteration 8801 / 23430) loss: 0.41953824326722744\n",
      "(Iteration 8901 / 23430) loss: 0.4016917194531344\n",
      "(Iteration 9001 / 23430) loss: 0.22004244968742523\n",
      "(Iteration 9101 / 23430) loss: 0.44585782256513906\n",
      "(Iteration 9201 / 23430) loss: 0.5831027137002892\n",
      "(Iteration 9301 / 23430) loss: 0.5930036266949441\n",
      "(Epoch 6 / 15) Training Accuracy: 0.8118, Validation Accuracy: 0.7681915873503223\n",
      "(Iteration 9401 / 23430) loss: 0.764067403436332\n",
      "(Iteration 9501 / 23430) loss: 0.4103136236432008\n",
      "(Iteration 9601 / 23430) loss: 0.42238107966814753\n",
      "(Iteration 9701 / 23430) loss: 0.8515018481577924\n",
      "(Iteration 9801 / 23430) loss: 0.5751290481736258\n",
      "(Iteration 9901 / 23430) loss: 0.5930713436755749\n",
      "(Iteration 10001 / 23430) loss: 0.37804010096452056\n",
      "(Iteration 10101 / 23430) loss: 0.909323710467582\n",
      "(Iteration 10201 / 23430) loss: 0.4763315223888817\n",
      "(Iteration 10301 / 23430) loss: 0.5665155924618204\n",
      "(Iteration 10401 / 23430) loss: 0.3797892515940904\n",
      "(Iteration 10501 / 23430) loss: 0.6983321650724993\n",
      "(Iteration 10601 / 23430) loss: 0.6151784048098532\n",
      "(Iteration 10701 / 23430) loss: 0.5198568759075118\n",
      "(Iteration 10801 / 23430) loss: 0.4684209829398245\n",
      "(Iteration 10901 / 23430) loss: 0.5854311522495165\n",
      "(Epoch 7 / 15) Training Accuracy: 0.828, Validation Accuracy: 0.7810868897758674\n",
      "(Iteration 11001 / 23430) loss: 0.5174574735115937\n",
      "(Iteration 11101 / 23430) loss: 0.7380495618244355\n",
      "(Iteration 11201 / 23430) loss: 0.9248628246206432\n",
      "(Iteration 11301 / 23430) loss: 0.3563848450985219\n",
      "(Iteration 11401 / 23430) loss: 0.6387270341383333\n",
      "(Iteration 11501 / 23430) loss: 0.6418139763472765\n",
      "(Iteration 11601 / 23430) loss: 0.2828694575924739\n",
      "(Iteration 11701 / 23430) loss: 0.7280063452960905\n",
      "(Iteration 11801 / 23430) loss: 0.7314928838370771\n",
      "(Iteration 11901 / 23430) loss: 0.672427760700353\n",
      "(Iteration 12001 / 23430) loss: 0.25409286533644515\n",
      "(Iteration 12101 / 23430) loss: 0.6704778626901529\n",
      "(Iteration 12201 / 23430) loss: 0.2739670166148245\n",
      "(Iteration 12301 / 23430) loss: 0.5141087646202127\n",
      "(Iteration 12401 / 23430) loss: 0.6317788319811916\n",
      "(Epoch 8 / 15) Training Accuracy: 0.83174, Validation Accuracy: 0.775253300583359\n",
      "(Iteration 12501 / 23430) loss: 0.39452422482200067\n",
      "(Iteration 12601 / 23430) loss: 0.5711682499147774\n",
      "(Iteration 12701 / 23430) loss: 0.47279206753639536\n",
      "(Iteration 12801 / 23430) loss: 0.28469809236779886\n",
      "(Iteration 12901 / 23430) loss: 0.7571741422192557\n",
      "(Iteration 13001 / 23430) loss: 0.7571689963351889\n",
      "(Iteration 13101 / 23430) loss: 0.6916813057421931\n",
      "(Iteration 13201 / 23430) loss: 0.5969435362584388\n",
      "(Iteration 13301 / 23430) loss: 0.46700871611750094\n",
      "(Iteration 13401 / 23430) loss: 0.3895664706200155\n",
      "(Iteration 13501 / 23430) loss: 0.6501182236980427\n",
      "(Iteration 13601 / 23430) loss: 0.38434998776148865\n",
      "(Iteration 13701 / 23430) loss: 0.26349074465146993\n",
      "(Iteration 13801 / 23430) loss: 0.5864134199024045\n",
      "(Iteration 13901 / 23430) loss: 0.44708386763280517\n",
      "(Iteration 14001 / 23430) loss: 0.3823652422870979\n",
      "(Epoch 9 / 15) Training Accuracy: 0.84118, Validation Accuracy: 0.7909118821000921\n",
      "(Iteration 14101 / 23430) loss: 0.4953359838586592\n",
      "(Iteration 14201 / 23430) loss: 0.38886823445584834\n",
      "(Iteration 14301 / 23430) loss: 0.3003842109359041\n",
      "(Iteration 14401 / 23430) loss: 0.5478919085054836\n",
      "(Iteration 14501 / 23430) loss: 0.5747485100277933\n",
      "(Iteration 14601 / 23430) loss: 0.7627803226923944\n",
      "(Iteration 14701 / 23430) loss: 0.2842635889494404\n",
      "(Iteration 14801 / 23430) loss: 0.2514330618639686\n",
      "(Iteration 14901 / 23430) loss: 0.2757663365722245\n",
      "(Iteration 15001 / 23430) loss: 0.4477010963217038\n",
      "(Iteration 15101 / 23430) loss: 0.41441709886820693\n",
      "(Iteration 15201 / 23430) loss: 0.5407896601059745\n",
      "(Iteration 15301 / 23430) loss: 0.5618385717393732\n",
      "(Iteration 15401 / 23430) loss: 0.9249247843620942\n",
      "(Iteration 15501 / 23430) loss: 0.22794788225958723\n",
      "(Iteration 15601 / 23430) loss: 0.3673478178482177\n",
      "(Epoch 10 / 15) Training Accuracy: 0.85262, Validation Accuracy: 0.7872275099785079\n",
      "(Iteration 15701 / 23430) loss: 0.3709280527930052\n",
      "(Iteration 15801 / 23430) loss: 0.5215914438265472\n",
      "(Iteration 15901 / 23430) loss: 0.3463431918264308\n",
      "(Iteration 16001 / 23430) loss: 0.3295875972234178\n",
      "(Iteration 16101 / 23430) loss: 0.2201187528566998\n",
      "(Iteration 16201 / 23430) loss: 0.3072974848643012\n",
      "(Iteration 16301 / 23430) loss: 0.34442489710739493\n",
      "(Iteration 16401 / 23430) loss: 0.4064130188242986\n",
      "(Iteration 16501 / 23430) loss: 0.2275573249802429\n",
      "(Iteration 16601 / 23430) loss: 0.33391402405689863\n",
      "(Iteration 16701 / 23430) loss: 0.3349967042121718\n",
      "(Iteration 16801 / 23430) loss: 0.44586050288137347\n",
      "(Iteration 16901 / 23430) loss: 0.7275430135703705\n",
      "(Iteration 17001 / 23430) loss: 0.7017365239633246\n",
      "(Iteration 17101 / 23430) loss: 0.6444414140274672\n",
      "(Epoch 11 / 15) Training Accuracy: 0.85656, Validation Accuracy: 0.7998157813939207\n",
      "(Iteration 17201 / 23430) loss: 0.4003494443566713\n",
      "(Iteration 17301 / 23430) loss: 0.42978156659950334\n",
      "(Iteration 17401 / 23430) loss: 0.36562918759982277\n",
      "(Iteration 17501 / 23430) loss: 0.18045733445987164\n",
      "(Iteration 17601 / 23430) loss: 0.707525664718283\n",
      "(Iteration 17701 / 23430) loss: 0.22698575885789712\n",
      "(Iteration 17801 / 23430) loss: 0.36668109704873036\n",
      "(Iteration 17901 / 23430) loss: 0.11605046578973253\n",
      "(Iteration 18001 / 23430) loss: 0.8066506815778185\n",
      "(Iteration 18101 / 23430) loss: 0.3713046810800677\n",
      "(Iteration 18201 / 23430) loss: 0.48014047961093076\n",
      "(Iteration 18301 / 23430) loss: 0.6482290830915094\n",
      "(Iteration 18401 / 23430) loss: 0.1415920424363903\n",
      "(Iteration 18501 / 23430) loss: 0.3533937467477145\n",
      "(Iteration 18601 / 23430) loss: 0.6717047614626892\n",
      "(Iteration 18701 / 23430) loss: 0.11964197183459821\n",
      "(Epoch 12 / 15) Training Accuracy: 0.8717, Validation Accuracy: 0.8099478047282775\n",
      "(Iteration 18801 / 23430) loss: 0.4586146339097021\n",
      "(Iteration 18901 / 23430) loss: 0.4009992206096308\n",
      "(Iteration 19001 / 23430) loss: 0.23767840279492047\n",
      "(Iteration 19101 / 23430) loss: 0.5388923672046364\n",
      "(Iteration 19201 / 23430) loss: 0.48879969639313103\n",
      "(Iteration 19301 / 23430) loss: 0.47505632777198564\n",
      "(Iteration 19401 / 23430) loss: 0.6821725728219141\n",
      "(Iteration 19501 / 23430) loss: 0.7301504053348757\n",
      "(Iteration 19601 / 23430) loss: 0.2343869062636452\n",
      "(Iteration 19701 / 23430) loss: 0.6256301091904276\n",
      "(Iteration 19801 / 23430) loss: 0.4759024810054874\n",
      "(Iteration 19901 / 23430) loss: 0.2893583468241386\n",
      "(Iteration 20001 / 23430) loss: 0.5441848572476855\n",
      "(Iteration 20101 / 23430) loss: 0.8279212783861833\n",
      "(Iteration 20201 / 23430) loss: 0.6159762253971427\n",
      "(Iteration 20301 / 23430) loss: 0.45278749580105726\n",
      "(Epoch 13 / 15) Training Accuracy: 0.8764, Validation Accuracy: 0.8077985876573534\n",
      "(Iteration 20401 / 23430) loss: 0.4088015557197711\n",
      "(Iteration 20501 / 23430) loss: 0.21767229109447492\n",
      "(Iteration 20601 / 23430) loss: 0.2817191611572564\n",
      "(Iteration 20701 / 23430) loss: 0.7875675026006073\n",
      "(Iteration 20801 / 23430) loss: 0.41844751281537645\n",
      "(Iteration 20901 / 23430) loss: 0.36635291874799325\n",
      "(Iteration 21001 / 23430) loss: 0.40079707093267997\n",
      "(Iteration 21101 / 23430) loss: 0.4508339492173976\n",
      "(Iteration 21201 / 23430) loss: 0.425672748904257\n",
      "(Iteration 21301 / 23430) loss: 0.3863094119984717\n",
      "(Iteration 21401 / 23430) loss: 0.2659672429406543\n",
      "(Iteration 21501 / 23430) loss: 0.5411514785459618\n",
      "(Iteration 21601 / 23430) loss: 0.4574121058355285\n",
      "(Iteration 21701 / 23430) loss: 0.9276677605567804\n",
      "(Iteration 21801 / 23430) loss: 0.21475245459612574\n",
      "(Epoch 14 / 15) Training Accuracy: 0.87512, Validation Accuracy: 0.8096407737181456\n",
      "(Iteration 21901 / 23430) loss: 0.6005405242059298\n",
      "(Iteration 22001 / 23430) loss: 0.2806117450559087\n",
      "(Iteration 22101 / 23430) loss: 0.5402668264664363\n",
      "(Iteration 22201 / 23430) loss: 0.49909298822964854\n",
      "(Iteration 22301 / 23430) loss: 0.20476868856302521\n",
      "(Iteration 22401 / 23430) loss: 0.2509307772482714\n",
      "(Iteration 22501 / 23430) loss: 0.2468669260307956\n",
      "(Iteration 22601 / 23430) loss: 0.4724738349206018\n",
      "(Iteration 22701 / 23430) loss: 0.5327330233497656\n",
      "(Iteration 22801 / 23430) loss: 0.6243319432683432\n",
      "(Iteration 22901 / 23430) loss: 0.39787820989046896\n",
      "(Iteration 23001 / 23430) loss: 0.31383667436179624\n",
      "(Iteration 23101 / 23430) loss: 0.6515293932569\n",
      "(Iteration 23201 / 23430) loss: 0.5058765809341638\n",
      "(Iteration 23301 / 23430) loss: 0.4360468453636662\n",
      "(Iteration 23401 / 23430) loss: 0.37640295406503127\n",
      "(Epoch 15 / 15) Training Accuracy: 0.88116, Validation Accuracy: 0.8136321768498619\n"
     ]
    },
    {
     "name": "stderr",
     "output_type": "stream",
     "text": [
      "/usr/local/lib/python3.7/dist-packages/ipykernel_launcher.py:34: MatplotlibDeprecationWarning: Adding an axes using the same arguments as a previous axes currently reuses the earlier instance.  In a future version, a new instance will always be created and returned.  Meanwhile, this warning can be suppressed, and the future behavior ensured, by passing a unique label to each axes instance.\n",
      "/usr/local/lib/python3.7/dist-packages/ipykernel_launcher.py:36: MatplotlibDeprecationWarning: Adding an axes using the same arguments as a previous axes currently reuses the earlier instance.  In a future version, a new instance will always be created and returned.  Meanwhile, this warning can be suppressed, and the future behavior ensured, by passing a unique label to each axes instance.\n",
      "/usr/local/lib/python3.7/dist-packages/ipykernel_launcher.py:38: MatplotlibDeprecationWarning: Adding an axes using the same arguments as a previous axes currently reuses the earlier instance.  In a future version, a new instance will always be created and returned.  Meanwhile, this warning can be suppressed, and the future behavior ensured, by passing a unique label to each axes instance.\n",
      "/usr/local/lib/python3.7/dist-packages/ipykernel_launcher.py:41: MatplotlibDeprecationWarning: Adding an axes using the same arguments as a previous axes currently reuses the earlier instance.  In a future version, a new instance will always be created and returned.  Meanwhile, this warning can be suppressed, and the future behavior ensured, by passing a unique label to each axes instance.\n",
      "/usr/local/lib/python3.7/dist-packages/ipykernel_launcher.py:43: MatplotlibDeprecationWarning: Adding an axes using the same arguments as a previous axes currently reuses the earlier instance.  In a future version, a new instance will always be created and returned.  Meanwhile, this warning can be suppressed, and the future behavior ensured, by passing a unique label to each axes instance.\n",
      "/usr/local/lib/python3.7/dist-packages/ipykernel_launcher.py:45: MatplotlibDeprecationWarning: Adding an axes using the same arguments as a previous axes currently reuses the earlier instance.  In a future version, a new instance will always be created and returned.  Meanwhile, this warning can be suppressed, and the future behavior ensured, by passing a unique label to each axes instance.\n",
      "/usr/local/lib/python3.7/dist-packages/ipykernel_launcher.py:48: MatplotlibDeprecationWarning: Adding an axes using the same arguments as a previous axes currently reuses the earlier instance.  In a future version, a new instance will always be created and returned.  Meanwhile, this warning can be suppressed, and the future behavior ensured, by passing a unique label to each axes instance.\n",
      "/usr/local/lib/python3.7/dist-packages/ipykernel_launcher.py:50: MatplotlibDeprecationWarning: Adding an axes using the same arguments as a previous axes currently reuses the earlier instance.  In a future version, a new instance will always be created and returned.  Meanwhile, this warning can be suppressed, and the future behavior ensured, by passing a unique label to each axes instance.\n",
      "/usr/local/lib/python3.7/dist-packages/ipykernel_launcher.py:52: MatplotlibDeprecationWarning: Adding an axes using the same arguments as a previous axes currently reuses the earlier instance.  In a future version, a new instance will always be created and returned.  Meanwhile, this warning can be suppressed, and the future behavior ensured, by passing a unique label to each axes instance.\n",
      "/usr/local/lib/python3.7/dist-packages/ipykernel_launcher.py:55: MatplotlibDeprecationWarning: Adding an axes using the same arguments as a previous axes currently reuses the earlier instance.  In a future version, a new instance will always be created and returned.  Meanwhile, this warning can be suppressed, and the future behavior ensured, by passing a unique label to each axes instance.\n",
      "/usr/local/lib/python3.7/dist-packages/ipykernel_launcher.py:57: MatplotlibDeprecationWarning: Adding an axes using the same arguments as a previous axes currently reuses the earlier instance.  In a future version, a new instance will always be created and returned.  Meanwhile, this warning can be suppressed, and the future behavior ensured, by passing a unique label to each axes instance.\n",
      "/usr/local/lib/python3.7/dist-packages/ipykernel_launcher.py:59: MatplotlibDeprecationWarning: Adding an axes using the same arguments as a previous axes currently reuses the earlier instance.  In a future version, a new instance will always be created and returned.  Meanwhile, this warning can be suppressed, and the future behavior ensured, by passing a unique label to each axes instance.\n",
      "/usr/local/lib/python3.7/dist-packages/ipykernel_launcher.py:63: MatplotlibDeprecationWarning: Adding an axes using the same arguments as a previous axes currently reuses the earlier instance.  In a future version, a new instance will always be created and returned.  Meanwhile, this warning can be suppressed, and the future behavior ensured, by passing a unique label to each axes instance.\n"
     ]
    },
    {
     "data": {
      "image/png": "[encoded data removed]",
      "text/plain": [
       "<Figure size 1080x1080 with 3 Axes>"
      ]
     },
     "metadata": {
      "needs_background": "light"
     },
     "output_type": "display_data"
    }
   ],
   "source": [
    "seed = 123\n",
    "np.random.seed(seed=seed)\n",
    "\n",
    "model_rms      = FullyConnectedNetwork()\n",
    "model_adam     = FullyConnectedNetwork()\n",
    "loss_f_rms     = cross_entropy()\n",
    "loss_f_adam    = cross_entropy()\n",
    "optimizer_rms  = RMSProp(model_rms.net, 5e-4)\n",
    "optimizer_adam = Adam(model_adam.net, 5e-4)\n",
    "\n",
    "print (\"Training with RMSProp...\")\n",
    "results_rms = train_net(small_data_dict, model_rms, loss_f_rms, optimizer_rms, batch_size=32, \n",
    "                        max_epochs=15, show_every=100, verbose=True)\n",
    "\n",
    "print (\"\\nTraining with Adam...\")\n",
    "results_adam = train_net(small_data_dict, model_adam, loss_f_adam, optimizer_adam, batch_size=32, \n",
    "                         max_epochs=15, show_every=100, verbose=True)\n",
    "\n",
    "opt_params_rms,  loss_hist_rms,  train_acc_hist_rms,  val_acc_hist_rms  = results_rms\n",
    "opt_params_adam, loss_hist_adam, train_acc_hist_adam, val_acc_hist_adam = results_adam\n",
    "\n",
    "plt.subplot(3, 1, 1)\n",
    "plt.title('Training loss')\n",
    "plt.xlabel('Iteration')\n",
    "\n",
    "plt.subplot(3, 1, 2)\n",
    "plt.title('Training accuracy')\n",
    "plt.xlabel('Epoch')\n",
    "\n",
    "plt.subplot(3, 1, 3)\n",
    "plt.title('Validation accuracy')\n",
    "plt.xlabel('Epoch')\n",
    "\n",
    "plt.subplot(3, 1, 1)\n",
    "plt.plot(loss_hist_sgd, 'o', label=\"Vanilla SGD\")\n",
    "plt.subplot(3, 1, 2)\n",
    "plt.plot(train_acc_hist_sgd, '-o', label=\"Vanilla SGD\")\n",
    "plt.subplot(3, 1, 3)\n",
    "plt.plot(val_acc_hist_sgd, '-o', label=\"Vanilla SGD\")\n",
    "         \n",
    "plt.subplot(3, 1, 1)\n",
    "plt.plot(loss_hist_sgdm, 'o', label=\"SGD with Momentum\")\n",
    "plt.subplot(3, 1, 2)\n",
    "plt.plot(train_acc_hist_sgdm, '-o', label=\"SGD with Momentum\")\n",
    "plt.subplot(3, 1, 3)\n",
    "plt.plot(val_acc_hist_sgdm, '-o', label=\"SGD with Momentum\")\n",
    "\n",
    "plt.subplot(3, 1, 1)\n",
    "plt.plot(loss_hist_rms, 'o', label=\"RMSProp\")\n",
    "plt.subplot(3, 1, 2)\n",
    "plt.plot(train_acc_hist_rms, '-o', label=\"RMSProp\")\n",
    "plt.subplot(3, 1, 3)\n",
    "plt.plot(val_acc_hist_rms, '-o', label=\"RMSProp\")\n",
    "         \n",
    "plt.subplot(3, 1, 1)\n",
    "plt.plot(loss_hist_adam, 'o', label=\"Adam\")\n",
    "plt.subplot(3, 1, 2)\n",
    "plt.plot(train_acc_hist_adam, '-o', label=\"Adam\")\n",
    "plt.subplot(3, 1, 3)\n",
    "plt.plot(val_acc_hist_adam, '-o', label=\"Adam\")\n",
    "  \n",
    "for i in [1, 2, 3]:\n",
    "  plt.subplot(3, 1, i)\n",
    "  plt.legend(loc='upper center', ncol=4)\n",
    "plt.gcf().set_size_inches(15, 15)\n",
    "plt.show()"
   ]
  },
  {
   "cell_type": "markdown",
   "metadata": {
    "id": "EC2jRSe8RTig"
   },
   "source": [
    "## Plot the Activation Functions [3pt]\n",
    "In each of the activation function, use the given lambda function template to plot their corresponding curves."
   ]
  },
  {
   "cell_type": "code",
   "execution_count": null,
   "metadata": {
    "colab": {
     "base_uri": "https://localhost:8080/",
     "height": 500
    },
    "executionInfo": {
     "elapsed": 877,
     "status": "ok",
     "timestamp": 1644469879379,
     "user": {
      "displayName": "Shuvam Ghosal",
      "photoUrl": "https://lh3.googleusercontent.com/a-/AOh14Ggl_opQYXICfek7WwYGFNVZfIEdc8mxLeqoxEZn=s64",
      "userId": "08961952555119329655"
     },
     "user_tz": 480
    },
    "id": "yRYBz5BcRTii",
    "outputId": "3aa098da-2620-41f2-c8f1-5dcac34814c8",
    "scrolled": false
   },
   "outputs": [
    {
     "data": {
      "image/png": "[encoded data removed]",
      "text/plain": [
       "<Figure size 864x576 with 6 Axes>"
      ]
     },
     "metadata": {
      "needs_background": "light"
     },
     "output_type": "display_data"
    }
   ],
   "source": [
    "left, right = -10, 10\n",
    "X  = np.linspace(left, right, 100)\n",
    "XS = np.linspace(-5, 5, 10)\n",
    "lw = 4\n",
    "alpha = 0.1 # alpha for leaky_relu\n",
    "elu_alpha = 0.5\n",
    "selu_alpha = 1.6732\n",
    "selu_scale = 1.0507\n",
    "\n",
    "###################\n",
    "# TODO: YOUR CODE #\n",
    "###################\n",
    "sigmoid = lambda x: 1 / (1 + np.exp(-x))\n",
    "leaky_relu = lambda x: np.where(x >= 0, x, x * alpha)\n",
    "relu = lambda x: np.where(x >=0 ,x, 0)\n",
    "elu = lambda x: np.where(x >= 0, x, (np.exp(x) - 1) * elu_alpha)\n",
    "selu = lambda x: selu_scale *  np.where(x >= 0, x, (np.exp(x) - 1) * selu_alpha)\n",
    "tanh = lambda x: np.tanh(x)\n",
    "####################\n",
    "# END OF YOUR CODE #\n",
    "####################\n",
    "\n",
    "activations = {\n",
    "    \"Sigmoid\": sigmoid,\n",
    "    \"LeakyReLU\": leaky_relu,\n",
    "    \"ReLU\": relu,\n",
    "    \"ELU\": elu,\n",
    "    \"SeLU\": selu,\n",
    "    \"Tanh\": tanh\n",
    "}\n",
    "\n",
    "# Ground Truth activations\n",
    "GT_Act = {\n",
    "    \"Sigmoid\": [0.00669285092428, 0.0200575365379, 0.0585369028744, 0.158869104881, 0.364576440742, \n",
    "                0.635423559258, 0.841130895119, 0.941463097126, 0.979942463462, 0.993307149076],\n",
    "    \"LeakyReLU\": [-0.5, -0.388888888889, -0.277777777778, -0.166666666667, -0.0555555555556, \n",
    "                  0.555555555556, 1.66666666667, 2.77777777778, 3.88888888889, 5.0],\n",
    "    \"ReLU\": [-0.0, -0.0, -0.0, -0.0, -0.0, 0.555555555556, 1.66666666667, 2.77777777778, 3.88888888889, 5.0],\n",
    "    \"ELU\": [-0.4966310265, -0.489765962143, -0.468911737989, -0.405562198581, -0.213123289631, \n",
    "            0.555555555556, 1.66666666667, 2.77777777778, 3.88888888889, 5.0],\n",
    "    \"SeLU\": [-1.74618571868, -1.72204772347, -1.64872296837, -1.42598202974, -0.749354802287, \n",
    "             0.583722222222, 1.75116666667, 2.91861111111, 4.08605555556, 5.2535],\n",
    "    \"Tanh\": [-0.999909204263, -0.999162466631, -0.992297935288, -0.931109608668, -0.504672397722, \n",
    "             0.504672397722, 0.931109608668, 0.992297935288, 0.999162466631, 0.999909204263]\n",
    "} \n",
    "\n",
    "fig = plt.figure(figsize=(12,8))\n",
    "for i, label in enumerate(activations):\n",
    "    ax = fig.add_subplot(2, 3, i+1)\n",
    "    ax.plot(X, activations[label](X), color='darkorchid', lw=lw, label=label)\n",
    "    assert rel_error(activations[label](XS), GT_Act[label]) < 1e-9, \\\n",
    "           \"Your implementation of {} might be wrong\".format(label)\n",
    "    ax.axhline(0, color='black')\n",
    "    ax.axvline(0, color='black')\n",
    "    ax.set_title('{}'.format(label), fontsize=14)\n",
    "plt.show()"
   ]
  },
  {
   "cell_type": "markdown",
   "metadata": {
    "id": "5ay1yOARRTik"
   },
   "source": [
    "# Submission\n",
    "\n",
    "Please prepare a PDF document `problem_1_solution.pdf` in the root directory of this repository with all plots and inline answers of your solution. Concretely, the document should contain the following items in strict order:\n",
    "1. Training loss / accuracy curves for the simple neural network training with >75% validation accuracy\n",
    "2. Plots for comparing vanilla SGD to SGD + Momentum\n",
    "3. \"Comparing different Optimizers\" plots\n",
    "4. Activation function plot\n",
    "\n",
    "Note that you still need to submit the jupyter notebook with all generated solutions. We will randomly pick submissions and check that the plots in the PDF and in the notebook are equivalent."
   ]
  },
  {
   "cell_type": "markdown",
   "metadata": {
    "id": "IpRH_AlxRTip"
   },
   "source": []
  }
 ],
 "metadata": {
  "accelerator": "GPU",
  "colab": {
   "collapsed_sections": [],
   "name": "Problem_1.ipynb",
   "provenance": []
  },
  "interpreter": {
   "hash": "e103e45eca5d435ac9a00cf10fd997b3485374cccd23b5e022d32750e08ef354"
  },
  "kernelspec": {
   "display_name": "Python 3",
   "language": "python",
   "name": "python3"
  },
  "language_info": {
   "codemirror_mode": {
    "name": "ipython",
    "version": 3
   },
   "file_extension": ".py",
   "mimetype": "text/x-python",
   "name": "python",
   "nbconvert_exporter": "python",
   "pygments_lexer": "ipython3",
   "version": "3.8.5"
  }
 },
 "nbformat": 4,
 "nbformat_minor": 1
}
