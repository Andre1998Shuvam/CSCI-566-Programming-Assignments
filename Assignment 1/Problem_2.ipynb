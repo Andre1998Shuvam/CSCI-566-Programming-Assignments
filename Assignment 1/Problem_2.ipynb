{
 "cells": [
  {
   "cell_type": "markdown",
   "metadata": {
    "id": "sOL_pl4DBqPb"
   },
   "source": [
    "# Problem 2: Incorporating CNNs\n",
    "\n",
    "* Learning Objective: In this problem, you will learn how to deeply understand how Convolutional Neural Networks work by implementing one.\n",
    "* Provided Code: We provide the skeletons of classes you need to complete. Forward checking and gradient checkings are provided for verifying your implementation as well.\n",
    "* TODOs: you will implement a Convolutional Layer and a MaxPooling Layer to improve on your classification results in part 1."
   ]
  },
  {
   "cell_type": "code",
   "execution_count": null,
   "metadata": {
    "colab": {
     "base_uri": "https://localhost:8080/"
    },
    "executionInfo": {
     "elapsed": 2500,
     "status": "ok",
     "timestamp": 1645132632230,
     "user": {
      "displayName": "Shuvam Ghosal",
      "photoUrl": "https://lh3.googleusercontent.com/a-/AOh14Ggl_opQYXICfek7WwYGFNVZfIEdc8mxLeqoxEZn=s64",
      "userId": "08961952555119329655"
     },
     "user_tz": 480
    },
    "id": "C2QiyuAlBqPe",
    "outputId": "5b97d55f-bc90-4189-d9e8-606f2db11263"
   },
   "outputs": [
    {
     "name": "stdout",
     "output_type": "stream",
     "text": [
      "The Zen of Python, by Tim Peters\n",
      "\n",
      "Beautiful is better than ugly.\n",
      "Explicit is better than implicit.\n",
      "Simple is better than complex.\n",
      "Complex is better than complicated.\n",
      "Flat is better than nested.\n",
      "Sparse is better than dense.\n",
      "Readability counts.\n",
      "Special cases aren't special enough to break the rules.\n",
      "Although practicality beats purity.\n",
      "Errors should never pass silently.\n",
      "Unless explicitly silenced.\n",
      "In the face of ambiguity, refuse the temptation to guess.\n",
      "There should be one-- and preferably only one --obvious way to do it.\n",
      "Although that way may not be obvious at first unless you're Dutch.\n",
      "Now is better than never.\n",
      "Although never is often better than *right* now.\n",
      "If the implementation is hard to explain, it's a bad idea.\n",
      "If the implementation is easy to explain, it may be a good idea.\n",
      "Namespaces are one honking great idea -- let's do more of those!\n"
     ]
    }
   ],
   "source": [
    "from lib.mlp.fully_conn import *\n",
    "from lib.mlp.layer_utils import *\n",
    "from lib.mlp.datasets import *\n",
    "from lib.mlp.train import *\n",
    "from lib.cnn.layer_utils import *\n",
    "from lib.cnn.cnn_models import *\n",
    "from lib.grad_check import *\n",
    "from lib.optim import *\n",
    "import numpy as np\n",
    "import matplotlib.pyplot as plt\n",
    "\n",
    "%matplotlib inline\n",
    "plt.rcParams['figure.figsize'] = (10.0, 8.0) # set default size of plots\n",
    "plt.rcParams['image.interpolation'] = 'nearest'\n",
    "plt.rcParams['image.cmap'] = 'gray'\n",
    "\n",
    "# for auto-reloading external modules\n",
    "# see http://stackoverflow.com/questions/1907993/autoreload-of-modules-in-ipython\n",
    "%load_ext autoreload\n",
    "%autoreload 2"
   ]
  },
  {
   "cell_type": "markdown",
   "metadata": {
    "id": "drX665zCBqPi"
   },
   "source": [
    "## Loading the data (SVHN)\n",
    "Run the following code block to download SVHN dataset and load in the properly splitted SVHN data. The script `get_datasets.sh` use `wget` to download the SVHN dataset. If you have a trouble with executing `get_datasets.sh`, you can manually download the dataset and extract files."
   ]
  },
  {
   "cell_type": "code",
   "execution_count": null,
   "metadata": {
    "id": "S_aU_kbBBqPk"
   },
   "outputs": [],
   "source": [
    "!./get_datasets.sh\n",
    "# !get_datasets.sh for windows users"
   ]
  },
  {
   "cell_type": "code",
   "execution_count": null,
   "metadata": {
    "colab": {
     "base_uri": "https://localhost:8080/"
    },
    "executionInfo": {
     "elapsed": 6834,
     "status": "ok",
     "timestamp": 1645132642752,
     "user": {
      "displayName": "Shuvam Ghosal",
      "photoUrl": "https://lh3.googleusercontent.com/a-/AOh14Ggl_opQYXICfek7WwYGFNVZfIEdc8mxLeqoxEZn=s64",
      "userId": "08961952555119329655"
     },
     "user_tz": 480
    },
    "id": "9ZXhmHzHBqPl",
    "outputId": "29fdc7cb-03ee-48c3-fb84-ab1d11b70ca2"
   },
   "outputs": [
    {
     "name": "stdout",
     "output_type": "stream",
     "text": [
      "Name: data_train Shape: (70000, 32, 32, 3)\n",
      "Name: labels_train Shape: (70000,)\n",
      "Name: data_val Shape: (3257, 32, 32, 3)\n",
      "Name: labels_val Shape: (3257,)\n",
      "Name: data_test Shape: (26032, 32, 32, 3)\n",
      "Name: labels_test Shape: (26032,)\n"
     ]
    }
   ],
   "source": [
    "data = SVHN_data()\n",
    "for k, v in data.items():\n",
    "    print (\"Name: {} Shape: {}\".format(k, v.shape))"
   ]
  },
  {
   "cell_type": "markdown",
   "metadata": {
    "id": "zstFfbeOBqPn"
   },
   "source": [
    "## Convolutional Neural Networks\n",
    "\n",
    "We will use convolutional neural networks to try to improve on the results from Problem 1. Convolutional layers make the assumption that local pixels are more important for prediction than far-away pixels. This allows us to form networks that are robust to small changes in positioning in images.\n",
    "\n",
    "### Convolutional Layer Output size calculation [2pts]\n",
    "\n",
    "As you have learned, two important parameters of a convolutional layer are its stride and padding. To warm up, we will need to calculate the output size of a convolutional layer given its stride and padding. To do this, open the `lib/cnn/layer_utils.py` file and fill out the TODO section in the `get_output_size` function in the ConvLayer2D class. \n",
    "\n",
    "Implement your function so that it returns the correct size as indicated by the block below."
   ]
  },
  {
   "cell_type": "code",
   "execution_count": null,
   "metadata": {
    "colab": {
     "base_uri": "https://localhost:8080/"
    },
    "executionInfo": {
     "elapsed": 458,
     "status": "ok",
     "timestamp": 1645151223419,
     "user": {
      "displayName": "Shuvam Ghosal",
      "photoUrl": "https://lh3.googleusercontent.com/a-/AOh14Ggl_opQYXICfek7WwYGFNVZfIEdc8mxLeqoxEZn=s64",
      "userId": "08961952555119329655"
     },
     "user_tz": 480
    },
    "id": "aVdVeq_YBqPo",
    "outputId": "801751ef-c4a4-4257-e433-5733c427cd27"
   },
   "outputs": [
    {
     "name": "stdout",
     "output_type": "stream",
     "text": [
      "Received [32, 16, 16, 16] and expected [32, 16, 16, 16]\n"
     ]
    }
   ],
   "source": [
    "%reload_ext autoreload\n",
    "\n",
    "input_image = np.zeros([32, 28, 28, 3]) # a stack of 32 28 by 28 rgb images\n",
    "\n",
    "in_channels = input_image.shape[-1] #must agree with the last dimension of the input image\n",
    "k_size = 4 \n",
    "n_filt = 16\n",
    "\n",
    "conv_layer = ConvLayer2D(in_channels, k_size, n_filt, stride=2, padding=3)\n",
    "output_size = conv_layer.get_output_size(input_image.shape) \n",
    "\n",
    "print(\"Received {} and expected [32, 16, 16, 16]\".format(output_size))"
   ]
  },
  {
   "cell_type": "markdown",
   "metadata": {
    "id": "ueBVFKdiBqPp"
   },
   "source": [
    "### Convolutional Layer Forward Pass [5pts]\n",
    "\n",
    "Now, we will implement the forward pass of a convolutional layer. Fill in the TODO block in the `forward` function of the ConvLayer2D class."
   ]
  },
  {
   "cell_type": "code",
   "execution_count": null,
   "metadata": {
    "colab": {
     "base_uri": "https://localhost:8080/"
    },
    "executionInfo": {
     "elapsed": 156,
     "status": "ok",
     "timestamp": 1644791455395,
     "user": {
      "displayName": "Shuvam Ghosal",
      "photoUrl": "https://lh3.googleusercontent.com/a-/AOh14Ggl_opQYXICfek7WwYGFNVZfIEdc8mxLeqoxEZn=s64",
      "userId": "08961952555119329655"
     },
     "user_tz": 480
    },
    "id": "xXZuZvT-BqPq",
    "outputId": "779313cc-3bf3-4362-870e-a1fe8f1dbf91"
   },
   "outputs": [
    {
     "name": "stdout",
     "output_type": "stream",
     "text": [
      "Received output shape: (1, 4, 4, 2), Expected output shape: (1, 4, 4, 2)\n",
      "Difference:  5.110565335399418e-08\n"
     ]
    }
   ],
   "source": [
    "%reload_ext autoreload\n",
    "\n",
    "# Test the convolutional forward function\n",
    "input_image = np.linspace(-0.1, 0.4, num=1*8*8*1).reshape([1, 8, 8, 1]) # a single 8 by 8 grayscale image\n",
    "in_channels, k_size, n_filt = 1, 5, 2\n",
    "\n",
    "weight_size = k_size*k_size*in_channels*n_filt\n",
    "bias_size = n_filt\n",
    "\n",
    "\n",
    "\n",
    "single_conv = ConvLayer2D(in_channels, k_size, n_filt, stride=1, padding=0, name=\"conv_test\")\n",
    "\n",
    "w = np.linspace(-0.2, 0.2, num=weight_size).reshape(k_size, k_size, in_channels, n_filt)\n",
    "b = np.linspace(-0.3, 0.3, num=bias_size)\n",
    "\n",
    "single_conv.params[single_conv.w_name] = w\n",
    "single_conv.params[single_conv.b_name] = b\n",
    "\n",
    "out = single_conv.forward(input_image)\n",
    "\n",
    "print(\"Received output shape: {}, Expected output shape: (1, 4, 4, 2)\".format(out.shape))\n",
    "\n",
    "correct_out = np.array([[\n",
    "   [[-0.03874312, 0.57000324],\n",
    "   [-0.03955296, 0.57081309],\n",
    "   [-0.04036281, 0.57162293],\n",
    "   [-0.04117266, 0.57243278]],\n",
    "\n",
    "  [[-0.0452219, 0.57648202],\n",
    "   [-0.04603175, 0.57729187],\n",
    "   [-0.04684159, 0.57810172],\n",
    "   [-0.04765144, 0.57891156]],\n",
    "\n",
    "  [[-0.05170068, 0.5829608 ],\n",
    "   [-0.05251053, 0.58377065],\n",
    "   [-0.05332038, 0.5845805 ],\n",
    "   [-0.05413022, 0.58539035]],\n",
    "\n",
    "  [[-0.05817946, 0.58943959],\n",
    "   [-0.05898931, 0.59024943],\n",
    "   [-0.05979916, 0.59105928],\n",
    "   [-0.06060901, 0.59186913]]]])\n",
    "\n",
    "# Compare your output with the above pre-computed ones. \n",
    "# The difference should not be larger than 1e-8\n",
    "print (\"Difference: \", rel_error(out, correct_out))"
   ]
  },
  {
   "cell_type": "markdown",
   "metadata": {
    "id": "8RoSbwVXBqPs"
   },
   "source": [
    "### Conv Layer Backward [5pts]\n",
    "\n",
    "Now complete the backward pass of a convolutional layer. Fill in the TODO block in the `backward` function of the ConvLayer2D class. Check you results with this code and expect differences of less than 1e-6."
   ]
  },
  {
   "cell_type": "code",
   "execution_count": null,
   "metadata": {
    "colab": {
     "base_uri": "https://localhost:8080/"
    },
    "executionInfo": {
     "elapsed": 6182,
     "status": "ok",
     "timestamp": 1644636898307,
     "user": {
      "displayName": "Shuvam Ghosal",
      "photoUrl": "https://lh3.googleusercontent.com/a-/AOh14Ggl_opQYXICfek7WwYGFNVZfIEdc8mxLeqoxEZn=s64",
      "userId": "08961952555119329655"
     },
     "user_tz": 480
    },
    "id": "t8cQij15BqPt",
    "outputId": "37ee21ca-0ef2-4121-b930-16498e495083"
   },
   "outputs": [
    {
     "name": "stdout",
     "output_type": "stream",
     "text": [
      "dimg Error:  2.3402979441578255e-08\n",
      "dw Error:  2.547508984587034e-09\n",
      "db Error:  5.429284799222169e-10\n",
      "dimg Shape:  (15, 8, 8, 3) (15, 8, 8, 3)\n"
     ]
    }
   ],
   "source": [
    "%reload_ext autoreload\n",
    "\n",
    "# Test the conv backward function\n",
    "img = np.random.randn(15, 8, 8, 3)\n",
    "w = np.random.randn(4, 4, 3, 12)\n",
    "b = np.random.randn(12)\n",
    "dout = np.random.randn(15, 4, 4, 12)\n",
    "\n",
    "single_conv = ConvLayer2D(input_channels=3, kernel_size=4, number_filters=12, stride=2, padding=1, name=\"conv_test\")\n",
    "single_conv.params[single_conv.w_name] = w\n",
    "single_conv.params[single_conv.b_name] = b\n",
    "\n",
    "dimg_num = eval_numerical_gradient_array(lambda x: single_conv.forward(img), img, dout)\n",
    "dw_num = eval_numerical_gradient_array(lambda w: single_conv.forward(img), w, dout)\n",
    "db_num = eval_numerical_gradient_array(lambda b: single_conv.forward(img), b, dout)\n",
    "\n",
    "out = single_conv.forward(img)\n",
    "\n",
    "dimg = single_conv.backward(dout)\n",
    "dw = single_conv.grads[single_conv.w_name]\n",
    "db = single_conv.grads[single_conv.b_name]\n",
    "\n",
    "# The error should be around 1e-8\n",
    "print(\"dimg Error: \", rel_error(dimg_num, dimg))\n",
    "# The errors should be around 1e-8\n",
    "print(\"dw Error: \", rel_error(dw_num, dw))\n",
    "print(\"db Error: \", rel_error(db_num, db))\n",
    "# The shapes should be same\n",
    "print(\"dimg Shape: \", dimg.shape, img.shape)"
   ]
  },
  {
   "cell_type": "markdown",
   "metadata": {
    "id": "oj_NzYQ6BqPv"
   },
   "source": [
    "## Max pooling Layer\n",
    "Now we will implement maxpooling layers, which can help to reduce the image size while preserving the overall structure of the image.\n",
    "\n",
    "### Forward Pass max pooling [5pts]\n",
    "Fill out the TODO block in the `forward` function of the MaxPoolingLayer class."
   ]
  },
  {
   "cell_type": "code",
   "execution_count": null,
   "metadata": {
    "colab": {
     "base_uri": "https://localhost:8080/"
    },
    "executionInfo": {
     "elapsed": 176,
     "status": "ok",
     "timestamp": 1644654926253,
     "user": {
      "displayName": "Shuvam Ghosal",
      "photoUrl": "https://lh3.googleusercontent.com/a-/AOh14Ggl_opQYXICfek7WwYGFNVZfIEdc8mxLeqoxEZn=s64",
      "userId": "08961952555119329655"
     },
     "user_tz": 480
    },
    "id": "zsm9vmJkBqPw",
    "outputId": "522dfb58-5dbc-427f-892f-6ef04c4f5528"
   },
   "outputs": [
    {
     "name": "stdout",
     "output_type": "stream",
     "text": [
      "Received output shape: (1, 3, 3, 1), Expected output shape: (1, 3, 3, 1)\n",
      "Difference:  1.8750000280978013e-08\n"
     ]
    }
   ],
   "source": [
    "# Test the convolutional forward function\n",
    "input_image = np.linspace(-0.1, 0.4, num=64).reshape([1, 8, 8, 1]) # a single 8 by 8 grayscale image\n",
    "\n",
    "maxpool= MaxPoolingLayer(pool_size=4, stride=2, name=\"maxpool_test\")\n",
    "out = maxpool.forward(input_image)\n",
    "\n",
    "print(\"Received output shape: {}, Expected output shape: (1, 3, 3, 1)\".format(out.shape))\n",
    "\n",
    "correct_out = np.array([[\n",
    "   [[0.11428571],\n",
    "   [0.13015873],\n",
    "   [0.14603175]],\n",
    "\n",
    "  [[0.24126984],\n",
    "   [0.25714286],\n",
    "   [0.27301587]],\n",
    "\n",
    "  [[0.36825397],\n",
    "   [0.38412698],\n",
    "   [0.4       ]]]])\n",
    "\n",
    "# Compare your output with the above pre-computed ones. \n",
    "# The difference should not be larger than 1e-8\n",
    "print (\"Difference: \", rel_error(out, correct_out))"
   ]
  },
  {
   "cell_type": "markdown",
   "metadata": {
    "id": "IkFrG-O-BqPw"
   },
   "source": [
    "### Backward Pass Max pooling [5pts]\n",
    "Fill out the `backward` function in the MaxPoolingLayer class."
   ]
  },
  {
   "cell_type": "code",
   "execution_count": null,
   "metadata": {
    "colab": {
     "base_uri": "https://localhost:8080/"
    },
    "executionInfo": {
     "elapsed": 1651,
     "status": "ok",
     "timestamp": 1644638111297,
     "user": {
      "displayName": "Shuvam Ghosal",
      "photoUrl": "https://lh3.googleusercontent.com/a-/AOh14Ggl_opQYXICfek7WwYGFNVZfIEdc8mxLeqoxEZn=s64",
      "userId": "08961952555119329655"
     },
     "user_tz": 480
    },
    "id": "q1oa_10DBqPx",
    "outputId": "ca262231-f441-4cef-8e3a-dfe0e3dc728d"
   },
   "outputs": [
    {
     "name": "stdout",
     "output_type": "stream",
     "text": [
      "dimg Error:  3.282400128757547e-12\n",
      "dimg Shape:  (15, 8, 8, 3) (15, 8, 8, 3)\n"
     ]
    }
   ],
   "source": [
    "img = np.random.randn(15, 8, 8, 3)\n",
    "\n",
    "dout = np.random.randn(15, 3, 3, 3)\n",
    "\n",
    "maxpool= MaxPoolingLayer(pool_size=4, stride=2, name=\"maxpool_test\")\n",
    "\n",
    "dimg_num = eval_numerical_gradient_array(lambda x: maxpool.forward(img), img, dout)\n",
    "\n",
    "out = maxpool.forward(img)\n",
    "dimg = maxpool.backward(dout)\n",
    "\n",
    "# The error should be around 1e-8\n",
    "print(\"dimg Error: \", rel_error(dimg_num, dimg))\n",
    "# The shapes should be same\n",
    "print(\"dimg Shape: \", dimg.shape, img.shape)"
   ]
  },
  {
   "cell_type": "markdown",
   "metadata": {
    "id": "BhnR8zgPBqPy"
   },
   "source": [
    "### Test a Small Fully Connected Network [3pts]\n",
    "Please find the `TestCNN` class in `lib/cnn/cnn_models.py`.\n",
    "Again you only need to complete few lines of code in the TODO block.\n",
    "Please design a Convolutional --> Maxpool --> flatten --> fc network where the shapes of parameters match the given shapes.\n",
    "Please insert the corresponding names you defined for each layer to param_name_w, and param_name_b respectively.\n",
    "Here you only modify the param_name part, the _w, and _b are automatically assigned during network setup."
   ]
  },
  {
   "cell_type": "code",
   "execution_count": null,
   "metadata": {
    "colab": {
     "base_uri": "https://localhost:8080/"
    },
    "executionInfo": {
     "elapsed": 793,
     "status": "ok",
     "timestamp": 1645077640515,
     "user": {
      "displayName": "Shuvam Ghosal",
      "photoUrl": "https://lh3.googleusercontent.com/a-/AOh14Ggl_opQYXICfek7WwYGFNVZfIEdc8mxLeqoxEZn=s64",
      "userId": "08961952555119329655"
     },
     "user_tz": 480
    },
    "id": "DUJQgBy-g9oU",
    "outputId": "87597f09-e66c-4129-a9dd-d55b78d91e1a"
   },
   "outputs": [
    {
     "name": "stdout",
     "output_type": "stream",
     "text": [
      "Testing initialization ... \n",
      "Passed!\n",
      "Testing test-time forward pass ... \n",
      "Passed!\n",
      "Testing the loss ...\n",
      "Passed!\n",
      "Testing the gradients (error should be no larger than 1e-6) ...\n",
      "conv1_b relative error: 3.95e-09\n",
      "conv1_w relative error: 9.10e-10\n",
      "fc1_b relative error: 9.76e-11\n",
      "fc1_w relative error: 3.89e-07\n"
     ]
    }
   ],
   "source": [
    "%reload_ext autoreload\n",
    "\n",
    "seed = 1234\n",
    "np.random.seed(seed=seed)\n",
    "\n",
    "model = TestCNN()\n",
    "loss_func = cross_entropy()\n",
    "\n",
    "B, H, W, iC = 4, 8, 8, 3 #batch, height, width, in_channels\n",
    "k = 3 #kernel size\n",
    "oC, Hi, O = 3, 27, 5 # out channels, Hidden Layer input, Output size\n",
    "std = 0.02\n",
    "x = np.random.randn(B,H,W,iC)\n",
    "y = np.random.randint(O, size=B)\n",
    "\n",
    "print (\"Testing initialization ... \")\n",
    "\n",
    "###################################################\n",
    "# TODO: param_name should be replaced accordingly  #\n",
    "###################################################\n",
    "w1_std = abs(model.net.get_params(\"conv1_w\").std() - std)\n",
    "b1 = model.net.get_params(\"conv1_b\").std()\n",
    "w2_std = abs(model.net.get_params(\"fc1_w\").std() - std)\n",
    "b2 = model.net.get_params(\"fc1_b\").std()\n",
    "###################################################\n",
    "#                END OF YOUR CODE                 #\n",
    "###################################################\n",
    "\n",
    "assert w1_std < std / 10, \"First layer weights do not seem right\"\n",
    "assert np.all(b1 == 0), \"First layer biases do not seem right\"\n",
    "assert w2_std < std / 10, \"Second layer weights do not seem right\"\n",
    "assert np.all(b2 == 0), \"Second layer biases do not seem right\"\n",
    "print (\"Passed!\")\n",
    "\n",
    "print (\"Testing test-time forward pass ... \")\n",
    "w1 = np.linspace(-0.7, 0.3, num=k*k*iC*oC).reshape(k,k,iC,oC)\n",
    "w2 = np.linspace(-0.2, 0.2, num=Hi*O).reshape(Hi, O)\n",
    "b1 = np.linspace(-0.6, 0.2, num=oC)\n",
    "b2 = np.linspace(-0.9, 0.1, num=O)\n",
    "\n",
    "###################################################\n",
    "# TODO: param_name should be replaced accordingly  #\n",
    "###################################################\n",
    "model.net.assign(\"conv1_w\", w1)\n",
    "model.net.assign(\"conv1_b\", b1)\n",
    "model.net.assign(\"fc1_w\", w2)\n",
    "model.net.assign(\"fc1_b\", b2)\n",
    "###################################################\n",
    "#                END OF YOUR CODE                 #\n",
    "###################################################\n",
    "\n",
    "feats = np.linspace(-5.5, 4.5, num=B*H*W*iC).reshape(B,H,W,iC)\n",
    "scores = model.forward(feats)\n",
    "correct_scores = np.asarray([[-13.85107294, -11.52845818,  -9.20584342,  -6.88322866,  -4.5606139 ],\n",
    " [-11.44514171, -10.21200524 , -8.97886878 , -7.74573231 , -6.51259584],\n",
    " [ -9.03921048,  -8.89555231 , -8.75189413 , -8.60823596,  -8.46457778],\n",
    " [ -6.63327925 , -7.57909937 , -8.52491949 , -9.4707396 , -10.41655972]])\n",
    "scores_diff = np.sum(np.abs(scores - correct_scores))\n",
    "assert scores_diff < 1e-6, \"Your implementation might be wrong!\"\n",
    "print (\"Passed!\")\n",
    "\n",
    "print (\"Testing the loss ...\",)\n",
    "y = np.asarray([0, 2, 1, 4])\n",
    "loss = loss_func.forward(scores, y)\n",
    "dLoss = loss_func.backward()\n",
    "correct_loss = 4.56046848799693\n",
    "assert abs(loss - correct_loss) < 1e-10, \"Your implementation might be wrong!\"\n",
    "print (\"Passed!\")\n",
    "\n",
    "print (\"Testing the gradients (error should be no larger than 1e-6) ...\")\n",
    "din = model.backward(dLoss)\n",
    "for layer in model.net.layers:\n",
    "    if not layer.params:\n",
    "        continue\n",
    "    for name in sorted(layer.grads):\n",
    "        f = lambda _: loss_func.forward(model.forward(feats), y)\n",
    "        grad_num = eval_numerical_gradient(f, layer.params[name], verbose=False)\n",
    "        print ('%s relative error: %.2e' % (name, rel_error(grad_num, layer.grads[name])))"
   ]
  },
  {
   "cell_type": "markdown",
   "metadata": {
    "id": "g6gtD5f8BqP0"
   },
   "source": [
    "### Training the Network [25pts]\n",
    "In this section, we defined a `SmallConvolutionalNetwork` class for you to fill in the TODO block in `lib/cnn/cnn_models.py`.\n",
    "\n",
    "Here please design a network with at most two convolutions and two maxpooling layers (you may use less).\n",
    "You can adjust the parameters for any layer, and include layers other than those listed above that you have implemented.\n",
    "You are also free to select any optimizer you have implemented (with any learning rate).\n",
    "\n",
    "Try to find a combination that is able to achieve 88% validation accuracy."
   ]
  },
  {
   "cell_type": "code",
   "execution_count": null,
   "metadata": {
    "id": "OLRydko6BqP0"
   },
   "outputs": [],
   "source": [
    "# Arrange the data\n",
    "data_dict = {\n",
    "    \"data_train\": (data[\"data_train\"], data[\"labels_train\"]),\n",
    "    \"data_val\": (data[\"data_val\"], data[\"labels_val\"]),\n",
    "    \"data_test\": (data[\"data_test\"], data[\"labels_test\"])\n",
    "}"
   ]
  },
  {
   "cell_type": "code",
   "execution_count": null,
   "metadata": {
    "colab": {
     "base_uri": "https://localhost:8080/"
    },
    "executionInfo": {
     "elapsed": 534,
     "status": "ok",
     "timestamp": 1645150963626,
     "user": {
      "displayName": "Shuvam Ghosal",
      "photoUrl": "https://lh3.googleusercontent.com/a-/AOh14Ggl_opQYXICfek7WwYGFNVZfIEdc8mxLeqoxEZn=s64",
      "userId": "08961952555119329655"
     },
     "user_tz": 480
    },
    "id": "gztgSGr5BqP1",
    "outputId": "2e86ad1d-5b70-4925-d746-17a937fdfcc8"
   },
   "outputs": [
    {
     "name": "stdout",
     "output_type": "stream",
     "text": [
      "Data shape: (70000, 32, 32, 3)\n",
      "Flattened data input size: 3072\n",
      "Number of data classes: 10\n"
     ]
    }
   ],
   "source": [
    "print(\"Data shape:\", data_dict[\"data_train\"][0].shape)\n",
    "print(\"Flattened data input size:\", np.prod(data[\"data_train\"].shape[1:]))\n",
    "print(\"Number of data classes:\", max(data['labels_train']) + 1)"
   ]
  },
  {
   "cell_type": "code",
   "execution_count": null,
   "metadata": {
    "colab": {
     "base_uri": "https://localhost:8080/"
    },
    "executionInfo": {
     "elapsed": 6888038,
     "status": "ok",
     "timestamp": 1645150641014,
     "user": {
      "displayName": "Shuvam Ghosal",
      "photoUrl": "https://lh3.googleusercontent.com/a-/AOh14Ggl_opQYXICfek7WwYGFNVZfIEdc8mxLeqoxEZn=s64",
      "userId": "08961952555119329655"
     },
     "user_tz": 480
    },
    "id": "GgSqZOZN4mD1",
    "outputId": "a81da55c-7396-4b7b-ed9b-affac7e99507"
   },
   "outputs": [
    {
     "name": "stdout",
     "output_type": "stream",
     "text": [
      "(Iteration 1 / 19683) loss: 2.3023428848991427\n",
      "(Iteration 101 / 19683) loss: 2.3391931528669536\n",
      "(Iteration 201 / 19683) loss: 2.201214278641702\n",
      "(Iteration 301 / 19683) loss: 2.191879327999933\n",
      "(Iteration 401 / 19683) loss: 1.983087150201709\n",
      "(Iteration 501 / 19683) loss: 1.7287080976330422\n",
      "(Iteration 601 / 19683) loss: 0.928436705771141\n",
      "(Iteration 701 / 19683) loss: 0.6283921500453737\n",
      "(Iteration 801 / 19683) loss: 0.788084753871011\n",
      "(Iteration 901 / 19683) loss: 0.9719606415263402\n",
      "(Iteration 1001 / 19683) loss: 0.7285693532098172\n",
      "(Iteration 1101 / 19683) loss: 0.6324929317876212\n",
      "(Iteration 1201 / 19683) loss: 0.6435949970666662\n",
      "(Iteration 1301 / 19683) loss: 0.48623180398109866\n",
      "(Iteration 1401 / 19683) loss: 0.7805064745916239\n",
      "(Iteration 1501 / 19683) loss: 0.612128030612862\n",
      "(Iteration 1601 / 19683) loss: 0.497270738553827\n",
      "(Iteration 1701 / 19683) loss: 0.5128987640754546\n",
      "(Iteration 1801 / 19683) loss: 0.6182506650396202\n",
      "(Iteration 1901 / 19683) loss: 0.9811210504012211\n",
      "(Iteration 2001 / 19683) loss: 0.6345126296913423\n",
      "(Iteration 2101 / 19683) loss: 0.4994158887939128\n",
      "(Epoch 1 / 9) Training Accuracy: 0.8516142857142858, Validation Accuracy: 0.8394227817009517\n",
      "(Iteration 2201 / 19683) loss: 0.3438269687034935\n",
      "(Iteration 2301 / 19683) loss: 0.7106777353531797\n",
      "(Iteration 2401 / 19683) loss: 0.4074735062617383\n",
      "(Iteration 2501 / 19683) loss: 0.6067908974091683\n",
      "(Iteration 2601 / 19683) loss: 0.7454383840492897\n",
      "(Iteration 2701 / 19683) loss: 0.40190886774760415\n",
      "(Iteration 2801 / 19683) loss: 0.19180478366429443\n",
      "(Iteration 2901 / 19683) loss: 0.2566873180095569\n",
      "(Iteration 3001 / 19683) loss: 0.5062101578190985\n",
      "(Iteration 3101 / 19683) loss: 0.4260404203533304\n",
      "(Iteration 3201 / 19683) loss: 0.5726092085603769\n",
      "(Iteration 3301 / 19683) loss: 0.3494931891075069\n",
      "(Iteration 3401 / 19683) loss: 0.44444143370277955\n",
      "(Iteration 3501 / 19683) loss: 0.9779841529360743\n",
      "(Iteration 3601 / 19683) loss: 0.9867456895155072\n",
      "(Iteration 3701 / 19683) loss: 0.2656611819675028\n",
      "(Iteration 3801 / 19683) loss: 0.7677377311144931\n",
      "(Iteration 3901 / 19683) loss: 0.31318465806449525\n",
      "(Iteration 4001 / 19683) loss: 0.3203034759723831\n",
      "(Iteration 4101 / 19683) loss: 0.08125136483667043\n",
      "(Iteration 4201 / 19683) loss: 0.654990235904786\n",
      "(Iteration 4301 / 19683) loss: 0.28462883387462096\n",
      "(Epoch 2 / 9) Training Accuracy: 0.8855714285714286, Validation Accuracy: 0.8756524408965306\n",
      "(Iteration 4401 / 19683) loss: 0.4128005691367279\n",
      "(Iteration 4501 / 19683) loss: 0.24683504610747078\n",
      "(Iteration 4601 / 19683) loss: 0.18177922432380778\n",
      "(Iteration 4701 / 19683) loss: 0.282290684689992\n",
      "(Iteration 4801 / 19683) loss: 0.7668516699528067\n",
      "(Iteration 4901 / 19683) loss: 0.2089439241432858\n",
      "(Iteration 5001 / 19683) loss: 0.39429844538223807\n",
      "(Iteration 5101 / 19683) loss: 0.44949063896021435\n",
      "(Iteration 5201 / 19683) loss: 0.6577703945148239\n",
      "(Iteration 5301 / 19683) loss: 0.34159346725455936\n",
      "(Iteration 5401 / 19683) loss: 0.5332512953074077\n",
      "(Iteration 5501 / 19683) loss: 0.4237320163738495\n",
      "(Iteration 5601 / 19683) loss: 0.7663751502523688\n",
      "(Iteration 5701 / 19683) loss: 0.44758607858946\n",
      "(Iteration 5801 / 19683) loss: 0.3583963065761051\n",
      "(Iteration 5901 / 19683) loss: 0.10921785477659582\n",
      "(Iteration 6001 / 19683) loss: 0.24636106977193678\n",
      "(Iteration 6101 / 19683) loss: 0.2690564801029443\n",
      "(Iteration 6201 / 19683) loss: 0.36171633616681886\n",
      "(Iteration 6301 / 19683) loss: 0.49118732798788967\n",
      "(Iteration 6401 / 19683) loss: 0.14418676567888716\n",
      "(Iteration 6501 / 19683) loss: 0.2567289924906576\n",
      "(Epoch 3 / 9) Training Accuracy: 0.8985285714285715, Validation Accuracy: 0.8839422781700952\n",
      "(Iteration 6601 / 19683) loss: 0.8281882849209099\n",
      "(Iteration 6701 / 19683) loss: 0.3736158039210048\n",
      "(Iteration 6801 / 19683) loss: 0.3687764708061198\n",
      "(Iteration 6901 / 19683) loss: 0.5538808159859437\n",
      "(Iteration 7001 / 19683) loss: 0.8189508330071033\n",
      "(Iteration 7101 / 19683) loss: 0.3653853773007065\n",
      "(Iteration 7201 / 19683) loss: 0.3551660838946671\n",
      "(Iteration 7301 / 19683) loss: 0.30818425637762614\n",
      "(Iteration 7401 / 19683) loss: 0.3274220225668739\n",
      "(Iteration 7501 / 19683) loss: 0.20100255461478028\n",
      "(Iteration 7601 / 19683) loss: 0.39393162413646987\n",
      "(Iteration 7701 / 19683) loss: 0.18114288849367133\n",
      "(Iteration 7801 / 19683) loss: 0.5540173834535375\n",
      "(Iteration 7901 / 19683) loss: 0.19894702044031784\n",
      "(Iteration 8001 / 19683) loss: 0.4220584104049038\n",
      "(Iteration 8101 / 19683) loss: 0.45677609903566097\n",
      "(Iteration 8201 / 19683) loss: 0.2312812566075669\n",
      "(Iteration 8301 / 19683) loss: 0.22398318004063522\n",
      "(Iteration 8401 / 19683) loss: 0.4009799315375309\n",
      "(Iteration 8501 / 19683) loss: 0.4608115467022681\n",
      "(Iteration 8601 / 19683) loss: 0.2505223730187921\n",
      "(Iteration 8701 / 19683) loss: 0.31263450808249793\n",
      "(Epoch 4 / 9) Training Accuracy: 0.9092142857142858, Validation Accuracy: 0.8854774332207553\n",
      "(Iteration 8801 / 19683) loss: 0.4439391369533947\n",
      "(Iteration 8901 / 19683) loss: 0.42239393869390823\n",
      "(Iteration 9001 / 19683) loss: 0.15033535302882345\n",
      "(Iteration 9101 / 19683) loss: 0.2896922421896354\n",
      "(Iteration 9201 / 19683) loss: 0.19175896760972844\n",
      "(Iteration 9301 / 19683) loss: 0.14364999146983337\n",
      "(Iteration 9401 / 19683) loss: 0.47037589685306513\n",
      "(Iteration 9501 / 19683) loss: 0.4040043198775256\n",
      "(Iteration 9601 / 19683) loss: 0.3505745573301754\n",
      "(Iteration 9701 / 19683) loss: 0.4880835798747402\n",
      "(Iteration 9801 / 19683) loss: 0.4579379750619306\n",
      "(Iteration 9901 / 19683) loss: 0.47839696590385206\n",
      "(Iteration 10001 / 19683) loss: 0.1459464334175498\n",
      "(Iteration 10101 / 19683) loss: 0.655278873716149\n",
      "(Iteration 10201 / 19683) loss: 0.09280151550824128\n",
      "(Iteration 10301 / 19683) loss: 0.16608988797778185\n",
      "(Iteration 10401 / 19683) loss: 0.19708604858733403\n",
      "(Iteration 10501 / 19683) loss: 0.3826836365323678\n",
      "(Iteration 10601 / 19683) loss: 0.3579883703263427\n",
      "(Iteration 10701 / 19683) loss: 0.1858983608080427\n",
      "(Iteration 10801 / 19683) loss: 0.4845717010692738\n",
      "(Iteration 10901 / 19683) loss: 0.46856677343788916\n",
      "(Epoch 5 / 9) Training Accuracy: 0.9213, Validation Accuracy: 0.8906969603929997\n",
      "(Iteration 11001 / 19683) loss: 0.22118173628182802\n",
      "(Iteration 11101 / 19683) loss: 0.2868479340959311\n",
      "(Iteration 11201 / 19683) loss: 0.2529952766720398\n",
      "(Iteration 11301 / 19683) loss: 0.14992382581148817\n",
      "(Iteration 11401 / 19683) loss: 0.31486175414808004\n",
      "(Iteration 11501 / 19683) loss: 0.38247826667393614\n",
      "(Iteration 11601 / 19683) loss: 0.23748405132061712\n",
      "(Iteration 11701 / 19683) loss: 0.7012944763478277\n",
      "(Iteration 11801 / 19683) loss: 0.1681923957431617\n",
      "(Iteration 11901 / 19683) loss: 1.1474433085459204\n",
      "(Iteration 12001 / 19683) loss: 0.32314359282663596\n",
      "(Iteration 12101 / 19683) loss: 0.24640869172850002\n",
      "(Iteration 12201 / 19683) loss: 0.1148804997533765\n",
      "(Iteration 12301 / 19683) loss: 0.18455154532610685\n",
      "(Iteration 12401 / 19683) loss: 0.3234328503546575\n",
      "(Iteration 12501 / 19683) loss: 0.30406657313979674\n",
      "(Iteration 12601 / 19683) loss: 0.20787968550344987\n",
      "(Iteration 12701 / 19683) loss: 0.30771098726745194\n",
      "(Iteration 12801 / 19683) loss: 0.14539926084608312\n",
      "(Iteration 12901 / 19683) loss: 0.2789405646059461\n",
      "(Iteration 13001 / 19683) loss: 0.3924401889116679\n",
      "(Iteration 13101 / 19683) loss: 0.2500849406375007\n",
      "(Epoch 6 / 9) Training Accuracy: 0.9316571428571429, Validation Accuracy: 0.8922321154436598\n",
      "(Iteration 13201 / 19683) loss: 0.050920249467583195\n",
      "(Iteration 13301 / 19683) loss: 0.17295420515678495\n",
      "(Iteration 13401 / 19683) loss: 0.18394548506031616\n",
      "(Iteration 13501 / 19683) loss: 0.10792379349721049\n",
      "(Iteration 13601 / 19683) loss: 0.09500762039702514\n",
      "(Iteration 13701 / 19683) loss: 0.12492287738476954\n",
      "(Iteration 13801 / 19683) loss: 0.3717488310930215\n",
      "(Iteration 13901 / 19683) loss: 0.062006090545136935\n",
      "(Iteration 14001 / 19683) loss: 0.14271317040641976\n",
      "(Iteration 14101 / 19683) loss: 0.1307608170809132\n",
      "(Iteration 14201 / 19683) loss: 0.33190549787283846\n",
      "(Iteration 14301 / 19683) loss: 0.1510753437039654\n",
      "(Iteration 14401 / 19683) loss: 0.0608291834566205\n",
      "(Iteration 14501 / 19683) loss: 0.3104887205595869\n",
      "(Iteration 14601 / 19683) loss: 0.4380108776991485\n",
      "(Iteration 14701 / 19683) loss: 0.21065005233763245\n",
      "(Iteration 14801 / 19683) loss: 0.39694253198664775\n",
      "(Iteration 14901 / 19683) loss: 0.12234473151571301\n",
      "(Iteration 15001 / 19683) loss: 0.22718038880867616\n",
      "(Iteration 15101 / 19683) loss: 0.0734861050832969\n",
      "(Iteration 15201 / 19683) loss: 0.10885579156993296\n",
      "(Iteration 15301 / 19683) loss: 0.3409825051313019\n",
      "(Epoch 7 / 9) Training Accuracy: 0.9375714285714286, Validation Accuracy: 0.8931532084740559\n",
      "(Iteration 15401 / 19683) loss: 0.04959504926823659\n",
      "(Iteration 15501 / 19683) loss: 0.24632400378226493\n",
      "(Iteration 15601 / 19683) loss: 0.0839581926862018\n",
      "(Iteration 15701 / 19683) loss: 0.06428448781995348\n",
      "(Iteration 15801 / 19683) loss: 0.22493074289752663\n",
      "(Iteration 15901 / 19683) loss: 0.038214732758593314\n",
      "(Iteration 16001 / 19683) loss: 0.39334824263728563\n",
      "(Iteration 16101 / 19683) loss: 0.33458817871458707\n",
      "(Iteration 16201 / 19683) loss: 0.21583794572654755\n",
      "(Iteration 16301 / 19683) loss: 0.3862186475634718\n",
      "(Iteration 16401 / 19683) loss: 0.26593700955003535\n",
      "(Iteration 16501 / 19683) loss: 0.12081951880000276\n",
      "(Iteration 16601 / 19683) loss: 0.4807347984430911\n",
      "(Iteration 16701 / 19683) loss: 0.154819570885022\n",
      "(Iteration 16801 / 19683) loss: 0.18582025300885668\n",
      "(Iteration 16901 / 19683) loss: 0.14388155072764391\n",
      "(Iteration 17001 / 19683) loss: 0.3115411367146217\n",
      "(Iteration 17101 / 19683) loss: 0.06625343428893282\n",
      "(Iteration 17201 / 19683) loss: 0.28319392470981375\n",
      "(Iteration 17301 / 19683) loss: 0.19859131560694382\n",
      "(Iteration 17401 / 19683) loss: 0.19773952337998552\n",
      "(Epoch 8 / 9) Training Accuracy: 0.9451571428571428, Validation Accuracy: 0.8968375805956401\n",
      "(Iteration 17501 / 19683) loss: 0.1596292721956941\n",
      "(Iteration 17601 / 19683) loss: 0.09199521815909957\n",
      "(Iteration 17701 / 19683) loss: 0.15031770970898217\n",
      "(Iteration 17801 / 19683) loss: 0.17742118640864354\n",
      "(Iteration 17901 / 19683) loss: 0.29450444386603347\n",
      "(Iteration 18001 / 19683) loss: 0.25630420942975507\n",
      "(Iteration 18101 / 19683) loss: 0.11711652814822322\n",
      "(Iteration 18201 / 19683) loss: 0.11317928208892165\n",
      "(Iteration 18301 / 19683) loss: 0.11636325526879425\n",
      "(Iteration 18401 / 19683) loss: 0.14968762205809827\n",
      "(Iteration 18501 / 19683) loss: 0.21752436090363483\n",
      "(Iteration 18601 / 19683) loss: 0.058439958299102666\n",
      "(Iteration 18701 / 19683) loss: 0.14630043740091178\n",
      "(Iteration 18801 / 19683) loss: 0.07074208342362757\n",
      "(Iteration 18901 / 19683) loss: 0.13231648490145087\n",
      "(Iteration 19001 / 19683) loss: 0.08961012370151626\n",
      "(Iteration 19101 / 19683) loss: 0.31510206831719023\n",
      "(Iteration 19201 / 19683) loss: 0.13104886262883214\n",
      "(Iteration 19301 / 19683) loss: 0.16863502922489115\n",
      "(Iteration 19401 / 19683) loss: 0.08581225760024964\n",
      "(Iteration 19501 / 19683) loss: 0.17159386309837002\n",
      "(Iteration 19601 / 19683) loss: 0.16050269305785272\n",
      "(Epoch 9 / 9) Training Accuracy: 0.9535, Validation Accuracy: 0.9017500767577525\n"
     ]
    }
   ],
   "source": [
    "%reload_ext autoreload\n",
    "\n",
    "seed = 123\n",
    "np.random.seed(seed=seed)\n",
    "\n",
    "model = SmallConvolutionalNetwork()\n",
    "loss_f = cross_entropy()\n",
    "\n",
    "\n",
    "results = None\n",
    "#############################################################################\n",
    "# TODO: Use the train_net function you completed to train a network         #\n",
    "#############################################################################\n",
    "optimizer = Adam(model.net, 5e-4)\n",
    "\n",
    "batch_size = 32\n",
    "epochs = 9\n",
    "lr_decay = .5\n",
    "lr_decay_every = 1000\n",
    "\n",
    "#############################################################################\n",
    "#                             END OF YOUR CODE                              #\n",
    "#############################################################################\n",
    "results = train_net(data_dict, model, loss_f, optimizer, batch_size, epochs, \n",
    "                    lr_decay, lr_decay_every, show_every=100, verbose=True)\n",
    "opt_params, loss_hist, train_acc_hist, val_acc_hist = results"
   ]
  },
  {
   "cell_type": "markdown",
   "metadata": {
    "id": "KgT0sVVVBqP2"
   },
   "source": [
    "Run the code below to generate the training plots."
   ]
  },
  {
   "cell_type": "code",
   "execution_count": null,
   "metadata": {
    "colab": {
     "base_uri": "https://localhost:8080/",
     "height": 730
    },
    "executionInfo": {
     "elapsed": 1406,
     "status": "ok",
     "timestamp": 1645150979232,
     "user": {
      "displayName": "Shuvam Ghosal",
      "photoUrl": "https://lh3.googleusercontent.com/a-/AOh14Ggl_opQYXICfek7WwYGFNVZfIEdc8mxLeqoxEZn=s64",
      "userId": "08961952555119329655"
     },
     "user_tz": 480
    },
    "id": "l8vEI7Gio7GH",
    "outputId": "fc7466ec-dbe9-4ac0-8cb2-cdaa169283a7"
   },
   "outputs": [
    {
     "data": {
      "image/png": "[encoded data removed]",
      "text/plain": [
       "<Figure size 1080x864 with 2 Axes>"
      ]
     },
     "metadata": {
      "needs_background": "light"
     },
     "output_type": "display_data"
    }
   ],
   "source": [
    "%reload_ext autoreload\n",
    "\n",
    "opt_params, loss_hist, train_acc_hist, val_acc_hist = results\n",
    "\n",
    "# Plot the learning curves\n",
    "plt.subplot(2, 1, 1)\n",
    "plt.title('Training loss')\n",
    "loss_hist_ = loss_hist[1::100]  # sparse the curve a bit\n",
    "plt.plot(loss_hist_, '-o')\n",
    "plt.xlabel('Iteration')\n",
    "\n",
    "plt.subplot(2, 1, 2)\n",
    "plt.title('Accuracy')\n",
    "plt.plot(train_acc_hist, '-o', label='Training')\n",
    "plt.plot(val_acc_hist, '-o', label='Validation')\n",
    "plt.xlabel('Epoch')\n",
    "plt.legend(loc='lower right')\n",
    "plt.gcf().set_size_inches(15, 12)\n",
    "\n",
    "plt.show()"
   ]
  },
  {
   "cell_type": "markdown",
   "metadata": {
    "id": "s-Nek2HIBqP3"
   },
   "source": [
    "### Visualizing Layers [5pts]\n",
    "\n",
    "An interesting finding from early research in convolutional networks was that the learned convolutions resembled filters used for things like edge detection. Complete the code below to visualize the filters in the first convolutional layer of your best model."
   ]
  },
  {
   "cell_type": "code",
   "execution_count": null,
   "metadata": {
    "colab": {
     "base_uri": "https://localhost:8080/",
     "height": 1000
    },
    "executionInfo": {
     "elapsed": 1078,
     "status": "ok",
     "timestamp": 1645151057600,
     "user": {
      "displayName": "Shuvam Ghosal",
      "photoUrl": "https://lh3.googleusercontent.com/a-/AOh14Ggl_opQYXICfek7WwYGFNVZfIEdc8mxLeqoxEZn=s64",
      "userId": "08961952555119329655"
     },
     "user_tz": 480
    },
    "id": "6hv7dm9rBqP4",
    "outputId": "3bd23f63-d4ef-45b0-978d-7a5868c8d6c8"
   },
   "outputs": [
    {
     "name": "stderr",
     "output_type": "stream",
     "text": [
      "Clipping input data to the valid range for imshow with RGB data ([0..1] for floats or [0..255] for integers).\n"
     ]
    },
    {
     "data": {
      "text/plain": [
       "<matplotlib.image.AxesImage at 0x7fd358d29910>"
      ]
     },
     "execution_count": 12,
     "metadata": {},
     "output_type": "execute_result"
    },
    {
     "data": {
      "image/png": "[encoded data removed]",
      "text/plain": [
       "<Figure size 1440x1440 with 1 Axes>"
      ]
     },
     "metadata": {
      "needs_background": "light"
     },
     "output_type": "display_data"
    }
   ],
   "source": [
    "im_array = None\n",
    "nrows, ncols = None, None\n",
    "\n",
    "###################################################\n",
    "# TODO: read the weights in the convolutional     #\n",
    "# layer and reshape them to a grid of images to   #\n",
    "# view with matplotlib.                           #\n",
    "###################################################\n",
    "filters = model.net.get_params(\"conv1_w\")\n",
    "nrows, ncols = filters.shape[-1] // 4, 4 \n",
    "h,w,c,n = filters.shape\n",
    "filters = filters.reshape(n,h,w,c)\n",
    "a = np.ones((n,1,w,c))\n",
    "x = np.concatenate((filters,a),axis=1)\n",
    "a = np.ones((n,x.shape[1],1,c))\n",
    "x = np.concatenate((a,x),axis=2)\n",
    "n,h,w,c = x.shape\n",
    "im_array = x.reshape(nrows,ncols,h,w,c).swapaxes(1,2).reshape(h*nrows, w*ncols,c)\n",
    "plt.figure(figsize=(20,20))\n",
    "###################################################\n",
    "#                END OF YOUR CODE                 #\n",
    "###################################################\n",
    "\n",
    "plt.imshow(im_array)"
   ]
  },
  {
   "cell_type": "markdown",
   "metadata": {
    "id": "DZWfjqB0BqP5"
   },
   "source": [
    "#### Inline Question: Comment below on what kinds of filters you see. Include your response in your submission [5pts]"
   ]
  },
  {
   "cell_type": "markdown",
   "metadata": {
    "id": "F3-c-c0LBqP5"
   },
   "source": [
    "The filters are mostly edge detection filters. Some of the filters might be trying to detect areas or edges in the corners, like top-left or bottom-right. Some are detecting the vertical as well as the diagonal edges in the input image, while the others may be attempting to identify edges or patches in any particular point of the image, like the center of the image. Moreover, I think there are some filters which are trying to learn some patterns pertaining to some digits, like a pattern resembling a portion of a particular digit."
   ]
  },
  {
   "cell_type": "markdown",
   "metadata": {
    "id": "n-CfeIbEBqP5"
   },
   "source": [
    "# Submission\n",
    "\n",
    "Please prepare a PDF document `problem_2_solution.pdf` in the root directory of this repository with all plots and inline answers of your solution. Concretely, the document should contain the following items in strict order:\n",
    "1. Training loss / accuracy curves for CNN training\n",
    "2. Visualization of convolutional filters\n",
    "3. Answers to inline questions about convolutional filters\n",
    "\n",
    "Note that you still need to submit the jupyter notebook with all generated solutions. We will randomly pick submissions and check that the plots in the PDF and in the notebook are equivalent."
   ]
  },
  {
   "cell_type": "code",
   "execution_count": null,
   "metadata": {
    "id": "jXo6mJM0WkbA"
   },
   "outputs": [],
   "source": []
  }
 ],
 "metadata": {
  "colab": {
   "collapsed_sections": [],
   "name": "Problem_2.ipynb",
   "provenance": []
  },
  "kernelspec": {
   "display_name": "Python 3",
   "language": "python",
   "name": "python3"
  },
  "language_info": {
   "codemirror_mode": {
    "name": "ipython",
    "version": 3
   },
   "file_extension": ".py",
   "mimetype": "text/x-python",
   "name": "python",
   "nbconvert_exporter": "python",
   "pygments_lexer": "ipython3",
   "version": "3.8.5"
  }
 },
 "nbformat": 4,
 "nbformat_minor": 1
}
